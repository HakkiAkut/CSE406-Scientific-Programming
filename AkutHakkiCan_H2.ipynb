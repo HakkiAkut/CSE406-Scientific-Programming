{
 "cells": [
  {
   "cell_type": "markdown",
   "id": "5700e807",
   "metadata": {},
   "source": [
    "Importing libraries"
   ]
  },
  {
   "cell_type": "code",
   "execution_count": 90,
   "id": "926277cc",
   "metadata": {},
   "outputs": [],
   "source": [
    "import pandas as pd\n",
    "import numpy as np\n",
    "import matplotlib.pyplot as plt"
   ]
  },
  {
   "cell_type": "markdown",
   "id": "fe614980",
   "metadata": {},
   "source": [
    "Importing dataset"
   ]
  },
  {
   "cell_type": "code",
   "execution_count": 91,
   "id": "2a853cde",
   "metadata": {},
   "outputs": [],
   "source": [
    "df = pd.read_csv('http://web.stanford.edu/class/cme193/uploads/co2_mm_mlo.txt', \n",
    "                  delim_whitespace=True, \n",
    "                  comment='#',\n",
    "                  names=[\"year\", \"month\", \"decdate\", \"co2\", \"co2interp\", \"trend\", \"days\"])\n",
    "\n",
    "pd.set_option('display.max_rows', 10)"
   ]
  },
  {
   "cell_type": "markdown",
   "id": "0e2b5c22",
   "metadata": {},
   "source": [
    "# Question 1 - Clean the data"
   ]
  },
  {
   "cell_type": "code",
   "execution_count": 92,
   "id": "4f7304f4",
   "metadata": {},
   "outputs": [
    {
     "data": {
      "text/html": [
       "<div>\n",
       "<style scoped>\n",
       "    .dataframe tbody tr th:only-of-type {\n",
       "        vertical-align: middle;\n",
       "    }\n",
       "\n",
       "    .dataframe tbody tr th {\n",
       "        vertical-align: top;\n",
       "    }\n",
       "\n",
       "    .dataframe thead th {\n",
       "        text-align: right;\n",
       "    }\n",
       "</style>\n",
       "<table border=\"1\" class=\"dataframe\">\n",
       "  <thead>\n",
       "    <tr style=\"text-align: right;\">\n",
       "      <th></th>\n",
       "      <th>year</th>\n",
       "      <th>month</th>\n",
       "      <th>decdate</th>\n",
       "      <th>co2</th>\n",
       "      <th>co2interp</th>\n",
       "      <th>trend</th>\n",
       "      <th>days</th>\n",
       "      <th>day</th>\n",
       "    </tr>\n",
       "  </thead>\n",
       "  <tbody>\n",
       "    <tr>\n",
       "      <th>0</th>\n",
       "      <td>1958</td>\n",
       "      <td>3</td>\n",
       "      <td>1958.208</td>\n",
       "      <td>315.71</td>\n",
       "      <td>315.71</td>\n",
       "      <td>314.62</td>\n",
       "      <td>-1</td>\n",
       "      <td>1</td>\n",
       "    </tr>\n",
       "    <tr>\n",
       "      <th>1</th>\n",
       "      <td>1958</td>\n",
       "      <td>4</td>\n",
       "      <td>1958.292</td>\n",
       "      <td>317.45</td>\n",
       "      <td>317.45</td>\n",
       "      <td>315.29</td>\n",
       "      <td>-1</td>\n",
       "      <td>1</td>\n",
       "    </tr>\n",
       "    <tr>\n",
       "      <th>2</th>\n",
       "      <td>1958</td>\n",
       "      <td>5</td>\n",
       "      <td>1958.375</td>\n",
       "      <td>317.50</td>\n",
       "      <td>317.50</td>\n",
       "      <td>314.71</td>\n",
       "      <td>-1</td>\n",
       "      <td>1</td>\n",
       "    </tr>\n",
       "    <tr>\n",
       "      <th>3</th>\n",
       "      <td>1958</td>\n",
       "      <td>6</td>\n",
       "      <td>1958.458</td>\n",
       "      <td>-99.99</td>\n",
       "      <td>317.10</td>\n",
       "      <td>314.85</td>\n",
       "      <td>-1</td>\n",
       "      <td>1</td>\n",
       "    </tr>\n",
       "    <tr>\n",
       "      <th>4</th>\n",
       "      <td>1958</td>\n",
       "      <td>7</td>\n",
       "      <td>1958.542</td>\n",
       "      <td>315.86</td>\n",
       "      <td>315.86</td>\n",
       "      <td>314.98</td>\n",
       "      <td>-1</td>\n",
       "      <td>1</td>\n",
       "    </tr>\n",
       "    <tr>\n",
       "      <th>...</th>\n",
       "      <td>...</td>\n",
       "      <td>...</td>\n",
       "      <td>...</td>\n",
       "      <td>...</td>\n",
       "      <td>...</td>\n",
       "      <td>...</td>\n",
       "      <td>...</td>\n",
       "      <td>...</td>\n",
       "    </tr>\n",
       "    <tr>\n",
       "      <th>740</th>\n",
       "      <td>2019</td>\n",
       "      <td>11</td>\n",
       "      <td>2019.875</td>\n",
       "      <td>410.27</td>\n",
       "      <td>410.27</td>\n",
       "      <td>412.27</td>\n",
       "      <td>25</td>\n",
       "      <td>1</td>\n",
       "    </tr>\n",
       "    <tr>\n",
       "      <th>741</th>\n",
       "      <td>2019</td>\n",
       "      <td>12</td>\n",
       "      <td>2019.958</td>\n",
       "      <td>411.76</td>\n",
       "      <td>411.76</td>\n",
       "      <td>412.44</td>\n",
       "      <td>31</td>\n",
       "      <td>1</td>\n",
       "    </tr>\n",
       "    <tr>\n",
       "      <th>742</th>\n",
       "      <td>2020</td>\n",
       "      <td>1</td>\n",
       "      <td>2020.042</td>\n",
       "      <td>413.40</td>\n",
       "      <td>413.40</td>\n",
       "      <td>413.08</td>\n",
       "      <td>29</td>\n",
       "      <td>1</td>\n",
       "    </tr>\n",
       "    <tr>\n",
       "      <th>743</th>\n",
       "      <td>2020</td>\n",
       "      <td>2</td>\n",
       "      <td>2020.125</td>\n",
       "      <td>414.11</td>\n",
       "      <td>414.11</td>\n",
       "      <td>413.26</td>\n",
       "      <td>28</td>\n",
       "      <td>1</td>\n",
       "    </tr>\n",
       "    <tr>\n",
       "      <th>744</th>\n",
       "      <td>2020</td>\n",
       "      <td>3</td>\n",
       "      <td>2020.208</td>\n",
       "      <td>414.50</td>\n",
       "      <td>414.50</td>\n",
       "      <td>413.03</td>\n",
       "      <td>26</td>\n",
       "      <td>1</td>\n",
       "    </tr>\n",
       "  </tbody>\n",
       "</table>\n",
       "<p>745 rows × 8 columns</p>\n",
       "</div>"
      ],
      "text/plain": [
       "     year  month   decdate     co2  co2interp   trend  days  day\n",
       "0    1958      3  1958.208  315.71     315.71  314.62    -1    1\n",
       "1    1958      4  1958.292  317.45     317.45  315.29    -1    1\n",
       "2    1958      5  1958.375  317.50     317.50  314.71    -1    1\n",
       "3    1958      6  1958.458  -99.99     317.10  314.85    -1    1\n",
       "4    1958      7  1958.542  315.86     315.86  314.98    -1    1\n",
       "..    ...    ...       ...     ...        ...     ...   ...  ...\n",
       "740  2019     11  2019.875  410.27     410.27  412.27    25    1\n",
       "741  2019     12  2019.958  411.76     411.76  412.44    31    1\n",
       "742  2020      1  2020.042  413.40     413.40  413.08    29    1\n",
       "743  2020      2  2020.125  414.11     414.11  413.26    28    1\n",
       "744  2020      3  2020.208  414.50     414.50  413.03    26    1\n",
       "\n",
       "[745 rows x 8 columns]"
      ]
     },
     "execution_count": 92,
     "metadata": {},
     "output_type": "execute_result"
    }
   ],
   "source": [
    "# YOUR CODE HERE (1 lines, but feel free to also print df if you'd like)\n",
    "df['day'] = np.ones(len(df),dtype=int)\n",
    "df"
   ]
  },
  {
   "cell_type": "markdown",
   "id": "37dc1c82",
   "metadata": {},
   "source": [
    "creating date column"
   ]
  },
  {
   "cell_type": "code",
   "execution_count": 93,
   "id": "cf087c95",
   "metadata": {},
   "outputs": [
    {
     "data": {
      "text/html": [
       "<div>\n",
       "<style scoped>\n",
       "    .dataframe tbody tr th:only-of-type {\n",
       "        vertical-align: middle;\n",
       "    }\n",
       "\n",
       "    .dataframe tbody tr th {\n",
       "        vertical-align: top;\n",
       "    }\n",
       "\n",
       "    .dataframe thead th {\n",
       "        text-align: right;\n",
       "    }\n",
       "</style>\n",
       "<table border=\"1\" class=\"dataframe\">\n",
       "  <thead>\n",
       "    <tr style=\"text-align: right;\">\n",
       "      <th></th>\n",
       "      <th>year</th>\n",
       "      <th>month</th>\n",
       "      <th>decdate</th>\n",
       "      <th>co2</th>\n",
       "      <th>co2interp</th>\n",
       "      <th>trend</th>\n",
       "      <th>days</th>\n",
       "      <th>day</th>\n",
       "      <th>date</th>\n",
       "    </tr>\n",
       "  </thead>\n",
       "  <tbody>\n",
       "    <tr>\n",
       "      <th>0</th>\n",
       "      <td>1958</td>\n",
       "      <td>3</td>\n",
       "      <td>1958.208</td>\n",
       "      <td>315.71</td>\n",
       "      <td>315.71</td>\n",
       "      <td>314.62</td>\n",
       "      <td>-1</td>\n",
       "      <td>1</td>\n",
       "      <td>1958-03-01</td>\n",
       "    </tr>\n",
       "    <tr>\n",
       "      <th>1</th>\n",
       "      <td>1958</td>\n",
       "      <td>4</td>\n",
       "      <td>1958.292</td>\n",
       "      <td>317.45</td>\n",
       "      <td>317.45</td>\n",
       "      <td>315.29</td>\n",
       "      <td>-1</td>\n",
       "      <td>1</td>\n",
       "      <td>1958-04-01</td>\n",
       "    </tr>\n",
       "    <tr>\n",
       "      <th>2</th>\n",
       "      <td>1958</td>\n",
       "      <td>5</td>\n",
       "      <td>1958.375</td>\n",
       "      <td>317.50</td>\n",
       "      <td>317.50</td>\n",
       "      <td>314.71</td>\n",
       "      <td>-1</td>\n",
       "      <td>1</td>\n",
       "      <td>1958-05-01</td>\n",
       "    </tr>\n",
       "    <tr>\n",
       "      <th>3</th>\n",
       "      <td>1958</td>\n",
       "      <td>6</td>\n",
       "      <td>1958.458</td>\n",
       "      <td>-99.99</td>\n",
       "      <td>317.10</td>\n",
       "      <td>314.85</td>\n",
       "      <td>-1</td>\n",
       "      <td>1</td>\n",
       "      <td>1958-06-01</td>\n",
       "    </tr>\n",
       "    <tr>\n",
       "      <th>4</th>\n",
       "      <td>1958</td>\n",
       "      <td>7</td>\n",
       "      <td>1958.542</td>\n",
       "      <td>315.86</td>\n",
       "      <td>315.86</td>\n",
       "      <td>314.98</td>\n",
       "      <td>-1</td>\n",
       "      <td>1</td>\n",
       "      <td>1958-07-01</td>\n",
       "    </tr>\n",
       "    <tr>\n",
       "      <th>...</th>\n",
       "      <td>...</td>\n",
       "      <td>...</td>\n",
       "      <td>...</td>\n",
       "      <td>...</td>\n",
       "      <td>...</td>\n",
       "      <td>...</td>\n",
       "      <td>...</td>\n",
       "      <td>...</td>\n",
       "      <td>...</td>\n",
       "    </tr>\n",
       "    <tr>\n",
       "      <th>740</th>\n",
       "      <td>2019</td>\n",
       "      <td>11</td>\n",
       "      <td>2019.875</td>\n",
       "      <td>410.27</td>\n",
       "      <td>410.27</td>\n",
       "      <td>412.27</td>\n",
       "      <td>25</td>\n",
       "      <td>1</td>\n",
       "      <td>2019-11-01</td>\n",
       "    </tr>\n",
       "    <tr>\n",
       "      <th>741</th>\n",
       "      <td>2019</td>\n",
       "      <td>12</td>\n",
       "      <td>2019.958</td>\n",
       "      <td>411.76</td>\n",
       "      <td>411.76</td>\n",
       "      <td>412.44</td>\n",
       "      <td>31</td>\n",
       "      <td>1</td>\n",
       "      <td>2019-12-01</td>\n",
       "    </tr>\n",
       "    <tr>\n",
       "      <th>742</th>\n",
       "      <td>2020</td>\n",
       "      <td>1</td>\n",
       "      <td>2020.042</td>\n",
       "      <td>413.40</td>\n",
       "      <td>413.40</td>\n",
       "      <td>413.08</td>\n",
       "      <td>29</td>\n",
       "      <td>1</td>\n",
       "      <td>2020-01-01</td>\n",
       "    </tr>\n",
       "    <tr>\n",
       "      <th>743</th>\n",
       "      <td>2020</td>\n",
       "      <td>2</td>\n",
       "      <td>2020.125</td>\n",
       "      <td>414.11</td>\n",
       "      <td>414.11</td>\n",
       "      <td>413.26</td>\n",
       "      <td>28</td>\n",
       "      <td>1</td>\n",
       "      <td>2020-02-01</td>\n",
       "    </tr>\n",
       "    <tr>\n",
       "      <th>744</th>\n",
       "      <td>2020</td>\n",
       "      <td>3</td>\n",
       "      <td>2020.208</td>\n",
       "      <td>414.50</td>\n",
       "      <td>414.50</td>\n",
       "      <td>413.03</td>\n",
       "      <td>26</td>\n",
       "      <td>1</td>\n",
       "      <td>2020-03-01</td>\n",
       "    </tr>\n",
       "  </tbody>\n",
       "</table>\n",
       "<p>745 rows × 9 columns</p>\n",
       "</div>"
      ],
      "text/plain": [
       "     year  month   decdate     co2  co2interp   trend  days  day       date\n",
       "0    1958      3  1958.208  315.71     315.71  314.62    -1    1 1958-03-01\n",
       "1    1958      4  1958.292  317.45     317.45  315.29    -1    1 1958-04-01\n",
       "2    1958      5  1958.375  317.50     317.50  314.71    -1    1 1958-05-01\n",
       "3    1958      6  1958.458  -99.99     317.10  314.85    -1    1 1958-06-01\n",
       "4    1958      7  1958.542  315.86     315.86  314.98    -1    1 1958-07-01\n",
       "..    ...    ...       ...     ...        ...     ...   ...  ...        ...\n",
       "740  2019     11  2019.875  410.27     410.27  412.27    25    1 2019-11-01\n",
       "741  2019     12  2019.958  411.76     411.76  412.44    31    1 2019-12-01\n",
       "742  2020      1  2020.042  413.40     413.40  413.08    29    1 2020-01-01\n",
       "743  2020      2  2020.125  414.11     414.11  413.26    28    1 2020-02-01\n",
       "744  2020      3  2020.208  414.50     414.50  413.03    26    1 2020-03-01\n",
       "\n",
       "[745 rows x 9 columns]"
      ]
     },
     "execution_count": 93,
     "metadata": {},
     "output_type": "execute_result"
    }
   ],
   "source": [
    "# YOUR CODE HERE (1 line)\n",
    "df['date'] = pd.to_datetime(df[['year', 'month','day']])\n",
    "df"
   ]
  },
  {
   "cell_type": "markdown",
   "id": "1ef860bb",
   "metadata": {},
   "source": [
    "dropping columns except date, co2, and trend "
   ]
  },
  {
   "cell_type": "code",
   "execution_count": 94,
   "id": "0cc98fd3",
   "metadata": {},
   "outputs": [
    {
     "data": {
      "text/html": [
       "<div>\n",
       "<style scoped>\n",
       "    .dataframe tbody tr th:only-of-type {\n",
       "        vertical-align: middle;\n",
       "    }\n",
       "\n",
       "    .dataframe tbody tr th {\n",
       "        vertical-align: top;\n",
       "    }\n",
       "\n",
       "    .dataframe thead th {\n",
       "        text-align: right;\n",
       "    }\n",
       "</style>\n",
       "<table border=\"1\" class=\"dataframe\">\n",
       "  <thead>\n",
       "    <tr style=\"text-align: right;\">\n",
       "      <th></th>\n",
       "      <th>co2</th>\n",
       "      <th>trend</th>\n",
       "      <th>date</th>\n",
       "    </tr>\n",
       "  </thead>\n",
       "  <tbody>\n",
       "    <tr>\n",
       "      <th>0</th>\n",
       "      <td>315.71</td>\n",
       "      <td>314.62</td>\n",
       "      <td>1958-03-01</td>\n",
       "    </tr>\n",
       "    <tr>\n",
       "      <th>1</th>\n",
       "      <td>317.45</td>\n",
       "      <td>315.29</td>\n",
       "      <td>1958-04-01</td>\n",
       "    </tr>\n",
       "    <tr>\n",
       "      <th>2</th>\n",
       "      <td>317.50</td>\n",
       "      <td>314.71</td>\n",
       "      <td>1958-05-01</td>\n",
       "    </tr>\n",
       "    <tr>\n",
       "      <th>3</th>\n",
       "      <td>-99.99</td>\n",
       "      <td>314.85</td>\n",
       "      <td>1958-06-01</td>\n",
       "    </tr>\n",
       "    <tr>\n",
       "      <th>4</th>\n",
       "      <td>315.86</td>\n",
       "      <td>314.98</td>\n",
       "      <td>1958-07-01</td>\n",
       "    </tr>\n",
       "    <tr>\n",
       "      <th>...</th>\n",
       "      <td>...</td>\n",
       "      <td>...</td>\n",
       "      <td>...</td>\n",
       "    </tr>\n",
       "    <tr>\n",
       "      <th>740</th>\n",
       "      <td>410.27</td>\n",
       "      <td>412.27</td>\n",
       "      <td>2019-11-01</td>\n",
       "    </tr>\n",
       "    <tr>\n",
       "      <th>741</th>\n",
       "      <td>411.76</td>\n",
       "      <td>412.44</td>\n",
       "      <td>2019-12-01</td>\n",
       "    </tr>\n",
       "    <tr>\n",
       "      <th>742</th>\n",
       "      <td>413.40</td>\n",
       "      <td>413.08</td>\n",
       "      <td>2020-01-01</td>\n",
       "    </tr>\n",
       "    <tr>\n",
       "      <th>743</th>\n",
       "      <td>414.11</td>\n",
       "      <td>413.26</td>\n",
       "      <td>2020-02-01</td>\n",
       "    </tr>\n",
       "    <tr>\n",
       "      <th>744</th>\n",
       "      <td>414.50</td>\n",
       "      <td>413.03</td>\n",
       "      <td>2020-03-01</td>\n",
       "    </tr>\n",
       "  </tbody>\n",
       "</table>\n",
       "<p>745 rows × 3 columns</p>\n",
       "</div>"
      ],
      "text/plain": [
       "        co2   trend       date\n",
       "0    315.71  314.62 1958-03-01\n",
       "1    317.45  315.29 1958-04-01\n",
       "2    317.50  314.71 1958-05-01\n",
       "3    -99.99  314.85 1958-06-01\n",
       "4    315.86  314.98 1958-07-01\n",
       "..      ...     ...        ...\n",
       "740  410.27  412.27 2019-11-01\n",
       "741  411.76  412.44 2019-12-01\n",
       "742  413.40  413.08 2020-01-01\n",
       "743  414.11  413.26 2020-02-01\n",
       "744  414.50  413.03 2020-03-01\n",
       "\n",
       "[745 rows x 3 columns]"
      ]
     },
     "execution_count": 94,
     "metadata": {},
     "output_type": "execute_result"
    }
   ],
   "source": [
    "# YOUR CODE HERE (1 line)\n",
    "df.drop(['year', 'month','decdate','co2interp','days','day'], axis = 1, inplace=True)\n",
    "df"
   ]
  },
  {
   "cell_type": "markdown",
   "id": "39630d11",
   "metadata": {},
   "source": [
    "Setting the index to date"
   ]
  },
  {
   "cell_type": "code",
   "execution_count": 95,
   "id": "f21933b4",
   "metadata": {},
   "outputs": [
    {
     "data": {
      "text/html": [
       "<div>\n",
       "<style scoped>\n",
       "    .dataframe tbody tr th:only-of-type {\n",
       "        vertical-align: middle;\n",
       "    }\n",
       "\n",
       "    .dataframe tbody tr th {\n",
       "        vertical-align: top;\n",
       "    }\n",
       "\n",
       "    .dataframe thead th {\n",
       "        text-align: right;\n",
       "    }\n",
       "</style>\n",
       "<table border=\"1\" class=\"dataframe\">\n",
       "  <thead>\n",
       "    <tr style=\"text-align: right;\">\n",
       "      <th></th>\n",
       "      <th>co2</th>\n",
       "      <th>trend</th>\n",
       "    </tr>\n",
       "    <tr>\n",
       "      <th>date</th>\n",
       "      <th></th>\n",
       "      <th></th>\n",
       "    </tr>\n",
       "  </thead>\n",
       "  <tbody>\n",
       "    <tr>\n",
       "      <th>1958-03-01</th>\n",
       "      <td>315.71</td>\n",
       "      <td>314.62</td>\n",
       "    </tr>\n",
       "    <tr>\n",
       "      <th>1958-04-01</th>\n",
       "      <td>317.45</td>\n",
       "      <td>315.29</td>\n",
       "    </tr>\n",
       "    <tr>\n",
       "      <th>1958-05-01</th>\n",
       "      <td>317.50</td>\n",
       "      <td>314.71</td>\n",
       "    </tr>\n",
       "    <tr>\n",
       "      <th>1958-06-01</th>\n",
       "      <td>-99.99</td>\n",
       "      <td>314.85</td>\n",
       "    </tr>\n",
       "    <tr>\n",
       "      <th>1958-07-01</th>\n",
       "      <td>315.86</td>\n",
       "      <td>314.98</td>\n",
       "    </tr>\n",
       "    <tr>\n",
       "      <th>...</th>\n",
       "      <td>...</td>\n",
       "      <td>...</td>\n",
       "    </tr>\n",
       "    <tr>\n",
       "      <th>2019-11-01</th>\n",
       "      <td>410.27</td>\n",
       "      <td>412.27</td>\n",
       "    </tr>\n",
       "    <tr>\n",
       "      <th>2019-12-01</th>\n",
       "      <td>411.76</td>\n",
       "      <td>412.44</td>\n",
       "    </tr>\n",
       "    <tr>\n",
       "      <th>2020-01-01</th>\n",
       "      <td>413.40</td>\n",
       "      <td>413.08</td>\n",
       "    </tr>\n",
       "    <tr>\n",
       "      <th>2020-02-01</th>\n",
       "      <td>414.11</td>\n",
       "      <td>413.26</td>\n",
       "    </tr>\n",
       "    <tr>\n",
       "      <th>2020-03-01</th>\n",
       "      <td>414.50</td>\n",
       "      <td>413.03</td>\n",
       "    </tr>\n",
       "  </tbody>\n",
       "</table>\n",
       "<p>745 rows × 2 columns</p>\n",
       "</div>"
      ],
      "text/plain": [
       "               co2   trend\n",
       "date                      \n",
       "1958-03-01  315.71  314.62\n",
       "1958-04-01  317.45  315.29\n",
       "1958-05-01  317.50  314.71\n",
       "1958-06-01  -99.99  314.85\n",
       "1958-07-01  315.86  314.98\n",
       "...            ...     ...\n",
       "2019-11-01  410.27  412.27\n",
       "2019-12-01  411.76  412.44\n",
       "2020-01-01  413.40  413.08\n",
       "2020-02-01  414.11  413.26\n",
       "2020-03-01  414.50  413.03\n",
       "\n",
       "[745 rows x 2 columns]"
      ]
     },
     "execution_count": 95,
     "metadata": {},
     "output_type": "execute_result"
    }
   ],
   "source": [
    "# YOUR CODE HERE (1 line)\n",
    "df.set_index('date',inplace= True)\n",
    "df"
   ]
  },
  {
   "cell_type": "markdown",
   "id": "1d3500e1",
   "metadata": {},
   "source": [
    "plotting the data"
   ]
  },
  {
   "cell_type": "code",
   "execution_count": 96,
   "id": "48c78eb3",
   "metadata": {},
   "outputs": [
    {
     "data": {
      "text/plain": [
       "<AxesSubplot:xlabel='date'>"
      ]
     },
     "execution_count": 96,
     "metadata": {},
     "output_type": "execute_result"
    },
    {
     "data": {
      "image/png": "[encoded data removed]",
      "text/plain": [
       "<Figure size 432x288 with 1 Axes>"
      ]
     },
     "metadata": {
      "needs_background": "light"
     },
     "output_type": "display_data"
    }
   ],
   "source": [
    "# YOUR CODE HERE (1 line)\n",
    "df.plot() # missing data shown as -100"
   ]
  },
  {
   "cell_type": "markdown",
   "id": "f21cc7b7",
   "metadata": {},
   "source": [
    "changing missing values to None"
   ]
  },
  {
   "cell_type": "code",
   "execution_count": 97,
   "id": "7614135c",
   "metadata": {},
   "outputs": [],
   "source": [
    "# YOUR CODE HERE (1 line)\n",
    "df= df.replace(-99.99, np.nan) # since interpolate() functions fills NaN values, I replaced np.nan rather than None"
   ]
  },
  {
   "cell_type": "markdown",
   "id": "0c3167c4",
   "metadata": {},
   "source": [
    "intepolating missing values"
   ]
  },
  {
   "cell_type": "code",
   "execution_count": 98,
   "id": "346bd2da",
   "metadata": {},
   "outputs": [],
   "source": [
    "# YOUR CODE HERE (1 line)\n",
    "df.interpolate(inplace=True)"
   ]
  },
  {
   "cell_type": "markdown",
   "id": "1a381a71",
   "metadata": {},
   "source": [
    "Plotting the data again"
   ]
  },
  {
   "cell_type": "code",
   "execution_count": 99,
   "id": "4412f538",
   "metadata": {},
   "outputs": [
    {
     "data": {
      "text/plain": [
       "<AxesSubplot:xlabel='date'>"
      ]
     },
     "execution_count": 99,
     "metadata": {},
     "output_type": "execute_result"
    },
    {
     "data": {
      "image/png": "[encoded data removed]",
      "text/plain": [
       "<Figure size 432x288 with 1 Axes>"
      ]
     },
     "metadata": {
      "needs_background": "light"
     },
     "output_type": "display_data"
    }
   ],
   "source": [
    "# YOUR CODE HERE (1 line)\n",
    "df.plot() # yes, it's solved"
   ]
  },
  {
   "cell_type": "markdown",
   "id": "00eceeb7",
   "metadata": {},
   "source": [
    "Saving the above plot as qsn1.png"
   ]
  },
  {
   "cell_type": "code",
   "execution_count": 100,
   "id": "d486955f",
   "metadata": {},
   "outputs": [
    {
     "data": {
      "image/png": "[encoded data removed]",
      "text/plain": [
       "<Figure size 432x288 with 1 Axes>"
      ]
     },
     "metadata": {
      "needs_background": "light"
     },
     "output_type": "display_data"
    }
   ],
   "source": [
    "# YOUR CODE HERE (1 line)\n",
    "df['2008':].plot().figure.savefig(\"qsn1.png\")"
   ]
  },
  {
   "cell_type": "markdown",
   "id": "4b3877c0",
   "metadata": {},
   "source": [
    "# Question 2 - Fit a curve"
   ]
  },
  {
   "cell_type": "markdown",
   "id": "7854fe20",
   "metadata": {},
   "source": [
    "Creating float_time column"
   ]
  },
  {
   "cell_type": "code",
   "execution_count": 101,
   "id": "9a770890",
   "metadata": {},
   "outputs": [
    {
     "data": {
      "text/html": [
       "<div>\n",
       "<style scoped>\n",
       "    .dataframe tbody tr th:only-of-type {\n",
       "        vertical-align: middle;\n",
       "    }\n",
       "\n",
       "    .dataframe tbody tr th {\n",
       "        vertical-align: top;\n",
       "    }\n",
       "\n",
       "    .dataframe thead th {\n",
       "        text-align: right;\n",
       "    }\n",
       "</style>\n",
       "<table border=\"1\" class=\"dataframe\">\n",
       "  <thead>\n",
       "    <tr style=\"text-align: right;\">\n",
       "      <th></th>\n",
       "      <th>co2</th>\n",
       "      <th>trend</th>\n",
       "      <th>float_time</th>\n",
       "    </tr>\n",
       "    <tr>\n",
       "      <th>date</th>\n",
       "      <th></th>\n",
       "      <th></th>\n",
       "      <th></th>\n",
       "    </tr>\n",
       "  </thead>\n",
       "  <tbody>\n",
       "    <tr>\n",
       "      <th>1958-03-01</th>\n",
       "      <td>315.71</td>\n",
       "      <td>314.62</td>\n",
       "      <td>1958.25</td>\n",
       "    </tr>\n",
       "    <tr>\n",
       "      <th>1958-04-01</th>\n",
       "      <td>317.45</td>\n",
       "      <td>315.29</td>\n",
       "      <td>1958.33</td>\n",
       "    </tr>\n",
       "    <tr>\n",
       "      <th>1958-05-01</th>\n",
       "      <td>317.50</td>\n",
       "      <td>314.71</td>\n",
       "      <td>1958.42</td>\n",
       "    </tr>\n",
       "    <tr>\n",
       "      <th>1958-06-01</th>\n",
       "      <td>316.68</td>\n",
       "      <td>314.85</td>\n",
       "      <td>1958.50</td>\n",
       "    </tr>\n",
       "    <tr>\n",
       "      <th>1958-07-01</th>\n",
       "      <td>315.86</td>\n",
       "      <td>314.98</td>\n",
       "      <td>1958.58</td>\n",
       "    </tr>\n",
       "    <tr>\n",
       "      <th>...</th>\n",
       "      <td>...</td>\n",
       "      <td>...</td>\n",
       "      <td>...</td>\n",
       "    </tr>\n",
       "    <tr>\n",
       "      <th>2019-11-01</th>\n",
       "      <td>410.27</td>\n",
       "      <td>412.27</td>\n",
       "      <td>2019.92</td>\n",
       "    </tr>\n",
       "    <tr>\n",
       "      <th>2019-12-01</th>\n",
       "      <td>411.76</td>\n",
       "      <td>412.44</td>\n",
       "      <td>2020.00</td>\n",
       "    </tr>\n",
       "    <tr>\n",
       "      <th>2020-01-01</th>\n",
       "      <td>413.40</td>\n",
       "      <td>413.08</td>\n",
       "      <td>2020.08</td>\n",
       "    </tr>\n",
       "    <tr>\n",
       "      <th>2020-02-01</th>\n",
       "      <td>414.11</td>\n",
       "      <td>413.26</td>\n",
       "      <td>2020.17</td>\n",
       "    </tr>\n",
       "    <tr>\n",
       "      <th>2020-03-01</th>\n",
       "      <td>414.50</td>\n",
       "      <td>413.03</td>\n",
       "      <td>2020.25</td>\n",
       "    </tr>\n",
       "  </tbody>\n",
       "</table>\n",
       "<p>745 rows × 3 columns</p>\n",
       "</div>"
      ],
      "text/plain": [
       "               co2   trend  float_time\n",
       "date                                  \n",
       "1958-03-01  315.71  314.62     1958.25\n",
       "1958-04-01  317.45  315.29     1958.33\n",
       "1958-05-01  317.50  314.71     1958.42\n",
       "1958-06-01  316.68  314.85     1958.50\n",
       "1958-07-01  315.86  314.98     1958.58\n",
       "...            ...     ...         ...\n",
       "2019-11-01  410.27  412.27     2019.92\n",
       "2019-12-01  411.76  412.44     2020.00\n",
       "2020-01-01  413.40  413.08     2020.08\n",
       "2020-02-01  414.11  413.26     2020.17\n",
       "2020-03-01  414.50  413.03     2020.25\n",
       "\n",
       "[745 rows x 3 columns]"
      ]
     },
     "execution_count": 101,
     "metadata": {},
     "output_type": "execute_result"
    }
   ],
   "source": [
    "# YOUR CODE HERE (1 line)\n",
    "df['float_time'] = [round(x,2) for x in (df.index.year + (df.index.month)/12)]\n",
    "df"
   ]
  },
  {
   "cell_type": "markdown",
   "id": "7956aeb0",
   "metadata": {},
   "source": [
    "Creating a function to represent the curve which fits this curve to the trend column in the dataset"
   ]
  },
  {
   "cell_type": "code",
   "execution_count": 102,
   "id": "09de472c",
   "metadata": {},
   "outputs": [],
   "source": [
    "# YOUR CODE HERE (2 lines)\n",
    "def represent_curve(t,a=261,b=20.1,c= 0.01685):\n",
    "    return a + b* np.exp(c*(t-1900))"
   ]
  },
  {
   "cell_type": "markdown",
   "id": "bf286508",
   "metadata": {},
   "source": [
    "Importing scipy optimize library"
   ]
  },
  {
   "cell_type": "code",
   "execution_count": 103,
   "id": "c5c55886",
   "metadata": {},
   "outputs": [],
   "source": [
    "import scipy.optimize as opt"
   ]
  },
  {
   "cell_type": "markdown",
   "id": "32c3be02",
   "metadata": {},
   "source": [
    "Plotting function's curve and trend column to find better fit"
   ]
  },
  {
   "cell_type": "code",
   "execution_count": 104,
   "id": "3d5cd4b4",
   "metadata": {},
   "outputs": [
    {
     "data": {
      "text/plain": [
       "[<matplotlib.lines.Line2D at 0x20cd4991810>,\n",
       " <matplotlib.lines.Line2D at 0x20cd49b30d0>]"
      ]
     },
     "execution_count": 104,
     "metadata": {},
     "output_type": "execute_result"
    },
    {
     "data": {
      "image/png": "[encoded data removed]",
      "text/plain": [
       "<Figure size 432x288 with 1 Axes>"
      ]
     },
     "metadata": {
      "needs_background": "light"
     },
     "output_type": "display_data"
    }
   ],
   "source": [
    "# YOUR CODE HERE (1 line)\n",
    "plt.plot(df.index, df['trend'],represent_curve(df['float_time'],261,20.1, 0.01685))"
   ]
  },
  {
   "cell_type": "markdown",
   "id": "ddf8c8f0",
   "metadata": {},
   "source": [
    "Creating a new column called curve_fit"
   ]
  },
  {
   "cell_type": "code",
   "execution_count": 105,
   "id": "2e2e7ee6",
   "metadata": {},
   "outputs": [],
   "source": [
    "# YOUR CODE HERE (1 line)\n",
    "df['curve_fit'] = represent_curve(df['float_time'])"
   ]
  },
  {
   "cell_type": "markdown",
   "id": "3c54dcbb",
   "metadata": {},
   "source": [
    "Save the plot as qsn2.png"
   ]
  },
  {
   "cell_type": "code",
   "execution_count": 106,
   "id": "fed41997",
   "metadata": {
    "scrolled": false
   },
   "outputs": [
    {
     "data": {
      "image/png": "[encoded data removed]",
      "text/plain": [
       "<Figure size 432x288 with 1 Axes>"
      ]
     },
     "metadata": {
      "needs_background": "light"
     },
     "output_type": "display_data"
    }
   ],
   "source": [
    "df[['trend','curve_fit']].plot().figure.savefig(\"qsn2.png\")"
   ]
  },
  {
   "cell_type": "markdown",
   "id": "331620d8",
   "metadata": {},
   "source": [
    "# Question 3 - Make a prediction"
   ]
  },
  {
   "cell_type": "markdown",
   "id": "9798ef01",
   "metadata": {},
   "source": [
    "Finding the date that the curve cross the 500ppm threshold mark"
   ]
  },
  {
   "cell_type": "code",
   "execution_count": 107,
   "id": "2696902d",
   "metadata": {},
   "outputs": [
    {
     "data": {
      "text/plain": [
       "2046.93"
      ]
     },
     "execution_count": 107,
     "metadata": {},
     "output_type": "execute_result"
    }
   ],
   "source": [
    "# YOUR CODE HERE (1 line)\n",
    "cross_year = round(opt.fsolve(lambda t: represent_curve(t) - 500 ,1)[0],2)\n",
    "cross_year"
   ]
  },
  {
   "cell_type": "markdown",
   "id": "eb333b40",
   "metadata": {},
   "source": [
    "plotting the curve_fit until 500ppm and actual trend, then save it as qsn3.png"
   ]
  },
  {
   "cell_type": "code",
   "execution_count": 108,
   "id": "9a88aadd",
   "metadata": {},
   "outputs": [
    {
     "data": {
      "image/png": "[encoded data removed]",
      "text/plain": [
       "<Figure size 432x288 with 1 Axes>"
      ]
     },
     "metadata": {
      "needs_background": "light"
     },
     "output_type": "display_data"
    }
   ],
   "source": [
    "# YOUR CODE HERE (~4 lines)\n",
    "t= np.linspace(df['float_time'][0],cross_year)\n",
    "plt.plot(df['float_time'],df['trend'],t,represent_curve(t))\n",
    "plt.legend(['co2 trend','estimated'])\n",
    "plt.savefig('qsn3.png')"
   ]
  },
  {
   "cell_type": "markdown",
   "id": "33750ca0",
   "metadata": {},
   "source": [
    "# Question 4 - Explain the variation"
   ]
  },
  {
   "cell_type": "markdown",
   "id": "f377810a",
   "metadata": {},
   "source": [
    "Importing dataset"
   ]
  },
  {
   "cell_type": "code",
   "execution_count": 109,
   "id": "c8630dae",
   "metadata": {},
   "outputs": [
    {
     "data": {
      "text/html": [
       "<div>\n",
       "<style scoped>\n",
       "    .dataframe tbody tr th:only-of-type {\n",
       "        vertical-align: middle;\n",
       "    }\n",
       "\n",
       "    .dataframe tbody tr th {\n",
       "        vertical-align: top;\n",
       "    }\n",
       "\n",
       "    .dataframe thead th {\n",
       "        text-align: right;\n",
       "    }\n",
       "</style>\n",
       "<table border=\"1\" class=\"dataframe\">\n",
       "  <thead>\n",
       "    <tr style=\"text-align: right;\">\n",
       "      <th></th>\n",
       "      <th>SEAS</th>\n",
       "      <th>YR</th>\n",
       "      <th>TOTAL</th>\n",
       "      <th>ANOM</th>\n",
       "    </tr>\n",
       "  </thead>\n",
       "  <tbody>\n",
       "    <tr>\n",
       "      <th>0</th>\n",
       "      <td>DJF</td>\n",
       "      <td>1950</td>\n",
       "      <td>24.72</td>\n",
       "      <td>-1.53</td>\n",
       "    </tr>\n",
       "    <tr>\n",
       "      <th>1</th>\n",
       "      <td>JFM</td>\n",
       "      <td>1950</td>\n",
       "      <td>25.17</td>\n",
       "      <td>-1.34</td>\n",
       "    </tr>\n",
       "    <tr>\n",
       "      <th>2</th>\n",
       "      <td>FMA</td>\n",
       "      <td>1950</td>\n",
       "      <td>25.75</td>\n",
       "      <td>-1.16</td>\n",
       "    </tr>\n",
       "    <tr>\n",
       "      <th>3</th>\n",
       "      <td>MAM</td>\n",
       "      <td>1950</td>\n",
       "      <td>26.12</td>\n",
       "      <td>-1.18</td>\n",
       "    </tr>\n",
       "    <tr>\n",
       "      <th>4</th>\n",
       "      <td>AMJ</td>\n",
       "      <td>1950</td>\n",
       "      <td>26.32</td>\n",
       "      <td>-1.07</td>\n",
       "    </tr>\n",
       "    <tr>\n",
       "      <th>...</th>\n",
       "      <td>...</td>\n",
       "      <td>...</td>\n",
       "      <td>...</td>\n",
       "      <td>...</td>\n",
       "    </tr>\n",
       "    <tr>\n",
       "      <th>858</th>\n",
       "      <td>JJA</td>\n",
       "      <td>2021</td>\n",
       "      <td>26.90</td>\n",
       "      <td>-0.39</td>\n",
       "    </tr>\n",
       "    <tr>\n",
       "      <th>859</th>\n",
       "      <td>JAS</td>\n",
       "      <td>2021</td>\n",
       "      <td>26.47</td>\n",
       "      <td>-0.49</td>\n",
       "    </tr>\n",
       "    <tr>\n",
       "      <th>860</th>\n",
       "      <td>ASO</td>\n",
       "      <td>2021</td>\n",
       "      <td>26.09</td>\n",
       "      <td>-0.67</td>\n",
       "    </tr>\n",
       "    <tr>\n",
       "      <th>861</th>\n",
       "      <td>SON</td>\n",
       "      <td>2021</td>\n",
       "      <td>25.90</td>\n",
       "      <td>-0.82</td>\n",
       "    </tr>\n",
       "    <tr>\n",
       "      <th>862</th>\n",
       "      <td>OND</td>\n",
       "      <td>2021</td>\n",
       "      <td>25.69</td>\n",
       "      <td>-0.98</td>\n",
       "    </tr>\n",
       "  </tbody>\n",
       "</table>\n",
       "<p>863 rows × 4 columns</p>\n",
       "</div>"
      ],
      "text/plain": [
       "    SEAS    YR  TOTAL  ANOM\n",
       "0    DJF  1950  24.72 -1.53\n",
       "1    JFM  1950  25.17 -1.34\n",
       "2    FMA  1950  25.75 -1.16\n",
       "3    MAM  1950  26.12 -1.18\n",
       "4    AMJ  1950  26.32 -1.07\n",
       "..   ...   ...    ...   ...\n",
       "858  JJA  2021  26.90 -0.39\n",
       "859  JAS  2021  26.47 -0.49\n",
       "860  ASO  2021  26.09 -0.67\n",
       "861  SON  2021  25.90 -0.82\n",
       "862  OND  2021  25.69 -0.98\n",
       "\n",
       "[863 rows x 4 columns]"
      ]
     },
     "execution_count": 109,
     "metadata": {},
     "output_type": "execute_result"
    }
   ],
   "source": [
    "oni_df = pd.read_csv('http://web.stanford.edu/class/cme193/uploads/oni.ascii.txt', \n",
    "                  delim_whitespace=True)\n",
    "\n",
    "oni_df"
   ]
  },
  {
   "cell_type": "markdown",
   "id": "c88639ad",
   "metadata": {},
   "source": [
    "creating co2_variation column"
   ]
  },
  {
   "cell_type": "code",
   "execution_count": 110,
   "id": "ff16c0a8",
   "metadata": {
    "scrolled": true
   },
   "outputs": [
    {
     "data": {
      "text/plain": [
       "[<matplotlib.lines.Line2D at 0x20cd4ae41c0>]"
      ]
     },
     "execution_count": 110,
     "metadata": {},
     "output_type": "execute_result"
    },
    {
     "data": {
      "image/png": "[encoded data removed]",
      "text/plain": [
       "<Figure size 432x288 with 1 Axes>"
      ]
     },
     "metadata": {
      "needs_background": "light"
     },
     "output_type": "display_data"
    }
   ],
   "source": [
    "df[\"co2_variation\"] = df[\"trend\"]-df[\"curve_fit\"] \n",
    "plt.plot(df[\"co2_variation\"],)"
   ]
  },
  {
   "cell_type": "markdown",
   "id": "7edbc2db",
   "metadata": {},
   "source": [
    " finding a common set of dates between the datasets"
   ]
  },
  {
   "cell_type": "code",
   "execution_count": 111,
   "id": "5b21bafd",
   "metadata": {},
   "outputs": [],
   "source": [
    "df_sub =df # 1958-03-01 to 2020-03-01\n",
    "oni_df_sub= oni_df[98:843] # 98-842 => FMA 1958 FMA 2020"
   ]
  },
  {
   "cell_type": "markdown",
   "id": "cc941960",
   "metadata": {},
   "source": [
    "The below output should show the same start and end dates, if they are properly aligned"
   ]
  },
  {
   "cell_type": "code",
   "execution_count": 112,
   "id": "43e30ab0",
   "metadata": {},
   "outputs": [
    {
     "name": "stdout",
     "output_type": "stream",
     "text": [
      "    SEAS    YR\n",
      "98   FMA  1958\n",
      "842  FMA  2020\n",
      "DatetimeIndex(['1958-03-01', '2020-03-01'], dtype='datetime64[ns]', name='date', freq=None)\n"
     ]
    }
   ],
   "source": [
    "print(oni_df_sub[['SEAS','YR']].iloc[[0,-1]])\n",
    "print(df_sub.index[[0,-1]])"
   ]
  },
  {
   "cell_type": "markdown",
   "id": "a9182b79",
   "metadata": {},
   "source": [
    "We can now extract the values into numpy arrays to use for regression"
   ]
  },
  {
   "cell_type": "code",
   "execution_count": 113,
   "id": "5e60222d",
   "metadata": {},
   "outputs": [],
   "source": [
    "y = df_sub['co2_variation'].values\n",
    "x = oni_df_sub['ANOM'].values"
   ]
  },
  {
   "cell_type": "markdown",
   "id": "774cc972",
   "metadata": {},
   "source": [
    "Writing a function called featurize(x,d)"
   ]
  },
  {
   "cell_type": "code",
   "execution_count": 116,
   "id": "0651e2b9",
   "metadata": {},
   "outputs": [
    {
     "name": "stdout",
     "output_type": "stream",
     "text": [
      "Input =  [0.  0.1 0.2 0.3 0.4 0.5 0.6 0.7 0.8 0.9] \n",
      "\n",
      "Output = \n",
      " [[0.3, 0.2, 0.1, 0.0], [0.4, 0.3, 0.2, 0.1], [0.5, 0.4, 0.3, 0.2], [0.6, 0.5, 0.4, 0.3], [0.7, 0.6, 0.5, 0.4], [0.8, 0.7, 0.6, 0.5], [0.9, 0.8, 0.7, 0.6]] \n",
      "\n"
     ]
    }
   ],
   "source": [
    "def featurize(x,d):\n",
    "    result = [([round(x[i-j],1) for j in range(d)]) for i in range(d-1,len(x))]\n",
    "    return result\n",
    "inp1 = 0.1 * np.arange(10)\n",
    "print(\"Input = \",inp1,\"\\n\")\n",
    "print(\"Output = \\n\",featurize(inp1,4), \"\\n\")"
   ]
  },
  {
   "cell_type": "markdown",
   "id": "561b873c",
   "metadata": {},
   "source": [
    "linear regression model"
   ]
  },
  {
   "cell_type": "code",
   "execution_count": 117,
   "id": "2255ab91",
   "metadata": {},
   "outputs": [],
   "source": [
    "from sklearn.linear_model import LinearRegression\n",
    "featurized_x= featurize(x,12)[:-1] \n",
    "truncated_y = y[12:]\n",
    "\n",
    "model = LinearRegression().fit(featurized_x, truncated_y)"
   ]
  },
  {
   "cell_type": "markdown",
   "id": "2900f40a",
   "metadata": {},
   "source": [
    "compute the Peasrson's R coefficient between the \"ONI_regression\" and \"co2_variation\" columns"
   ]
  },
  {
   "cell_type": "code",
   "execution_count": 118,
   "id": "48d0f743",
   "metadata": {},
   "outputs": [
    {
     "data": {
      "text/plain": [
       "<matplotlib.legend.Legend at 0x20cd49f9ff0>"
      ]
     },
     "execution_count": 118,
     "metadata": {},
     "output_type": "execute_result"
    },
    {
     "data": {
      "image/png": "[encoded data removed]",
      "text/plain": [
       "<Figure size 432x288 with 1 Axes>"
      ]
     },
     "metadata": {
      "needs_background": "light"
     },
     "output_type": "display_data"
    }
   ],
   "source": [
    "# YOUR CODE HERE \n",
    "df_sub['ONI_regression']= np.zeros(len(df_sub))\n",
    "df_sub['ONI_regression'][12:]=model.predict(featurized_x)\n",
    "plt.plot(df_sub.index, df_sub['co2_variation'], df_sub['ONI_regression'])\n",
    "from scipy import stats\n",
    "title = stats.pearsonr(df_sub['co2_variation'], df_sub['ONI_regression'])\n",
    "plt.title(title)\n",
    "plt.legend(['co2_variation','ONI_regression'])"
   ]
  },
  {
   "cell_type": "markdown",
   "id": "a6dd1791",
   "metadata": {},
   "source": [
    "Plotting from 1995 onwards and recompute the pearson coefficient for this time period"
   ]
  },
  {
   "cell_type": "code",
   "execution_count": 119,
   "id": "5772b307",
   "metadata": {},
   "outputs": [
    {
     "data": {
      "image/png": "[encoded data removed]",
      "text/plain": [
       "<Figure size 432x288 with 1 Axes>"
      ]
     },
     "metadata": {
      "needs_background": "light"
     },
     "output_type": "display_data"
    }
   ],
   "source": [
    "# YOUR CODE HERE \n",
    "df_sub2 = df_sub['1995-01-01':'2020-03-01']\n",
    "plt.plot(df_sub2.index, df_sub2['co2_variation'], df_sub2['ONI_regression'])\n",
    "title = stats.pearsonr(df_sub2['co2_variation'], df_sub2['ONI_regression'])\n",
    "plt.title(title)\n",
    "plt.legend(['co2_variation','ONI_regression'])\n",
    "plt.savefig('qsn4.png')"
   ]
  },
  {
   "cell_type": "code",
   "execution_count": null,
   "id": "973b665e",
   "metadata": {},
   "outputs": [],
   "source": []
  }
 ],
 "metadata": {
  "kernelspec": {
   "display_name": "Python 3 (ipykernel)",
   "language": "python",
   "name": "python3"
  },
  "language_info": {
   "codemirror_mode": {
    "name": "ipython",
    "version": 3
   },
   "file_extension": ".py",
   "mimetype": "text/x-python",
   "name": "python",
   "nbconvert_exporter": "python",
   "pygments_lexer": "ipython3",
   "version": "3.10.0"
  }
 },
 "nbformat": 4,
 "nbformat_minor": 5
}
