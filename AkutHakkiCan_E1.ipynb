{
 "cells": [
  {
   "cell_type": "markdown",
   "id": "12d4a0ae",
   "metadata": {},
   "source": [
    "#  1. Basics\n",
    "\n",
    "## 1.1.  The interpreter"
   ]
  },
  {
   "cell_type": "code",
   "execution_count": 1,
   "id": "49917695",
   "metadata": {},
   "outputs": [
    {
     "data": {
      "text/plain": [
       "4"
      ]
     },
     "execution_count": 1,
     "metadata": {},
     "output_type": "execute_result"
    }
   ],
   "source": [
    "3+1"
   ]
  },
  {
   "cell_type": "code",
   "execution_count": 2,
   "id": "b958c74f",
   "metadata": {},
   "outputs": [
    {
     "data": {
      "text/plain": [
       "9"
      ]
     },
     "execution_count": 2,
     "metadata": {},
     "output_type": "execute_result"
    }
   ],
   "source": [
    "3*3"
   ]
  },
  {
   "cell_type": "code",
   "execution_count": 3,
   "id": "3bcf2ca2",
   "metadata": {},
   "outputs": [
    {
     "data": {
      "text/plain": [
       "8"
      ]
     },
     "execution_count": 3,
     "metadata": {},
     "output_type": "execute_result"
    }
   ],
   "source": [
    "2**3"
   ]
  },
  {
   "cell_type": "code",
   "execution_count": 8,
   "id": "d37d82c9",
   "metadata": {},
   "outputs": [
    {
     "data": {
      "text/plain": [
       "'Hello, World!'"
      ]
     },
     "execution_count": 8,
     "metadata": {},
     "output_type": "execute_result"
    }
   ],
   "source": [
    "\"Hello, World!\""
   ]
  },
  {
   "cell_type": "markdown",
   "id": "ff9db01a",
   "metadata": {},
   "source": [
    "## 1.2. Scripts\n",
    "When run the code python script1.py, it will run and do the calculations yet will not show up, so we need to use them inside of print()."
   ]
  },
  {
   "cell_type": "code",
   "execution_count": 9,
   "id": "18262eec",
   "metadata": {},
   "outputs": [
    {
     "name": "stdout",
     "output_type": "stream",
     "text": [
      "4\n",
      "9\n",
      "8\n",
      "Hello, World!\n"
     ]
    }
   ],
   "source": [
    "print(3+1)\n",
    "print(3*3)\n",
    "print(2**3)\n",
    "print(\"Hello, World!\")"
   ]
  },
  {
   "cell_type": "markdown",
   "id": "9c1295c4",
   "metadata": {},
   "source": [
    "# 1.3.  More interpreter"
   ]
  },
  {
   "cell_type": "code",
   "execution_count": 1,
   "id": "fd508ec1",
   "metadata": {},
   "outputs": [
    {
     "data": {
      "text/plain": [
       "'python'"
      ]
     },
     "execution_count": 1,
     "metadata": {},
     "output_type": "execute_result"
    }
   ],
   "source": [
    "'py'+'thon' # adds two string to each other"
   ]
  },
  {
   "cell_type": "code",
   "execution_count": 2,
   "id": "296a10a2",
   "metadata": {},
   "outputs": [
    {
     "data": {
      "text/plain": [
       "'pypypython'"
      ]
     },
     "execution_count": 2,
     "metadata": {},
     "output_type": "execute_result"
    }
   ],
   "source": [
    "'py'*3+'thon' # multiplies the first string with 3 which makes 'py' to 'pypypy' and combines with second string "
   ]
  },
  {
   "cell_type": "code",
   "execution_count": 3,
   "id": "a1fdc645",
   "metadata": {},
   "outputs": [
    {
     "ename": "TypeError",
     "evalue": "unsupported operand type(s) for -: 'str' and 'str'",
     "output_type": "error",
     "traceback": [
      "\u001b[1;31m---------------------------------------------------------------------------\u001b[0m",
      "\u001b[1;31mTypeError\u001b[0m                                 Traceback (most recent call last)",
      "Input \u001b[1;32mIn [3]\u001b[0m, in \u001b[0;36m<cell line: 1>\u001b[1;34m()\u001b[0m\n\u001b[1;32m----> 1\u001b[0m \u001b[38;5;124;43m'\u001b[39;49m\u001b[38;5;124;43mpy\u001b[39;49m\u001b[38;5;124;43m'\u001b[39;49m\u001b[38;5;241;43m-\u001b[39;49m\u001b[38;5;124;43m'\u001b[39;49m\u001b[38;5;124;43mpy\u001b[39;49m\u001b[38;5;124;43m'\u001b[39;49m\n",
      "\u001b[1;31mTypeError\u001b[0m: unsupported operand type(s) for -: 'str' and 'str'"
     ]
    }
   ],
   "source": [
    "'py'-'py' # it's not a possible statement, we cant abstract two string with '-' operator"
   ]
  },
  {
   "cell_type": "code",
   "execution_count": 4,
   "id": "6476801d",
   "metadata": {},
   "outputs": [
    {
     "ename": "TypeError",
     "evalue": "can only concatenate str (not \"int\") to str",
     "output_type": "error",
     "traceback": [
      "\u001b[1;31m---------------------------------------------------------------------------\u001b[0m",
      "\u001b[1;31mTypeError\u001b[0m                                 Traceback (most recent call last)",
      "Input \u001b[1;32mIn [4]\u001b[0m, in \u001b[0;36m<cell line: 1>\u001b[1;34m()\u001b[0m\n\u001b[1;32m----> 1\u001b[0m \u001b[38;5;124;43m'\u001b[39;49m\u001b[38;5;124;43m3\u001b[39;49m\u001b[38;5;124;43m'\u001b[39;49m\u001b[38;5;241;43m+\u001b[39;49m\u001b[38;5;241;43m3\u001b[39;49m\n",
      "\u001b[1;31mTypeError\u001b[0m: can only concatenate str (not \"int\") to str"
     ]
    }
   ],
   "source": [
    "'3'+3 # we cant add a string type of variable with integer type of variable"
   ]
  },
  {
   "cell_type": "code",
   "execution_count": 5,
   "id": "85798e36",
   "metadata": {},
   "outputs": [
    {
     "data": {
      "text/plain": [
       "'333'"
      ]
     },
     "execution_count": 5,
     "metadata": {},
     "output_type": "execute_result"
    }
   ],
   "source": [
    "3*'3' # multiplies the string with 3 which makes another string "
   ]
  },
  {
   "cell_type": "code",
   "execution_count": 6,
   "id": "c227623a",
   "metadata": {},
   "outputs": [
    {
     "ename": "NameError",
     "evalue": "name 'a' is not defined",
     "output_type": "error",
     "traceback": [
      "\u001b[1;31m---------------------------------------------------------------------------\u001b[0m",
      "\u001b[1;31mNameError\u001b[0m                                 Traceback (most recent call last)",
      "Input \u001b[1;32mIn [6]\u001b[0m, in \u001b[0;36m<cell line: 1>\u001b[1;34m()\u001b[0m\n\u001b[1;32m----> 1\u001b[0m \u001b[43ma\u001b[49m\n",
      "\u001b[1;31mNameError\u001b[0m: name 'a' is not defined"
     ]
    }
   ],
   "source": [
    "a # since a is not defined, it throws error"
   ]
  },
  {
   "cell_type": "code",
   "execution_count": 7,
   "id": "8e0ce68a",
   "metadata": {},
   "outputs": [],
   "source": [
    "a = 3 # var a defined as integer 3"
   ]
  },
  {
   "cell_type": "code",
   "execution_count": 8,
   "id": "02cbc1ef",
   "metadata": {},
   "outputs": [
    {
     "data": {
      "text/plain": [
       "3"
      ]
     },
     "execution_count": 8,
     "metadata": {},
     "output_type": "execute_result"
    }
   ],
   "source": [
    "a # since it defined it doesn't give error"
   ]
  },
  {
   "cell_type": "markdown",
   "id": "bea904c3",
   "metadata": {},
   "source": [
    "## 1.4. Booleans"
   ]
  },
  {
   "cell_type": "code",
   "execution_count": 9,
   "id": "8f059449",
   "metadata": {},
   "outputs": [
    {
     "data": {
      "text/plain": [
       "True"
      ]
     },
     "execution_count": 9,
     "metadata": {},
     "output_type": "execute_result"
    }
   ],
   "source": [
    "1 == 1 # '==' operator checks equality since 1 equals 1 it returns True"
   ]
  },
  {
   "cell_type": "code",
   "execution_count": 35,
   "id": "9f524204",
   "metadata": {},
   "outputs": [
    {
     "data": {
      "text/plain": [
       "True"
      ]
     },
     "execution_count": 35,
     "metadata": {},
     "output_type": "execute_result"
    }
   ],
   "source": [
    "1 == True # 1 also represents True"
   ]
  },
  {
   "cell_type": "code",
   "execution_count": 11,
   "id": "9761ee03",
   "metadata": {},
   "outputs": [
    {
     "data": {
      "text/plain": [
       "False"
      ]
     },
     "execution_count": 11,
     "metadata": {},
     "output_type": "execute_result"
    }
   ],
   "source": [
    "0 == True # 0 represents False so it returns False"
   ]
  },
  {
   "cell_type": "code",
   "execution_count": 12,
   "id": "ba09ee41",
   "metadata": {},
   "outputs": [
    {
     "data": {
      "text/plain": [
       "True"
      ]
     },
     "execution_count": 12,
     "metadata": {},
     "output_type": "execute_result"
    }
   ],
   "source": [
    "0 == False # 0 represents False so it returns True"
   ]
  },
  {
   "cell_type": "code",
   "execution_count": 13,
   "id": "e070bfd0",
   "metadata": {},
   "outputs": [
    {
     "data": {
      "text/plain": [
       "True"
      ]
     },
     "execution_count": 13,
     "metadata": {},
     "output_type": "execute_result"
    }
   ],
   "source": [
    "3 == 1*3 # 1 * 3 equals to 3 so it returns True"
   ]
  },
  {
   "cell_type": "code",
   "execution_count": 14,
   "id": "adf86922",
   "metadata": {},
   "outputs": [
    {
     "data": {
      "text/plain": [
       "0"
      ]
     },
     "execution_count": 14,
     "metadata": {},
     "output_type": "execute_result"
    }
   ],
   "source": [
    "(3 == 1)*3 # 3==1 returns False which is 0 and 0 * 3 equals 0"
   ]
  },
  {
   "cell_type": "code",
   "execution_count": 15,
   "id": "af359da2",
   "metadata": {},
   "outputs": [
    {
     "data": {
      "text/plain": [
       "False"
      ]
     },
     "execution_count": 15,
     "metadata": {},
     "output_type": "execute_result"
    }
   ],
   "source": [
    " (3 == 3)*4 + 3 == 1 # 3==3 equals True which is 1, 1*4 equals 4, 4+3 equals 7, 7==1 is False so it returns False"
   ]
  },
  {
   "cell_type": "code",
   "execution_count": 16,
   "id": "84388188",
   "metadata": {},
   "outputs": [
    {
     "data": {
      "text/plain": [
       "False"
      ]
     },
     "execution_count": 16,
     "metadata": {},
     "output_type": "execute_result"
    }
   ],
   "source": [
    "3**5 >= 4**4 # '>=' operator means greater or equal. 3^5 which is 243 is not greater or equal than 4^4 which is 256 so False "
   ]
  },
  {
   "cell_type": "markdown",
   "id": "e9c5d1c8",
   "metadata": {},
   "source": [
    "## 1.5 Integers"
   ]
  },
  {
   "cell_type": "code",
   "execution_count": 17,
   "id": "0840e7bb",
   "metadata": {},
   "outputs": [
    {
     "data": {
      "text/plain": [
       "1.6666666666666667"
      ]
     },
     "execution_count": 17,
     "metadata": {},
     "output_type": "execute_result"
    }
   ],
   "source": [
    "5/3 # '/' operator does dividing operation since 5/3 is not a integer it return a float type of variable"
   ]
  },
  {
   "cell_type": "code",
   "execution_count": 18,
   "id": "3e8ece61",
   "metadata": {},
   "outputs": [
    {
     "data": {
      "text/plain": [
       "2"
      ]
     },
     "execution_count": 18,
     "metadata": {},
     "output_type": "execute_result"
    }
   ],
   "source": [
    "5%3 # '%' operator shows remaining after a divinding operation"
   ]
  },
  {
   "cell_type": "code",
   "execution_count": 19,
   "id": "0769a9f9",
   "metadata": {},
   "outputs": [
    {
     "data": {
      "text/plain": [
       "1.6666666666666667"
      ]
     },
     "execution_count": 19,
     "metadata": {},
     "output_type": "execute_result"
    }
   ],
   "source": [
    "5.0/3 # float type of variable can divide by an integer type of variable"
   ]
  },
  {
   "cell_type": "code",
   "execution_count": 20,
   "id": "51202ebf",
   "metadata": {},
   "outputs": [
    {
     "data": {
      "text/plain": [
       "1.6666666666666667"
      ]
     },
     "execution_count": 20,
     "metadata": {},
     "output_type": "execute_result"
    }
   ],
   "source": [
    "5/3.0 # integer type of variable can divide by an float type of variable"
   ]
  },
  {
   "cell_type": "code",
   "execution_count": 21,
   "id": "f9970fa8",
   "metadata": {},
   "outputs": [
    {
     "data": {
      "text/plain": [
       "2.2"
      ]
     },
     "execution_count": 21,
     "metadata": {},
     "output_type": "execute_result"
    }
   ],
   "source": [
    "5.2 % 3 # '%' operator can work on integer and float type of variables"
   ]
  },
  {
   "cell_type": "code",
   "execution_count": 22,
   "id": "38f2f852",
   "metadata": {},
   "outputs": [
    {
     "data": {
      "text/plain": [
       "1775896810483121914350934797871501063452843428843794422323202530887281536545210629921129898113201749875234297340507804201761453596034016264189501186924066128377025843892373608427790859511135990682732202975330824797118808624727351608183194154557208730494440110429635650057431833674286462463508755276302896154336475782768613964332764108132533925570342220340698973761380541294970139762186212823359128790706292900765512137078550033912252338262922477518858757114840012576514724742388124595061301502222934806074032688691170880996881967426442947828261057852871032366879179996122216385870273020506079240103910728766397733398071775041745854959302025036249707279600400001"
      ]
     },
     "execution_count": 22,
     "metadata": {},
     "output_type": "execute_result"
    }
   ],
   "source": [
    "2001 ** 200 # '**' operator does exponentiation operation"
   ]
  },
  {
   "cell_type": "markdown",
   "id": "196e7c6f",
   "metadata": {},
   "source": [
    "## 1.6 Floats"
   ]
  },
  {
   "cell_type": "code",
   "execution_count": 7,
   "id": "862132f1",
   "metadata": {},
   "outputs": [
    {
     "ename": "OverflowError",
     "evalue": "(34, 'Result too large')",
     "output_type": "error",
     "traceback": [
      "\u001b[1;31m---------------------------------------------------------------------------\u001b[0m",
      "\u001b[1;31mOverflowError\u001b[0m                             Traceback (most recent call last)",
      "Input \u001b[1;32mIn [7]\u001b[0m, in \u001b[0;36m<cell line: 1>\u001b[1;34m()\u001b[0m\n\u001b[1;32m----> 1\u001b[0m \u001b[38;5;28mprint\u001b[39m(\u001b[38;5;241;43m2000.3\u001b[39;49m\u001b[43m \u001b[49m\u001b[38;5;241;43m*\u001b[39;49m\u001b[38;5;241;43m*\u001b[39;49m\u001b[43m \u001b[49m\u001b[38;5;241;43m200\u001b[39;49m)\n",
      "\u001b[1;31mOverflowError\u001b[0m: (34, 'Result too large')"
     ]
    }
   ],
   "source": [
    "print(2000.3 ** 200) # limit of float numbers is 1.7976931348623157e+308 since the result is greater it throws an error"
   ]
  },
  {
   "cell_type": "code",
   "execution_count": 2,
   "id": "cbba2bc2",
   "metadata": {},
   "outputs": [
    {
     "data": {
      "text/plain": [
       "1.0"
      ]
     },
     "execution_count": 2,
     "metadata": {},
     "output_type": "execute_result"
    }
   ],
   "source": [
    "1.0+ 1.0 - 1.0 # it adds 1.0 to 1.0 the substracts 1.0 and returns 1.0 "
   ]
  },
  {
   "cell_type": "code",
   "execution_count": 6,
   "id": "4de47320",
   "metadata": {},
   "outputs": [
    {
     "data": {
      "text/plain": [
       "0.0"
      ]
     },
     "execution_count": 6,
     "metadata": {},
     "output_type": "execute_result"
    }
   ],
   "source": [
    " 1.0+ 1.0e20 - 1.0e20 # it adds 1.0e20 to 1.0 this makes 1.0e20 to round down so substracting 1.0e20 returns 0.0 "
   ]
  },
  {
   "cell_type": "markdown",
   "id": "36452b8b",
   "metadata": {},
   "source": [
    "## 1.7. Variables"
   ]
  },
  {
   "cell_type": "code",
   "execution_count": 8,
   "id": "ea222b71",
   "metadata": {},
   "outputs": [
    {
     "name": "stdout",
     "output_type": "stream",
     "text": [
      "Hello, Hakkı Can Akut\n"
     ]
    }
   ],
   "source": [
    "name = \"Hakkı Can Akut\"\n",
    "print(\"Hello, \"+ name)"
   ]
  },
  {
   "cell_type": "markdown",
   "id": "307135ab",
   "metadata": {},
   "source": [
    "## 1.8. Type Casting"
   ]
  },
  {
   "cell_type": "code",
   "execution_count": 9,
   "id": "052d7094",
   "metadata": {},
   "outputs": [
    {
     "data": {
      "text/plain": [
       "123.0"
      ]
     },
     "execution_count": 9,
     "metadata": {},
     "output_type": "execute_result"
    }
   ],
   "source": [
    "float(123) # returns integer 123 to float 123.0"
   ]
  },
  {
   "cell_type": "code",
   "execution_count": 11,
   "id": "678a1f3e",
   "metadata": {},
   "outputs": [
    {
     "data": {
      "text/plain": [
       "123.0"
      ]
     },
     "execution_count": 11,
     "metadata": {},
     "output_type": "execute_result"
    }
   ],
   "source": [
    "float('123') # returns string '123' to float 123.0"
   ]
  },
  {
   "cell_type": "code",
   "execution_count": 13,
   "id": "2bdae851",
   "metadata": {},
   "outputs": [
    {
     "data": {
      "text/plain": [
       "123.23"
      ]
     },
     "execution_count": 13,
     "metadata": {},
     "output_type": "execute_result"
    }
   ],
   "source": [
    "float('123.23') # returns string '123.23' to float 123.23"
   ]
  },
  {
   "cell_type": "code",
   "execution_count": 18,
   "id": "ebf6ba0f",
   "metadata": {},
   "outputs": [
    {
     "data": {
      "text/plain": [
       "123"
      ]
     },
     "execution_count": 18,
     "metadata": {},
     "output_type": "execute_result"
    }
   ],
   "source": [
    " int(123.23) # returns float 123.23 to 123, it rounds down to 123"
   ]
  },
  {
   "cell_type": "code",
   "execution_count": 19,
   "id": "1dafdd32",
   "metadata": {},
   "outputs": [
    {
     "ename": "ValueError",
     "evalue": "invalid literal for int() with base 10: '123.23'",
     "output_type": "error",
     "traceback": [
      "\u001b[1;31m---------------------------------------------------------------------------\u001b[0m",
      "\u001b[1;31mValueError\u001b[0m                                Traceback (most recent call last)",
      "Input \u001b[1;32mIn [19]\u001b[0m, in \u001b[0;36m<cell line: 1>\u001b[1;34m()\u001b[0m\n\u001b[1;32m----> 1\u001b[0m \u001b[38;5;28;43mint\u001b[39;49m\u001b[43m(\u001b[49m\u001b[38;5;124;43m'\u001b[39;49m\u001b[38;5;124;43m123.23\u001b[39;49m\u001b[38;5;124;43m'\u001b[39;49m\u001b[43m)\u001b[49m\n",
      "\u001b[1;31mValueError\u001b[0m: invalid literal for int() with base 10: '123.23'"
     ]
    }
   ],
   "source": [
    "int('123.23') # it can't change a string that has float number to integer"
   ]
  },
  {
   "cell_type": "code",
   "execution_count": 20,
   "id": "a3515792",
   "metadata": {},
   "outputs": [
    {
     "data": {
      "text/plain": [
       "123"
      ]
     },
     "execution_count": 20,
     "metadata": {},
     "output_type": "execute_result"
    }
   ],
   "source": [
    "int(float('123.23')) # this time, it changes string to float then changes to integer"
   ]
  },
  {
   "cell_type": "code",
   "execution_count": 21,
   "id": "9722aa84",
   "metadata": {},
   "outputs": [
    {
     "data": {
      "text/plain": [
       "'12'"
      ]
     },
     "execution_count": 21,
     "metadata": {},
     "output_type": "execute_result"
    }
   ],
   "source": [
    " str(12) # changes integer 12 to string '12'"
   ]
  },
  {
   "cell_type": "code",
   "execution_count": 22,
   "id": "e8833417",
   "metadata": {},
   "outputs": [
    {
     "data": {
      "text/plain": [
       "'12.2'"
      ]
     },
     "execution_count": 22,
     "metadata": {},
     "output_type": "execute_result"
    }
   ],
   "source": [
    "str(12.2) # changes float 12.2 to string '12.2'"
   ]
  },
  {
   "cell_type": "code",
   "execution_count": 32,
   "id": "a85b9737",
   "metadata": {},
   "outputs": [
    {
     "data": {
      "text/plain": [
       "True"
      ]
     },
     "execution_count": 32,
     "metadata": {},
     "output_type": "execute_result"
    }
   ],
   "source": [
    "bool('a') # it changes every variable except 0 or equivalent to True so 'a' changed to True"
   ]
  },
  {
   "cell_type": "code",
   "execution_count": 33,
   "id": "b7e4407b",
   "metadata": {},
   "outputs": [
    {
     "data": {
      "text/plain": [
       "False"
      ]
     },
     "execution_count": 33,
     "metadata": {},
     "output_type": "execute_result"
    }
   ],
   "source": [
    "bool(0) # changes 0 to False"
   ]
  },
  {
   "cell_type": "code",
   "execution_count": 34,
   "id": "24625508",
   "metadata": {},
   "outputs": [
    {
     "data": {
      "text/plain": [
       "True"
      ]
     },
     "execution_count": 34,
     "metadata": {},
     "output_type": "execute_result"
    }
   ],
   "source": [
    "bool(0.1) # changed to True since it is not integer 0 or equivalent"
   ]
  },
  {
   "cell_type": "markdown",
   "id": "7d6a321b",
   "metadata": {},
   "source": [
    "# 2. Control Flow\n",
    "## 2.1. Range"
   ]
  },
  {
   "cell_type": "code",
   "execution_count": 36,
   "id": "c4d925ec",
   "metadata": {},
   "outputs": [
    {
     "data": {
      "text/plain": [
       "range(0, 5)"
      ]
     },
     "execution_count": 36,
     "metadata": {},
     "output_type": "execute_result"
    }
   ],
   "source": [
    "range(5) #  i in range(5) means integer i goes from 0 to 4 one by one"
   ]
  },
  {
   "cell_type": "code",
   "execution_count": 37,
   "id": "60feb8e0",
   "metadata": {},
   "outputs": [
    {
     "data": {
      "text/plain": [
       "range"
      ]
     },
     "execution_count": 37,
     "metadata": {},
     "output_type": "execute_result"
    }
   ],
   "source": [
    "type(range(5))"
   ]
  },
  {
   "cell_type": "markdown",
   "id": "663165c2",
   "metadata": {},
   "source": [
    "## 2.2. For Loops"
   ]
  },
  {
   "cell_type": "code",
   "execution_count": 51,
   "id": "1ca24e33",
   "metadata": {},
   "outputs": [
    {
     "name": "stdout",
     "output_type": "stream",
     "text": [
      "0\n",
      "1\n",
      "2\n",
      "3\n",
      "4\n",
      "5\n",
      "6\n",
      "7\n",
      "8\n",
      "9\n",
      "10\n",
      "11\n",
      "12\n",
      "13\n",
      "14\n",
      "15\n",
      "16\n",
      "17\n",
      "18\n",
      "19\n",
      "20\n",
      "21\n",
      "22\n",
      "23\n",
      "24\n",
      "25\n",
      "26\n",
      "27\n",
      "28\n",
      "29\n",
      "30\n",
      "31\n",
      "32\n",
      "33\n",
      "34\n",
      "35\n",
      "36\n",
      "37\n",
      "38\n",
      "39\n",
      "40\n",
      "41\n",
      "42\n",
      "43\n",
      "44\n",
      "45\n",
      "46\n",
      "47\n",
      "48\n",
      "49\n",
      "50\n",
      "51\n",
      "52\n",
      "53\n",
      "54\n",
      "55\n",
      "56\n",
      "57\n",
      "58\n",
      "59\n",
      "60\n",
      "61\n",
      "62\n",
      "63\n",
      "64\n",
      "65\n",
      "66\n",
      "67\n",
      "68\n",
      "69\n",
      "70\n",
      "71\n",
      "72\n",
      "73\n",
      "74\n",
      "75\n",
      "76\n",
      "77\n",
      "78\n",
      "79\n",
      "80\n",
      "81\n",
      "82\n",
      "83\n",
      "84\n",
      "85\n",
      "86\n",
      "87\n",
      "88\n",
      "89\n",
      "90\n",
      "91\n",
      "92\n",
      "93\n",
      "94\n",
      "95\n",
      "96\n",
      "97\n",
      "98\n",
      "99\n",
      "100\n"
     ]
    }
   ],
   "source": [
    "for i in range(101): \n",
    "    print(i)"
   ]
  },
  {
   "cell_type": "code",
   "execution_count": 40,
   "id": "74945c6f",
   "metadata": {},
   "outputs": [
    {
     "name": "stdout",
     "output_type": "stream",
     "text": [
      "0\n",
      "7\n",
      "14\n",
      "21\n",
      "28\n",
      "35\n",
      "42\n",
      "49\n",
      "56\n",
      "63\n",
      "70\n",
      "77\n",
      "84\n",
      "91\n",
      "98\n"
     ]
    }
   ],
   "source": [
    "for i in range(101):\n",
    "    if i % 7 == 0:\n",
    "        print(i)"
   ]
  },
  {
   "cell_type": "code",
   "execution_count": 41,
   "id": "54baf2e0",
   "metadata": {},
   "outputs": [
    {
     "name": "stdout",
     "output_type": "stream",
     "text": [
      "5\n",
      "10\n",
      "20\n",
      "25\n",
      "35\n",
      "40\n",
      "50\n",
      "55\n",
      "65\n",
      "70\n",
      "80\n",
      "85\n",
      "95\n",
      "100\n"
     ]
    }
   ],
   "source": [
    "for i in range(101):\n",
    "    if i % 5 == 0 and i%3 != 0:\n",
    "        print(i)"
   ]
  },
  {
   "cell_type": "code",
   "execution_count": 49,
   "id": "fc251b9b",
   "metadata": {},
   "outputs": [
    {
     "name": "stdout",
     "output_type": "stream",
     "text": [
      "2\n",
      "2\n",
      "3\n",
      "2\n",
      "4\n",
      "3\n",
      "2\n",
      "5\n",
      "2\n",
      "3\n",
      "4\n",
      "6\n",
      "2\n",
      "7\n",
      "3\n",
      "5\n",
      "2\n",
      "4\n",
      "8\n",
      "2\n",
      "3\n",
      "6\n",
      "9\n",
      "2\n",
      "4\n",
      "5\n",
      "10\n"
     ]
    }
   ],
   "source": [
    "for i in range(21)[2:]:\n",
    "    for k in range(i)[2:]:\n",
    "        if i%k == 0:\n",
    "            print(k)"
   ]
  },
  {
   "cell_type": "markdown",
   "id": "ca94f52a",
   "metadata": {},
   "source": [
    "## 2.3. Simple While Loops"
   ]
  },
  {
   "cell_type": "code",
   "execution_count": 52,
   "id": "acdc200e",
   "metadata": {},
   "outputs": [
    {
     "name": "stdout",
     "output_type": "stream",
     "text": [
      "0\n",
      "1\n",
      "2\n",
      "3\n",
      "4\n",
      "5\n",
      "6\n",
      "7\n",
      "8\n",
      "9\n",
      "10\n",
      "11\n",
      "12\n",
      "13\n",
      "14\n",
      "15\n",
      "16\n",
      "17\n",
      "18\n",
      "19\n",
      "20\n",
      "21\n",
      "22\n",
      "23\n",
      "24\n",
      "25\n",
      "26\n",
      "27\n",
      "28\n",
      "29\n",
      "30\n",
      "31\n",
      "32\n",
      "33\n",
      "34\n",
      "35\n",
      "36\n",
      "37\n",
      "38\n",
      "39\n",
      "40\n",
      "41\n",
      "42\n",
      "43\n",
      "44\n",
      "45\n",
      "46\n",
      "47\n",
      "48\n",
      "49\n",
      "50\n",
      "51\n",
      "52\n",
      "53\n",
      "54\n",
      "55\n",
      "56\n",
      "57\n",
      "58\n",
      "59\n",
      "60\n",
      "61\n",
      "62\n",
      "63\n",
      "64\n",
      "65\n",
      "66\n",
      "67\n",
      "68\n",
      "69\n",
      "70\n",
      "71\n",
      "72\n",
      "73\n",
      "74\n",
      "75\n",
      "76\n",
      "77\n",
      "78\n",
      "79\n",
      "80\n",
      "81\n",
      "82\n",
      "83\n",
      "84\n",
      "85\n",
      "86\n",
      "87\n",
      "88\n",
      "89\n",
      "90\n",
      "91\n",
      "92\n",
      "93\n",
      "94\n",
      "95\n",
      "96\n",
      "97\n",
      "98\n",
      "99\n",
      "100\n"
     ]
    }
   ],
   "source": [
    "j=0\n",
    "while j<101:  \n",
    "    print(j)\n",
    "    j+=1"
   ]
  },
  {
   "cell_type": "code",
   "execution_count": 52,
   "id": "014762db",
   "metadata": {},
   "outputs": [
    {
     "name": "stdout",
     "output_type": "stream",
     "text": [
      "0\n",
      "7\n",
      "14\n",
      "21\n",
      "28\n",
      "35\n",
      "42\n",
      "49\n",
      "56\n",
      "63\n",
      "70\n",
      "77\n",
      "84\n",
      "91\n",
      "98\n"
     ]
    }
   ],
   "source": [
    "j=0\n",
    "while j<101:  \n",
    "    if j% 7 == 0:\n",
    "        print(j)\n",
    "    j+=1"
   ]
  },
  {
   "cell_type": "markdown",
   "id": "f32faefe",
   "metadata": {},
   "source": [
    "## 2.4. Hangman Update 1"
   ]
  },
  {
   "cell_type": "code",
   "execution_count": null,
   "id": "1aaeb346",
   "metadata": {},
   "outputs": [],
   "source": []
  },
  {
   "cell_type": "markdown",
   "id": "4d3e34f4",
   "metadata": {},
   "source": [
    "## 2.5. While Loops"
   ]
  },
  {
   "cell_type": "code",
   "execution_count": 55,
   "id": "6cdbd43e",
   "metadata": {},
   "outputs": [
    {
     "name": "stdout",
     "output_type": "stream",
     "text": [
      "385\n",
      "770\n",
      "1155\n",
      "1540\n",
      "1925\n",
      "2310\n",
      "2695\n",
      "3080\n",
      "3465\n",
      "3850\n",
      "4235\n",
      "4620\n",
      "5005\n",
      "5390\n",
      "5775\n",
      "6160\n",
      "6545\n",
      "6930\n",
      "7315\n",
      "7700\n"
     ]
    }
   ],
   "source": [
    "count=0;\n",
    "i=1;\n",
    "while count < 20:\n",
    "    if i %5 == 0 and i % 7 ==0 and i % 11==0:\n",
    "        print(i)\n",
    "        count+=1\n",
    "    i+=1"
   ]
  },
  {
   "cell_type": "markdown",
   "id": "76f11b64",
   "metadata": {},
   "source": [
    "## 2.6. More While Loops"
   ]
  },
  {
   "cell_type": "code",
   "execution_count": 73,
   "id": "73bef368",
   "metadata": {},
   "outputs": [
    {
     "name": "stdout",
     "output_type": "stream",
     "text": [
      "2520\n"
     ]
    }
   ],
   "source": [
    "isDone = False\n",
    "x=1\n",
    "while isDone == False:\n",
    "    isDivided = True\n",
    "    for k in range(11)[1:]:\n",
    "        if x % k !=0:\n",
    "            isDivided = False\n",
    "    if isDivided == True:\n",
    "        print(x)\n",
    "        isDone= True\n",
    "    x+=1"
   ]
  },
  {
   "cell_type": "markdown",
   "id": "e43cfad8",
   "metadata": {},
   "source": [
    "## 2.7. Collatz Sequence"
   ]
  },
  {
   "cell_type": "code",
   "execution_count": 50,
   "id": "ee19de2f",
   "metadata": {},
   "outputs": [
    {
     "name": "stdout",
     "output_type": "stream",
     "text": [
      "103\n",
      "310\n",
      "155\n",
      "466\n",
      "233\n",
      "700\n",
      "350\n",
      "175\n",
      "526\n",
      "263\n",
      "790\n",
      "395\n",
      "1186\n",
      "593\n",
      "1780\n",
      "890\n",
      "445\n",
      "1336\n",
      "668\n",
      "334\n",
      "167\n",
      "502\n",
      "251\n",
      "754\n",
      "377\n",
      "1132\n",
      "566\n",
      "283\n",
      "850\n",
      "425\n",
      "1276\n",
      "638\n",
      "319\n",
      "958\n",
      "479\n",
      "1438\n",
      "719\n",
      "2158\n",
      "1079\n",
      "3238\n",
      "1619\n",
      "4858\n",
      "2429\n",
      "7288\n",
      "3644\n",
      "1822\n",
      "911\n",
      "2734\n",
      "1367\n",
      "4102\n",
      "2051\n",
      "6154\n",
      "3077\n",
      "9232\n",
      "4616\n",
      "2308\n",
      "1154\n",
      "577\n",
      "1732\n",
      "866\n",
      "433\n",
      "1300\n",
      "650\n",
      "325\n",
      "976\n",
      "488\n",
      "244\n",
      "122\n",
      "61\n",
      "184\n",
      "92\n",
      "46\n",
      "23\n",
      "70\n",
      "35\n",
      "106\n",
      "53\n",
      "160\n",
      "80\n",
      "40\n",
      "20\n",
      "10\n",
      "5\n",
      "16\n",
      "8\n",
      "4\n",
      "2\n",
      "1\n"
     ]
    }
   ],
   "source": [
    "def collatz_sequence(n):\n",
    "    print(n)\n",
    "    if n == 1:\n",
    "        return\n",
    "    if n % 2 == 0:\n",
    "        return collatz_sequence(int(n/2))\n",
    "    else:\n",
    "        return collatz_sequence(int(3*n +1))\n",
    "collatz_sequence(103)"
   ]
  },
  {
   "cell_type": "markdown",
   "id": "3bb20ef7",
   "metadata": {},
   "source": [
    "# 3. Functions\n",
    "## 3.1. Hello"
   ]
  },
  {
   "cell_type": "code",
   "execution_count": 1,
   "id": "9b8c4f54",
   "metadata": {},
   "outputs": [
    {
     "name": "stdout",
     "output_type": "stream",
     "text": [
      "Hello, World!\n"
     ]
    }
   ],
   "source": [
    "def hello_world():\n",
    "    print(\"Hello, World!\")\n",
    "hello_world()"
   ]
  },
  {
   "cell_type": "code",
   "execution_count": 4,
   "id": "6dfdd4c8",
   "metadata": {},
   "outputs": [
    {
     "name": "stdout",
     "output_type": "stream",
     "text": [
      "Hello, Hakkı!\n"
     ]
    }
   ],
   "source": [
    "def hello_name(name):\n",
    "    print(\"Hello, \"+name+\"!\")\n",
    "hello_name(\"Hakkı\")"
   ]
  },
  {
   "cell_type": "markdown",
   "id": "36f55f6d",
   "metadata": {},
   "source": [
    "c) print directly writes the parameter on output, return is exits the function and returns the parameter"
   ]
  },
  {
   "cell_type": "markdown",
   "id": "c4b3c90e",
   "metadata": {},
   "source": [
    "## 3.2. Polynomial"
   ]
  },
  {
   "cell_type": "code",
   "execution_count": 7,
   "id": "17082e4a",
   "metadata": {},
   "outputs": [
    {
     "name": "stdout",
     "output_type": "stream",
     "text": [
      "26\n"
     ]
    }
   ],
   "source": [
    "def polynomial(x):\n",
    "    return 3*(x**2)-x+2\n",
    "print(polynomial(3)) # 3 * 9 - 3 + 2 = 26"
   ]
  },
  {
   "cell_type": "markdown",
   "id": "3bfc20eb",
   "metadata": {},
   "source": [
    "## 3.3. Maximum"
   ]
  },
  {
   "cell_type": "code",
   "execution_count": 9,
   "id": "12b0e1f5",
   "metadata": {},
   "outputs": [
    {
     "name": "stdout",
     "output_type": "stream",
     "text": [
      "4\n"
     ]
    }
   ],
   "source": [
    "def my_max(x,y):\n",
    "    if x >= y:\n",
    "        return x\n",
    "    else:\n",
    "        return y\n",
    "print(my_max(3,4))"
   ]
  },
  {
   "cell_type": "code",
   "execution_count": 11,
   "id": "89104222",
   "metadata": {},
   "outputs": [
    {
     "name": "stdout",
     "output_type": "stream",
     "text": [
      "4\n"
     ]
    }
   ],
   "source": [
    "def my_max(x,y):\n",
    "    if x >= y:\n",
    "        return x\n",
    "    return y\n",
    "print(my_max(3,4))"
   ]
  },
  {
   "cell_type": "markdown",
   "id": "84aefead",
   "metadata": {},
   "source": [
    "## 3.4. Primes"
   ]
  },
  {
   "cell_type": "code",
   "execution_count": 19,
   "id": "16c8b7a9",
   "metadata": {},
   "outputs": [
    {
     "name": "stdout",
     "output_type": "stream",
     "text": [
      "True\n"
     ]
    }
   ],
   "source": [
    "def is_prime(n):\n",
    "    for k in range(n)[1:]:\n",
    "        if n%k==0:\n",
    "            return True\n",
    "    return False\n",
    "print(is_prime(11))"
   ]
  },
  {
   "cell_type": "code",
   "execution_count": 21,
   "id": "d038e812",
   "metadata": {},
   "outputs": [
    {
     "name": "stdout",
     "output_type": "stream",
     "text": [
      "True\n"
     ]
    }
   ],
   "source": [
    "def is_prime(n):\n",
    "    if n == 2 or n==3 or (n+1) % 6 == 0 or (n-1) % 6==0:\n",
    "        return True\n",
    "    return False\n",
    "print(is_prime(11))"
   ]
  },
  {
   "cell_type": "code",
   "execution_count": 26,
   "id": "efaefe6e",
   "metadata": {},
   "outputs": [
    {
     "name": "stdout",
     "output_type": "stream",
     "text": [
      "[2, 3, 5, 7, 11]\n"
     ]
    }
   ],
   "source": [
    "def all_primes(n):\n",
    "    ret = []\n",
    "    for j in range(n+1)[2:]:\n",
    "        if is_prime(j):\n",
    "            ret.append(j)\n",
    "    return ret\n",
    "print(all_primes(11))"
   ]
  },
  {
   "cell_type": "code",
   "execution_count": 28,
   "id": "c70b6618",
   "metadata": {},
   "outputs": [
    {
     "name": "stdout",
     "output_type": "stream",
     "text": [
      "[2, 3, 5, 7, 11, 13, 17]\n"
     ]
    }
   ],
   "source": [
    "def n_primes(n):\n",
    "    ret = []\n",
    "    count=0\n",
    "    j=2\n",
    "    while count < n:\n",
    "        if is_prime(j):\n",
    "            ret.append(j)\n",
    "            count +=1\n",
    "        j+=1\n",
    "    return ret\n",
    "print(n_primes(7))"
   ]
  },
  {
   "cell_type": "markdown",
   "id": "f6bee514",
   "metadata": {},
   "source": [
    "## 3.5. Root Finding"
   ]
  },
  {
   "cell_type": "code",
   "execution_count": 62,
   "id": "235840d1",
   "metadata": {},
   "outputs": [
    {
     "name": "stdout",
     "output_type": "stream",
     "text": [
      "0\n",
      "-5\n"
     ]
    }
   ],
   "source": [
    "def f1(x):\n",
    "    return 5*x**3 + 6*x**2 +x # f1 is cubic so always increasing this means a<b and f(a)<f(b)\n",
    "def f2(x):\n",
    "    return 2*x**2 + 6*x - 20 # for f2 f(a)<f(b) doesn't mean a<b, it could be \n",
    "\n",
    "def root(f, a, b):\n",
    "    midpoint = int((a+b)/2) # it changes to int so it finds only integer roots\n",
    "    x = f(midpoint)\n",
    "    if x == 0:\n",
    "        return midpoint\n",
    "    if x < 0:\n",
    "        return root(f, midpoint, b)\n",
    "    return root(f, a , midpoint)\n",
    "print(root(f1,-3,7)) # roots of f1 = {-1/5, -1, 0}\n",
    "print(root(f2,1,-30)) # roots of f2 = {-5, 2}"
   ]
  },
  {
   "cell_type": "markdown",
   "id": "8f979c90",
   "metadata": {},
   "source": [
    "the root function that I write for a) , actually works for b) too as it shown in the previous section, so no need for further implementation"
   ]
  },
  {
   "cell_type": "code",
   "execution_count": 65,
   "id": "f2e1184d",
   "metadata": {},
   "outputs": [
    {
     "name": "stdout",
     "output_type": "stream",
     "text": [
      "0\n",
      "-5\n",
      "function evals have same sign\n"
     ]
    }
   ],
   "source": [
    "def f1(x):\n",
    "    return 5*x**3 + 6*x**2 +x # f1 is cubic so always increasing this means a<b and f(a)<f(b)\n",
    "def f2(x):\n",
    "    return 2*x**2 + 6*x - 20 # for f2 f(a)<f(b) doesn't mean a<b, it could be \n",
    "\n",
    "def root(f, a, b):\n",
    "    if (f(a)>0 and f(b)>0) or (f(a)<0 and f(b)<0):\n",
    "        print(\"function evals have same sign\")\n",
    "        return\n",
    "    midpoint = int((a+b)/2) # it changes to int so it finds only integer roots\n",
    "    x = f(midpoint)\n",
    "    if x == 0:\n",
    "        return midpoint\n",
    "    if x < 0:\n",
    "        return root(f, midpoint, b)\n",
    "    return root(f, a , midpoint)\n",
    "print(root(f1,-3,7)) # roots of f1 = {-1/5, -1, 0}\n",
    "print(root(f2,1,-30)) # roots of f2 = {-5, 2}\n",
    "root(f2,30,-30)"
   ]
  }
 ],
 "metadata": {
  "kernelspec": {
   "display_name": "Python 3 (ipykernel)",
   "language": "python",
   "name": "python3"
  },
  "language_info": {
   "codemirror_mode": {
    "name": "ipython",
    "version": 3
   },
   "file_extension": ".py",
   "mimetype": "text/x-python",
   "name": "python",
   "nbconvert_exporter": "python",
   "pygments_lexer": "ipython3",
   "version": "3.10.0"
  }
 },
 "nbformat": 4,
 "nbformat_minor": 5
}
