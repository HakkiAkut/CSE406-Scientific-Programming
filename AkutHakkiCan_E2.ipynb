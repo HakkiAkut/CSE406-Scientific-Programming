{
 "cells": [
  {
   "cell_type": "markdown",
   "id": "82909107",
   "metadata": {},
   "source": [
    "# 4. Lists\n",
    "## 4.1. Short Questions"
   ]
  },
  {
   "cell_type": "code",
   "execution_count": 1,
   "id": "3be1dcfa",
   "metadata": {},
   "outputs": [
    {
     "name": "stdout",
     "output_type": "stream",
     "text": [
      "0\n",
      "1\n",
      "2\n",
      "8\n",
      "9\n"
     ]
    }
   ],
   "source": [
    "def print_list(list1):\n",
    "    for item in (list1):\n",
    "        print(item)\n",
    "my_list= [0,1,2,8,9]\n",
    "print_list(my_list)"
   ]
  },
  {
   "cell_type": "code",
   "execution_count": 8,
   "id": "faccb340",
   "metadata": {},
   "outputs": [
    {
     "name": "stdout",
     "output_type": "stream",
     "text": [
      "9\n",
      "8\n",
      "2\n",
      "1\n",
      "0\n"
     ]
    }
   ],
   "source": [
    "def reverse_print_list(list1):\n",
    "    for item in (list1[::-1]):\n",
    "        print(item)\n",
    "my_list= [0,1,2,8,9]\n",
    "reverse_print_list(my_list)"
   ]
  },
  {
   "cell_type": "code",
   "execution_count": 9,
   "id": "0cdbcef1",
   "metadata": {},
   "outputs": [
    {
     "name": "stdout",
     "output_type": "stream",
     "text": [
      "5\n"
     ]
    }
   ],
   "source": [
    "def list_length(list1):\n",
    "    count=0\n",
    "    for item in (list1):\n",
    "        count +=1\n",
    "    return count\n",
    "my_list= [0,1,2,8,9]\n",
    "print(list_length(my_list))"
   ]
  },
  {
   "cell_type": "markdown",
   "id": "524a6517",
   "metadata": {},
   "source": [
    "## 4.2. Copying Lists"
   ]
  },
  {
   "cell_type": "code",
   "execution_count": 17,
   "id": "856bc7d5",
   "metadata": {},
   "outputs": [],
   "source": [
    "a = [2,5,9,24,32]"
   ]
  },
  {
   "cell_type": "code",
   "execution_count": 18,
   "id": "73fc5d2a",
   "metadata": {},
   "outputs": [],
   "source": [
    "b= a"
   ]
  },
  {
   "cell_type": "code",
   "execution_count": 19,
   "id": "2379ad18",
   "metadata": {},
   "outputs": [],
   "source": [
    "b[1]=-5"
   ]
  },
  {
   "cell_type": "code",
   "execution_count": 20,
   "id": "fee82554",
   "metadata": {},
   "outputs": [
    {
     "name": "stdout",
     "output_type": "stream",
     "text": [
      "-5\n"
     ]
    }
   ],
   "source": [
    "print(a[1]) # it prints changed one, even if its different vars,\n",
    "# since it's a list it doesn't create a new list rather it uses the same list, when changing b we actually changing a "
   ]
  },
  {
   "cell_type": "code",
   "execution_count": 21,
   "id": "60f10faa",
   "metadata": {},
   "outputs": [],
   "source": [
    "c= a[:]"
   ]
  },
  {
   "cell_type": "code",
   "execution_count": 22,
   "id": "688a71f0",
   "metadata": {},
   "outputs": [],
   "source": [
    "c[2]=-9"
   ]
  },
  {
   "cell_type": "code",
   "execution_count": 23,
   "id": "d5647e14",
   "metadata": {},
   "outputs": [
    {
     "name": "stdout",
     "output_type": "stream",
     "text": [
      "9\n"
     ]
    }
   ],
   "source": [
    "print(a[2]) # in this case we create a new list c with elements of list a"
   ]
  },
  {
   "cell_type": "code",
   "execution_count": 24,
   "id": "7c9397f3",
   "metadata": {},
   "outputs": [
    {
     "name": "stdout",
     "output_type": "stream",
     "text": [
      "1\n"
     ]
    }
   ],
   "source": [
    "def set_first_elem_to_zero(l):\n",
    "    l[0] =1\n",
    "    return l\n",
    "set_first_elem_to_zero(a)\n",
    "print(a[0]) # same as first case it prints changed one, it doesn't create a new list rather it uses the same list"
   ]
  },
  {
   "cell_type": "markdown",
   "id": "5332ff6f",
   "metadata": {},
   "source": [
    "## 4.3. List of lists"
   ]
  },
  {
   "cell_type": "code",
   "execution_count": 38,
   "id": "260568cc",
   "metadata": {},
   "outputs": [],
   "source": [
    "a = [[]] * 3"
   ]
  },
  {
   "cell_type": "code",
   "execution_count": 39,
   "id": "f2122ba5",
   "metadata": {},
   "outputs": [],
   "source": [
    "b = [[] for _ in range(3)]"
   ]
  },
  {
   "cell_type": "code",
   "execution_count": 40,
   "id": "7042971b",
   "metadata": {},
   "outputs": [
    {
     "name": "stdout",
     "output_type": "stream",
     "text": [
      "[[], [], []]\n",
      "[[], [], []]\n"
     ]
    }
   ],
   "source": [
    "print(a)\n",
    "print(b) # I guess there is no difference"
   ]
  },
  {
   "cell_type": "markdown",
   "id": "d9d741ce",
   "metadata": {},
   "source": [
    "## 4.4. List and functions"
   ]
  },
  {
   "cell_type": "code",
   "execution_count": 41,
   "id": "90090afd",
   "metadata": {},
   "outputs": [
    {
     "name": "stdout",
     "output_type": "stream",
     "text": [
      "0\n"
     ]
    }
   ],
   "source": [
    "def change_to_zero(list1,index):\n",
    "    list1[index]=0\n",
    "a = [2,5,9,24,32]\n",
    "change_to_zero(a,2)\n",
    "print(a[2])"
   ]
  },
  {
   "cell_type": "markdown",
   "id": "62e16960",
   "metadata": {},
   "source": [
    "## 4.5 Primes"
   ]
  },
  {
   "cell_type": "code",
   "execution_count": 50,
   "id": "84bbdb7d",
   "metadata": {},
   "outputs": [],
   "source": [
    "def is_prime(n):\n",
    "    if n == 2 or n==3 or (n+1) % 6 == 0 or (n-1) % 6==0:\n",
    "        return True\n",
    "    return False\n",
    "def all_primes(n):\n",
    "    ret = []\n",
    "    for j in range(n+1)[2:]:\n",
    "        if is_prime(j):\n",
    "            ret.append(j)\n",
    "    return ret\n",
    "\n",
    "def n_primes(n):\n",
    "    ret = []\n",
    "    count=0\n",
    "    j=2\n",
    "    while count < n:\n",
    "        if is_prime(j):\n",
    "            ret.append(j)\n",
    "            count +=1\n",
    "        j+=1\n",
    "    return ret\n"
   ]
  },
  {
   "cell_type": "code",
   "execution_count": 51,
   "id": "5e1e6b42",
   "metadata": {},
   "outputs": [
    {
     "name": "stdout",
     "output_type": "stream",
     "text": [
      "[2, 3, 5, 7, 11]\n",
      "[2, 3, 5, 7, 11, 13, 17]\n"
     ]
    }
   ],
   "source": [
    "print(all_primes(11))\n",
    "print(n_primes(7))"
   ]
  },
  {
   "cell_type": "markdown",
   "id": "1bf9a98b",
   "metadata": {},
   "source": [
    "## 4.6. List comprehensions"
   ]
  },
  {
   "cell_type": "code",
   "execution_count": 5,
   "id": "1ef71cf7",
   "metadata": {},
   "outputs": [
    {
     "name": "stdout",
     "output_type": "stream",
     "text": [
      "[[0, 1, 2], [0, 1, 2]]\n"
     ]
    }
   ],
   "source": [
    "lis1 = [[i for i in range(3)], [j for j in range(3)] ]\n",
    "print(lis1)"
   ]
  },
  {
   "cell_type": "code",
   "execution_count": 6,
   "id": "3663931c",
   "metadata": {},
   "outputs": [
    {
     "name": "stdout",
     "output_type": "stream",
     "text": [
      "[[0, 1, 2], [0, 1, 2, 3]]\n"
     ]
    }
   ],
   "source": [
    "lis2 = [[i for i in range(3)], [j for j in range(4)] ] # where i < j\n",
    "print(lis2)"
   ]
  },
  {
   "cell_type": "code",
   "execution_count": null,
   "id": "21355887",
   "metadata": {},
   "outputs": [],
   "source": [
    "lis3 = [[all_primes(3)] [all_primes(4)]  j ] # where i < j\n",
    "print(lis2)"
   ]
  },
  {
   "cell_type": "markdown",
   "id": "f70b60db",
   "metadata": {},
   "source": [
    "## 4.7. Filter "
   ]
  },
  {
   "cell_type": "code",
   "execution_count": 7,
   "id": "fa7c1598",
   "metadata": {},
   "outputs": [
    {
     "name": "stdout",
     "output_type": "stream",
     "text": [
      "[1, 2, 3, 4, 5, 7]\n"
     ]
    }
   ],
   "source": [
    "def myfilter(list1):\n",
    "    filtered=[]\n",
    "    return [i for i in list1 if i not in filtered and not filtered.append(i)]\n",
    "list2=[1,1,1,2,2,2,3,4,5,5,7]\n",
    "print(myfilter(list2))"
   ]
  },
  {
   "cell_type": "markdown",
   "id": "f39e8837",
   "metadata": {},
   "source": [
    "## 4.8. Flatten a list of lists"
   ]
  },
  {
   "cell_type": "code",
   "execution_count": 9,
   "id": "70f6c216",
   "metadata": {},
   "outputs": [
    {
     "name": "stdout",
     "output_type": "stream",
     "text": [
      "[1, 3, 3, 6]\n"
     ]
    }
   ],
   "source": [
    "def flatten_list(list1):\n",
    "    flat=[]\n",
    "    for item in list1:\n",
    "        flat +=item\n",
    "    return flat\n",
    "lis4 =  [[1,3], [3,6]]\n",
    "print(flatten_list(lis4))"
   ]
  },
  {
   "cell_type": "markdown",
   "id": "46fc17ba",
   "metadata": {},
   "source": [
    "## 4.9. Finding the longest word"
   ]
  },
  {
   "cell_type": "code",
   "execution_count": 12,
   "id": "18a017d3",
   "metadata": {},
   "outputs": [
    {
     "name": "stdout",
     "output_type": "stream",
     "text": [
      "football\n"
     ]
    }
   ],
   "source": [
    "import string\n",
    "def longest_word(str1):\n",
    "    str2 = str1.translate(str.maketrans('', '', string.punctuation)) # remove punctation\n",
    "    str_list= str2.split() # split words to a list\n",
    "    longest=\"\"\n",
    "    for item in str_list:\n",
    "        if len(item) > len(longest):\n",
    "            longest = item\n",
    "    return longest\n",
    "print(longest_word(\"Hello, how was the football match earlier today???\"))"
   ]
  },
  {
   "cell_type": "markdown",
   "id": "da0fb75e",
   "metadata": {},
   "source": [
    "## 4.10. Collatz sequence, part 2"
   ]
  },
  {
   "cell_type": "code",
   "execution_count": 14,
   "id": "9bb31203",
   "metadata": {},
   "outputs": [
    {
     "name": "stdout",
     "output_type": "stream",
     "text": [
      "[103, 310, 155, 466, 233, 700, 350, 175, 526, 263, 790, 395, 1186, 593, 1780, 890, 445, 1336, 668, 334, 167, 502, 251, 754, 377, 1132, 566, 283, 850, 425, 1276, 638, 319, 958, 479, 1438, 719, 2158, 1079, 3238, 1619, 4858, 2429, 7288, 3644, 1822, 911, 2734, 1367, 4102, 2051, 6154, 3077, 9232, 4616, 2308, 1154, 577, 1732, 866, 433, 1300, 650, 325, 976, 488, 244, 122, 61, 184, 92, 46, 23, 70, 35, 106, 53, 160, 80, 40, 20, 10, 5, 16, 8, 4, 2, 1]\n"
     ]
    }
   ],
   "source": [
    "def collatz_sequence2(n, list1 = []):\n",
    "    list1.append(n)\n",
    "    if n == 1:\n",
    "        return list1\n",
    "    if n % 2 == 0:\n",
    "        return collatz_sequence2(int(n/2), list1)\n",
    "    else:\n",
    "        return collatz_sequence2(int(3*n +1), list1)\n",
    "print(collatz_sequence2(103))"
   ]
  },
  {
   "cell_type": "markdown",
   "id": "fde20ba2",
   "metadata": {},
   "source": [
    "## 4.11. Pivots"
   ]
  },
  {
   "cell_type": "code",
   "execution_count": 15,
   "id": "75f71313",
   "metadata": {},
   "outputs": [
    {
     "name": "stdout",
     "output_type": "stream",
     "text": [
      "[1, 3, 6, 4, 7]\n"
     ]
    }
   ],
   "source": [
    "def pivots(a, ys):\n",
    "    smaller=[]\n",
    "    greater=[]\n",
    "    for item in ys:\n",
    "        if item > a:\n",
    "            greater.append(item)\n",
    "        else:\n",
    "            smaller.append(item)\n",
    "    return smaller +[a]+ greater\n",
    "lis1 = [6, 4, 1, 7]\n",
    "print(pivots(3, lis1))"
   ]
  },
  {
   "cell_type": "markdown",
   "id": "ee146780",
   "metadata": {},
   "source": [
    "## 4.12.  Prime challenge"
   ]
  },
  {
   "cell_type": "code",
   "execution_count": 16,
   "id": "882aed60",
   "metadata": {},
   "outputs": [
    {
     "name": "stdout",
     "output_type": "stream",
     "text": [
      "[2, 3, 5, 7, 11]\n"
     ]
    }
   ],
   "source": [
    "def primes(n):\n",
    "    return [x for x in range(n+1)[2:] if (x == 2 or x==3 or (x+1) % 6 == 0 or (x-1) % 6==0)]\n",
    "print(primes(11))"
   ]
  },
  {
   "cell_type": "markdown",
   "id": "8016103f",
   "metadata": {},
   "source": [
    "# 5. Tuples\n",
    "## 5.1.  Swapping two values"
   ]
  },
  {
   "cell_type": "code",
   "execution_count": 17,
   "id": "d4615a72",
   "metadata": {},
   "outputs": [
    {
     "name": "stdout",
     "output_type": "stream",
     "text": [
      "2 1\n"
     ]
    }
   ],
   "source": [
    "a=1\n",
    "b=2\n",
    "a,b = b,a\n",
    "print(a, b)"
   ]
  },
  {
   "cell_type": "markdown",
   "id": "b91199bc",
   "metadata": {},
   "source": [
    "## 5.2. Zip"
   ]
  },
  {
   "cell_type": "code",
   "execution_count": 20,
   "id": "acdc78ee",
   "metadata": {},
   "outputs": [
    {
     "name": "stdout",
     "output_type": "stream",
     "text": [
      "((1, 2), (4, 9), (6, 11))\n"
     ]
    }
   ],
   "source": [
    "x=[1,4,6]\n",
    "y=[2,9,11]\n",
    "zipped = zip(x, y)\n",
    "print(tuple(zipped))"
   ]
  },
  {
   "cell_type": "markdown",
   "id": "69553feb",
   "metadata": {},
   "source": [
    "## 5.3. Distances"
   ]
  },
  {
   "cell_type": "code",
   "execution_count": null,
   "id": "dd1d387f",
   "metadata": {},
   "outputs": [],
   "source": []
  },
  {
   "cell_type": "markdown",
   "id": "ae35a4b3",
   "metadata": {},
   "source": [
    "# 6. Dictionaries\n",
    "## 6.1. Printing a dictionary"
   ]
  },
  {
   "cell_type": "code",
   "execution_count": 23,
   "id": "43c03fb4",
   "metadata": {},
   "outputs": [
    {
     "name": "stdout",
     "output_type": "stream",
     "text": [
      "1 a\n",
      "2 b\n",
      "3 c\n"
     ]
    }
   ],
   "source": [
    "def write_dic(dic):\n",
    "    for key in dic:\n",
    "        print(key, dic[key])\n",
    "dic= {\n",
    "    1:\"a\",\n",
    "    2:\"b\",\n",
    "    3:\"c\"\n",
    "}\n",
    "write_dic(dic)"
   ]
  },
  {
   "cell_type": "markdown",
   "id": "6461c435",
   "metadata": {},
   "source": [
    "## 6.2. Histogram"
   ]
  },
  {
   "cell_type": "code",
   "execution_count": 25,
   "id": "57d96dea",
   "metadata": {},
   "outputs": [
    {
     "name": "stdout",
     "output_type": "stream",
     "text": [
      "{'a': 3, 'b': 1, 'c': 2}\n"
     ]
    }
   ],
   "source": [
    "def histogram(list1):\n",
    "    counts={}\n",
    "    for item in list1:\n",
    "        if item in counts.keys():\n",
    "            counts[item] += 1\n",
    "        else:\n",
    "            counts[item] = 1\n",
    "    return counts\n",
    "lis5= [\"a\",\"a\",\"b\",\"c\",\"a\",\"c\"]\n",
    "print(histogram(lis5))"
   ]
  },
  {
   "cell_type": "markdown",
   "id": "688af2c9",
   "metadata": {},
   "source": [
    "## 6.3.  Get method"
   ]
  },
  {
   "cell_type": "code",
   "execution_count": 27,
   "id": "af13d4db",
   "metadata": {},
   "outputs": [
    {
     "name": "stdout",
     "output_type": "stream",
     "text": [
      "{'a': 3, 'b': 1, 'c': 2}\n"
     ]
    }
   ],
   "source": [
    "def histogram_with_get(list1):\n",
    "    counts={}\n",
    "    counts.get(\"a\",0)\n",
    "    counts.get(\"b\",0)\n",
    "    counts.get(\"c\",0)\n",
    "    for item in list1:\n",
    "        if counts[item] != 0:\n",
    "            counts[item] += 1\n",
    "        else:\n",
    "            counts[item] = 1\n",
    "    return counts\n",
    "lis5= [\"a\",\"a\",\"b\",\"c\",\"a\",\"c\"]\n",
    "print(histogram(lis5))"
   ]
  },
  {
   "cell_type": "markdown",
   "id": "37ecd123",
   "metadata": {},
   "source": [
    "## 6.4. Random text generator"
   ]
  },
  {
   "cell_type": "code",
   "execution_count": null,
   "id": "794c6b8a",
   "metadata": {},
   "outputs": [],
   "source": []
  },
  {
   "cell_type": "markdown",
   "id": "9ee7f693",
   "metadata": {},
   "source": [
    "## 6.5. Vector functions"
   ]
  },
  {
   "cell_type": "code",
   "execution_count": 1,
   "id": "4494e47b",
   "metadata": {},
   "outputs": [
    {
     "name": "stdout",
     "output_type": "stream",
     "text": [
      "[5, 4, 9]\n"
     ]
    }
   ],
   "source": [
    "def add_vectors(v1,v2):\n",
    "    return [v1[0]+v2[0] , v1[1]+v2[1], v1[2]+ v2[2]]\n",
    "vec1= [1,2,3]\n",
    "vec2= [4,2,6]\n",
    "print(add_vectors(vec1,vec2))"
   ]
  },
  {
   "cell_type": "code",
   "execution_count": 2,
   "id": "046bc128",
   "metadata": {},
   "outputs": [
    {
     "name": "stdout",
     "output_type": "stream",
     "text": [
      "26\n"
     ]
    }
   ],
   "source": [
    "def inner_product(v1,v2):\n",
    "    return v1[0]*v2[0] + v1[1]*v2[1] + v1[2]* v2[2]\n",
    "vec1= [1,2,3]\n",
    "vec2= [4,2,6]\n",
    "print(inner_product(vec1,vec2)) # 4 + 4 + 18 = 26"
   ]
  },
  {
   "cell_type": "code",
   "execution_count": 10,
   "id": "dd7e58b4",
   "metadata": {},
   "outputs": [
    {
     "name": "stdout",
     "output_type": "stream",
     "text": [
      "{0: 4, 1: 5, 2: 7}\n"
     ]
    }
   ],
   "source": [
    "def add_sparse_vectors(v1,v2):\n",
    "    return {0:(0 if 0 not in v1.keys() else v1[0]) + (0 if 0 not in v2.keys() else v2[0]),\n",
    "            1:(0 if 1 not in v1.keys() else v1[1]) + (0 if 1 not in v2.keys() else v2[1]),\n",
    "            2:(0 if 2 not in v1.keys() else v1[2]) + (0 if 2 not in v2.keys() else v2[2])\n",
    "           }\n",
    "\n",
    "vec1= {0:1,2:6} # [1,0,6]\n",
    "vec2= {0:3,1:5,2:1} # [3,5,1]\n",
    "print(add_sparse_vectors(vec1,vec2))"
   ]
  },
  {
   "cell_type": "code",
   "execution_count": 15,
   "id": "f5510076",
   "metadata": {},
   "outputs": [
    {
     "name": "stdout",
     "output_type": "stream",
     "text": [
      "9\n"
     ]
    }
   ],
   "source": [
    "def inner_sparse_product(v1,v2):\n",
    "    return ((0 if 0 not in v1.keys() else v1[0]) * (0 if 0 not in v2.keys() else v2[0]) +\n",
    "            (0 if 1 not in v1.keys() else v1[1]) * (0 if 1 not in v2.keys() else v2[1]) +\n",
    "            (0 if 2 not in v1.keys() else v1[2]) * (0 if 2 not in v2.keys() else v2[2]) )\n",
    "vec1= {0:1,2:6} # [1,0,6]\n",
    "vec2= {0:3,1:5,2:1} # [3,5,1]\n",
    "print(inner_sparse_product(vec1,vec2)) # 3 + 0 + 6 = 9"
   ]
  },
  {
   "cell_type": "code",
   "execution_count": 18,
   "id": "bcdaa36e",
   "metadata": {},
   "outputs": [
    {
     "name": "stdout",
     "output_type": "stream",
     "text": [
      "[4, 7, 4]\n"
     ]
    }
   ],
   "source": [
    "def add_dense_sparse_vectors(dv,sv):\n",
    "    return [dv[0]+(0 if 0 not in sv.keys() else sv[0]) ,\n",
    "            dv[1]+(0 if 1 not in sv.keys() else sv[1]) ,\n",
    "            dv[2]+ (0 if 2 not in sv.keys() else sv[2])]\n",
    "vec1= [1,2,3]\n",
    "vec2= {0:3,1:5,2:1} # [3,5,1]\n",
    "print(add_dense_sparse_vectors(vec1,vec2))"
   ]
  },
  {
   "cell_type": "code",
   "execution_count": 19,
   "id": "57f77441",
   "metadata": {},
   "outputs": [
    {
     "name": "stdout",
     "output_type": "stream",
     "text": [
      "16\n"
     ]
    }
   ],
   "source": [
    "def inner_dense_sparse_product(dv,sv):\n",
    "    return (dv[0] * (0 if 0 not in sv.keys() else sv[0]) +\n",
    "            dv[1] * (0 if 1 not in sv.keys() else sv[1]) +\n",
    "            dv[2] * (0 if 2 not in sv.keys() else sv[2]) )\n",
    "vec1= [1,2,3]\n",
    "vec2= {0:3,1:5,2:1} # [3,5,1]\n",
    "print(inner_dense_sparse_product(vec1,vec2)) # 3 + 10 + 3 = 16"
   ]
  },
  {
   "cell_type": "markdown",
   "id": "3001f05b",
   "metadata": {},
   "source": [
    "## 6.6. Reverse look-up"
   ]
  },
  {
   "cell_type": "code",
   "execution_count": 20,
   "id": "a2f0e71b",
   "metadata": {},
   "outputs": [
    {
     "name": "stdout",
     "output_type": "stream",
     "text": [
      "3\n"
     ]
    }
   ],
   "source": [
    "def find_key(dic,val):\n",
    "    for key, value in dic.items():\n",
    "        if value== val:\n",
    "            return key\n",
    "    return None\n",
    "dic1 ={0:\"a\", 1:\"b\", 2:\"c\",3:\"d\",4:\"e\"}\n",
    "print(find_key(dic1,\"d\"))"
   ]
  }
 ],
 "metadata": {
  "kernelspec": {
   "display_name": "Python 3 (ipykernel)",
   "language": "python",
   "name": "python3"
  },
  "language_info": {
   "codemirror_mode": {
    "name": "ipython",
    "version": 3
   },
   "file_extension": ".py",
   "mimetype": "text/x-python",
   "name": "python",
   "nbconvert_exporter": "python",
   "pygments_lexer": "ipython3",
   "version": "3.10.0"
  }
 },
 "nbformat": 4,
 "nbformat_minor": 5
}
