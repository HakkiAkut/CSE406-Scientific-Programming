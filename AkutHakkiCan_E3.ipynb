{
 "cells": [
  {
   "cell_type": "markdown",
   "id": "745767f9",
   "metadata": {},
   "source": [
    "# 7. File I/O\n",
    "## 7.1.  Open a file"
   ]
  },
  {
   "cell_type": "code",
   "execution_count": null,
   "id": "9a2e9e6b",
   "metadata": {},
   "outputs": [],
   "source": [
    "file = open(\"filename.txt\", \"r\")\n",
    "\n",
    "print(file.read())"
   ]
  },
  {
   "cell_type": "markdown",
   "id": "73b443a4",
   "metadata": {},
   "source": [
    "## 7.2.  Wordcount"
   ]
  },
  {
   "cell_type": "code",
   "execution_count": 2,
   "id": "4179525f",
   "metadata": {},
   "outputs": [
    {
     "name": "stdout",
     "output_type": "stream",
     "text": [
      "['the', 'I', 'and', 'to', 'of', 'a', 'you', 'my', 'in', 'is', 'that', 'not', 'me', 'And', 'with', 'it', 'be', 'his', 'your', 'for']\n"
     ]
    }
   ],
   "source": [
    "import string\n",
    "import heapq\n",
    "items={}\n",
    "with open(\"shakespeare.txt\",\"r\") as file: # file https://web.stanford.edu/~schmit/cme193/ex/data/shakespeare.txt\n",
    "    for i in range(182): # the sonnets starts from 183th line, so I skip to 183\n",
    "        file.readline()\n",
    "    for line in file:\n",
    "        line = line.translate(str.maketrans('', '', string.punctuation)) # remove punctation\n",
    "        str_list= line.split() # split words to a list\n",
    "        for item in str_list:\n",
    "            if item in items.keys():\n",
    "                items[item] += 1\n",
    "            else:\n",
    "                items[item] = 1    \n",
    "    print(heapq.nlargest(20, items, key=items.get))"
   ]
  },
  {
   "cell_type": "code",
   "execution_count": 3,
   "id": "348bbf8a",
   "metadata": {},
   "outputs": [
    {
     "name": "stdout",
     "output_type": "stream",
     "text": [
      "34465\n"
     ]
    }
   ],
   "source": [
    "print(len(items))"
   ]
  },
  {
   "cell_type": "code",
   "execution_count": 4,
   "id": "f91e1595",
   "metadata": {},
   "outputs": [
    {
     "name": "stdout",
     "output_type": "stream",
     "text": [
      "10182\n"
     ]
    }
   ],
   "source": [
    "count=0\n",
    "for key in items:\n",
    "    if items[key]>=5:\n",
    "        count +=1\n",
    "print(count)"
   ]
  },
  {
   "cell_type": "code",
   "execution_count": 5,
   "id": "80172599",
   "metadata": {},
   "outputs": [
    {
     "name": "stdout",
     "output_type": "stream",
     "text": [
      "the 23403, I 20371, and 18636, to 15883, of 15788, a 12710, you 12070, my 10832, in 9910, is 8309, that 8069, not 8039, me 7743, And 7455, with 6825, it 6727, be 6390, his 6320, your 6013, for 5795, this 5501, have 5432, him 5162, he 4841, thou 4558, will 4510, as 4315, The 4033, so 4011, but 3658, her 3656, thy 3632, all 3423, To 3350, do 3242, thee 3159, shall 3125, are 3106, by 2935, on 2850, That 2833, no 2714, our 2693, But 2612, we 2571, What 2321, from 2304, at 2284, good 2264, O 2261, what 2143, am 2109, more 2066, would 2023, was 2018, lord 2018, Enter 1987, now 1980, them 1978, love 1955, A 1943, their 1935, they 1902, if 1842, or 1817, For 1786, man 1781, sir 1755, Ill 1753, she 1742, well 1734, If 1671, hath 1649, My 1649, us 1620, You 1586, one 1584, here 1583, know 1570, an 1567, come 1558, then 1527, like 1512, OF 1481, say 1470, make 1468, than 1456, may 1439, As 1429, should 1423, which 1419, He 1412, upon 1405, were 1387, did 1385, must 1361, KING 1322, there 1318, see 1309, let 1287, had 1274, such 1256, out 1236, Why 1206, when 1204, go 1194, King 1182, too 1172, How 1171, yet 1149, This 1145, In 1107, these 1103, some 1096, No 1083, mine 1068, can 1062, th 1060, up 1042, So 1030, Exeunt 1028, give 1003, much 995, With 993, take 993, how 992, most 991, time 984, heart 981, Exit 980, Of 977, speak 967, It 962, Come 950, think 947, Thou 926, Which 904, never 899, tell 874, Is 855, When 846, hand 837, art 835, life 827, men 818, doth 816, By 815, Let 812, great 809, death 806, Now 798, father 796, hear 786, own 771, very 759, tis 759, made 758, again 756, We 734, true 733, Sir 727, any 726, Well 726, cannot 721, day 714, God 702, fair 695, Then 694, Ay 689, eyes 687, been 684, away 681, Or 680, Lord 664, AND 664, OR 661, other 658, FOR 658, Who 657, BY 654, SCENE 651, where 650, Your 650, sweet 646, Tis 646, done 644, name 643, son 638, blood 632, old 626, before 626, two 626, down 626, night 624, world 622, FIRST 617, nor 611, leave 604, thus 602, comes 589, the 23403, I 20371, and 18636, to 15883, of 15788, a 12710, you 12070, my 10832, in 9910, is 8309, that 8069, not 8039, me 7743, And 7455, with 6825, it 6727, be 6390, his 6320, your 6013, for 5795, this 5501, have 5432, him 5162, he 4841, thou 4558, will 4510, as 4315, The 4033, so 4011, but 3658, her 3656, thy 3632, all 3423, To 3350, do 3242, thee 3159, shall 3125, are 3106, by 2935, on 2850, That 2833, no 2714, our 2693, But 2612, we 2571, What 2321, from 2304, at 2284, good 2264, O 2261, what 2143, am 2109, more 2066, would 2023, was 2018, lord 2018, Enter 1987, now 1980, them 1978, love 1955, A 1943, their 1935, they 1902, if 1842, or 1817, For 1786, man 1781, sir 1755, Ill 1753, she 1742, well 1734, If 1671, hath 1649, My 1649, us 1620, You 1586, one 1584, here 1583, know 1570, an 1567, come 1558, then 1527, like 1512, OF 1481, say 1470, make 1468, than 1456, may 1439, As 1429, should 1423, which 1419, He 1412, upon 1405, were 1387, did 1385, must 1361, KING 1322, there 1318, see 1309, let 1287, had 1274, such 1256, out 1236, Why 1206, when 1204, go 1194, King 1182, too 1172, How 1171, yet 1149, This 1145, In 1107, these 1103, some 1096, No 1083, mine 1068, can 1062, th 1060, up 1042, So 1030, Exeunt 1028, give 1003, much 995, With 993, take 993, how 992, most 991, time 984, heart 981, Exit 980, Of 977, speak 967, It 962, Come 950, think 947, Thou 926, Which 904, never 899, tell 874, Is 855, When 846, hand 837, art 835, life 827, men 818, doth 816, By 815, Let 812, great 809, death 806, Now 798, father 796, hear 786, own 771, very 759, tis 759, made 758, again 756, We 734, true 733, Sir 727, any 726, Well 726, cannot 721, day 714, God 702, fair 695, Then 694, Ay 689, eyes 687, been 684, away 681, Or 680, Lord 664, AND 664, OR 661, other 658, FOR 658, Who 657, BY 654, SCENE 651, where 650, Your 650, sweet 646, Tis 646, done 644, name 643, son 638, blood 632, old 626, before 626, two 626, down 626, night 624, world 622, FIRST 617, nor 611, leave 604, thus 602, comes 589, \n"
     ]
    }
   ],
   "source": [
    "f = open(\"most200.txt\", \"a\")\n",
    "for item in heapq.nlargest(200, items, key=items.get):\n",
    "    f.write(item +\" \"+str(items[item]) + \", \")\n",
    "f.close()\n",
    "f = open(\"most200.txt\", \"r\")\n",
    "print(f.read())"
   ]
  },
  {
   "cell_type": "markdown",
   "id": "b12e6843",
   "metadata": {},
   "source": [
    "## 7.3. Random text generator II"
   ]
  },
  {
   "cell_type": "code",
   "execution_count": null,
   "id": "4bd7e4b5",
   "metadata": {},
   "outputs": [],
   "source": []
  },
  {
   "cell_type": "markdown",
   "id": "8dc2138a",
   "metadata": {},
   "source": [
    "## 7.4. Sum of lists"
   ]
  },
  {
   "cell_type": "code",
   "execution_count": 6,
   "id": "caf786e3",
   "metadata": {},
   "outputs": [],
   "source": [
    "import random\n",
    "def random_int(n,a,b,filename):\n",
    "    with open(filename,\"w\") as file:\n",
    "        count = 0\n",
    "        while True:\n",
    "            file.write(str(random.randint(a, b)))\n",
    "            count +=1\n",
    "            if count < n : file.write(\"\\n\")\n",
    "            else: break\n",
    "random_int(5,10,100,\"sol.txt\")"
   ]
  },
  {
   "cell_type": "code",
   "execution_count": 7,
   "id": "81303b76",
   "metadata": {},
   "outputs": [
    {
     "name": "stdout",
     "output_type": "stream",
     "text": [
      "[91, 49, 11, 22, 44]\n"
     ]
    }
   ],
   "source": [
    "def read_file(filename):\n",
    "    ret = []\n",
    "    with open(filename,\"r\") as file:\n",
    "        for line in file: \n",
    "            ret.append(int(line))\n",
    "    return ret\n",
    "print(read_file(\"sol.txt\"))"
   ]
  },
  {
   "cell_type": "code",
   "execution_count": 8,
   "id": "4c745268",
   "metadata": {},
   "outputs": [],
   "source": [
    "def sum_of_lists(f1,f2,k):\n",
    "    uv=[]\n",
    "    l1 = read_file(f1)\n",
    "    l2 = read_file(f2)\n",
    "    for item in l1:\n",
    "        if k - item in l2:\n",
    "            uv.append((item, k - item))\n",
    "    return uv"
   ]
  },
  {
   "cell_type": "code",
   "execution_count": 9,
   "id": "dcb1e5aa",
   "metadata": {},
   "outputs": [
    {
     "name": "stdout",
     "output_type": "stream",
     "text": [
      "5000\n",
      "\n",
      "[(688, 4312), (4061, 939), (1470, 3530), (3927, 1073), (3003, 1997), (491, 4509), (4640, 360), (3739, 1261), (4957, 43), (2035, 2965), (2644, 2356), (3918, 1082), (37, 4963), (2740, 2260), (3624, 1376), (4873, 127), (256, 4744), (3847, 1153), (3896, 1104), (415, 4585), (1372, 3628), (4119, 881), (1693, 3307), (1811, 3189), (840, 4160), (4347, 653), (987, 4013), (2294, 2706), (3382, 1618), (3801, 1199), (1366, 3634), (444, 4556), (3963, 1037), (1646, 3354), (1134, 3866), (1671, 3329), (3305, 1695), (1017, 3983), (2237, 2763), (4479, 521), (2088, 2912), (3784, 1216), (2631, 2369), (3404, 1596), (4396, 604), (1178, 3822), (1975, 3025), (650, 4350), (4295, 705), (491, 4509), (777, 4223), (3325, 1675), (197, 4803), (234, 4766), (4253, 747), (1150, 3850), (2104, 2896), (3847, 1153), (1784, 3216), (4612, 388), (4328, 672), (3062, 1938), (2210, 2790), (4855, 145), (3456, 1544), (1122, 3878), (540, 4460), (3471, 1529), (297, 4703), (1565, 3435), (2167, 2833), (541, 4459), (1366, 3634), (3471, 1529), (194, 4806), (2040, 2960), (1573, 3427), (2111, 2889), (4738, 262), (3638, 1362), (254, 4746), (1368, 3632), (238, 4762), (311, 4689), (4724, 276), (2277, 2723), (4420, 580), (2190, 2810), (3007, 1993), (2747, 2253), (3296, 1704), (2646, 2354), (1737, 3263), (3401, 1599), (170, 4830), (3361, 1639), (2708, 2292), (644, 4356), (2277, 2723), (1831, 3169), (3028, 1972), (1271, 3729), (3765, 1235), (4037, 963), (4388, 612), (393, 4607), (4773, 227), (1597, 3403), (3663, 1337), (3079, 1921), (1751, 3249), (130, 4870), (2958, 2042), (3015, 1985), (3467, 1533), (345, 4655), (2237, 2763), (1038, 3962), (2355, 2645), (2088, 2912), (196, 4804), (3966, 1034), (4464, 536), (1175, 3825), (840, 4160), (1750, 3250), (3975, 1025), (1375, 3625), (3460, 1540), (540, 4460), (2677, 2323), (4699, 301), (974, 4026), (2005, 2995), (4656, 344), (1597, 3403), (1732, 3268), (1979, 3021), (627, 4373), (3353, 1647), (2689, 2311), (1547, 3453), (2915, 2085), (3962, 1038), (1550, 3450), (160, 4840), (1109, 3891), (1379, 3621), (3770, 1230), (1462, 3538), (1242, 3758), (80, 4920), (4076, 924), (594, 4406), (401, 4599), (4037, 963), (2333, 2667), (4004, 996), (4843, 157), (224, 4776), (4653, 347), (2855, 2145), (2906, 2094), (3804, 1196), (3736, 1264), (461, 4539), (415, 4585), (1909, 3091), (68, 4932), (3718, 1282), (2415, 2585), (2947, 2053), (253, 4747), (93, 4907), (2988, 2012), (4873, 127), (1242, 3758), (1375, 3625), (3490, 1510), (2213, 2787), (2187, 2813), (4331, 669), (1256, 3744), (4464, 536), (4005, 995), (126, 4874), (3508, 1492), (1571, 3429), (4037, 963), (339, 4661), (3813, 1187), (4047, 953), (624, 4376), (3783, 1217), (2141, 2859), (1637, 3363), (68, 4932), (642, 4358)]\n",
      "\n",
      "12000\n",
      "\n",
      "[(8725, 3275), (7692, 4308), (4031, 7969), (3825, 8175), (7572, 4428), (8677, 3323), (9366, 2634), (4620, 7380), (8462, 3538), (5264, 6736), (9190, 2810), (4202, 7798), (4806, 7194), (8419, 3581), (7938, 4062), (6156, 5844), (6048, 5952), (5534, 6466), (4362, 7638), (5611, 6389), (6993, 5007), (9294, 2706), (9646, 2354), (4294, 7706), (9132, 2868), (6094, 5906), (5676, 6324), (5676, 6324), (9947, 2053), (7491, 4509), (2037, 9963), (4632, 7368), (8815, 3185), (3073, 8927), (8672, 3328), (9651, 2349), (4609, 7391), (3111, 8889), (5201, 6799), (2056, 9944), (9747, 2253), (3801, 8199), (6501, 5499), (9632, 2368), (5806, 6194), (4339, 7661), (2565, 9435), (7660, 4340), (3305, 8695), (3750, 8250), (7186, 4814), (2481, 9519), (7499, 4501), (4031, 7969), (7627, 4373), (7112, 4888), (8811, 3189), (5553, 6447), (2631, 9369), (9035, 2965), (5547, 6453), (8576, 3424), (7598, 4402), (7781, 4219), (2524, 9476), (9262, 2738), (3553, 8447), (7431, 4569), (3257, 8743), (5958, 6042), (6661, 5339), (5241, 6759), (2468, 9532), (9054, 2946), (5737, 6263), (4704, 7296), (5534, 6466), (6054, 5946), (5959, 6041), (4537, 7463), (7428, 4572), (2616, 9384), (8693, 3307), (8545, 3455), (6120, 5880), (7936, 4064), (6429, 5571), (4352, 7648), (9141, 2859), (9598, 2402), (4253, 7747), (8830, 3170), (4781, 7219), (8462, 3538), (9223, 2777), (2104, 9896), (7990, 4010), (6156, 5844), (9809, 2191), (3988, 8012), (2442, 9558), (3950, 8050), (7085, 4915), (8269, 3731), (5407, 6593), (9369, 2631), (9689, 2311), (4030, 7970), (2536, 9464), (2022, 9978), (4888, 7112), (2305, 9695), (2111, 9889), (3638, 8362), (2810, 9190), (4006, 7994), (2280, 9720), (3323, 8677), (4732, 7268), (6975, 5025), (8847, 3153), (8242, 3758), (4550, 7450), (7826, 4174), (7196, 4804), (6782, 5218), (2747, 9253), (3203, 8797), (5928, 6072), (4512, 7488), (6988, 5012), (9622, 2378), (8368, 3632), (6975, 5025), (3474, 8526), (2455, 9545), (9040, 2960), (2098, 9902), (5589, 6411), (9987, 2013), (9088, 2912), (3586, 8414), (4495, 7505), (5262, 6738), (4037, 7963), (7844, 4156), (4437, 7563), (7918, 4082), (4437, 7563), (3079, 8921), (4592, 7408), (3988, 8012), (2516, 9484), (5338, 6662), (5276, 6724), (4733, 7267), (9410, 2590), (4503, 7497), (2462, 9538), (3015, 8985), (5761, 6239), (8902, 3098), (4007, 7993), (9779, 2221), (8547, 3453), (3528, 8472), (4620, 7380), (8362, 3638), (5664, 6336), (6713, 5287), (3503, 8497), (4936, 7064), (8555, 3445), (2453, 9547), (7428, 4572), (5328, 6672), (2861, 9139), (8019, 3981), (8979, 3021), (7853, 4147), (9150, 2850), (9651, 2349), (9020, 2980), (7354, 4646), (5476, 6524), (8987, 3013), (8814, 3186), (4608, 7392), (8630, 3370), (9445, 2555), (7311, 4689), (9167, 2833), (3478, 8522), (5469, 6531), (7157, 4843), (5553, 6447), (4699, 7301), (7541, 4459), (4437, 7563), (5091, 6909), (2615, 9385), (9040, 2960), (7163, 4837), (9954, 2046), (8019, 3981), (8153, 3847), (2800, 9200), (6346, 5654), (7340, 4660), (6463, 5537), (3353, 8647), (2780, 9220), (6994, 5006), (5047, 6953), (4054, 7946), (7478, 4522), (7633, 4367), (5113, 6887), (2826, 9174), (6610, 5390), (6687, 5313), (6417, 5583), (8277, 3723), (3334, 8666), (9622, 2378), (4151, 7849), (4037, 7963), (6461, 5539), (5363, 6637), (9669, 2331), (4843, 7157), (4558, 7442), (4503, 7497), (9947, 2053), (9987, 2013), (9747, 2253), (4351, 7649), (4469, 7531), (7227, 4773), (2750, 9250), (6865, 5135), (3718, 8282), (5785, 6215), (2319, 9681), (2947, 9053), (5835, 6165), (6408, 5592), (5983, 6017), (5855, 6145), (3945, 8055), (8296, 3704), (6048, 5952), (4000, 8000), (2213, 9787), (7802, 4198), (5113, 6887), (5595, 6405), (3599, 8401), (5724, 6276), (8902, 3098), (7068, 4932), (8211, 3789), (4757, 7243), (7826, 4174), (2521, 9479), (3478, 8522), (4037, 7963), (6503, 5497), (4428, 7572), (8271, 3729), (3813, 8187), (3559, 8441), (8178, 3822), (6759, 5241), (4437, 7563), (8153, 3847), (3751, 8249), (5422, 6578), (7601, 4399), (6999, 5001), (6661, 5339), (6501, 5499), (5065, 6935)]\n"
     ]
    }
   ],
   "source": [
    "random_int(2000,1,10000,\"sol1.txt\")\n",
    "random_int(2000,1,10000,\"sol2.txt\")\n",
    "print(\"5000\\n\")\n",
    "print(sum_of_lists(\"sol1.txt\",\"sol2.txt\",5000))\n",
    "print(\"\\n12000\\n\")\n",
    "print(sum_of_lists(\"sol1.txt\",\"sol2.txt\",12000))"
   ]
  },
  {
   "cell_type": "code",
   "execution_count": 10,
   "id": "90a85c41",
   "metadata": {},
   "outputs": [
    {
     "name": "stdout",
     "output_type": "stream",
     "text": [
      "5000\n",
      "\n",
      "[(688, 4312), (4061, 939), (1470, 3530), (3927, 1073), (3003, 1997), (491, 4509), (4640, 360), (3739, 1261), (4957, 43), (2035, 2965), (2644, 2356), (3918, 1082), (37, 4963), (2740, 2260), (3624, 1376), (4873, 127), (256, 4744), (3847, 1153), (3896, 1104), (415, 4585), (1372, 3628), (4119, 881), (1693, 3307), (1811, 3189), (840, 4160), (4347, 653), (987, 4013), (2294, 2706), (3382, 1618), (3801, 1199), (1366, 3634), (444, 4556), (3963, 1037), (1646, 3354), (1134, 3866), (1671, 3329), (3305, 1695), (1017, 3983), (2237, 2763), (4479, 521), (2088, 2912), (3784, 1216), (2631, 2369), (3404, 1596), (4396, 604), (1178, 3822), (1975, 3025), (650, 4350), (4295, 705), (777, 4223), (3325, 1675), (197, 4803), (234, 4766), (4253, 747), (1150, 3850), (2104, 2896), (1784, 3216), (4612, 388), (4328, 672), (3062, 1938), (2210, 2790), (4855, 145), (3456, 1544), (1122, 3878), (540, 4460), (3471, 1529), (297, 4703), (1565, 3435), (2167, 2833), (541, 4459), (194, 4806), (2040, 2960), (1573, 3427), (2111, 2889), (4738, 262), (3638, 1362), (254, 4746), (1368, 3632), (238, 4762), (311, 4689), (4724, 276), (2277, 2723), (4420, 580), (2190, 2810), (3007, 1993), (2747, 2253), (3296, 1704), (2646, 2354), (1737, 3263), (3401, 1599), (170, 4830), (3361, 1639), (2708, 2292), (644, 4356), (1831, 3169), (3028, 1972), (1271, 3729), (3765, 1235), (4037, 963), (4388, 612), (393, 4607), (4773, 227), (1597, 3403), (3663, 1337), (3079, 1921), (1751, 3249), (130, 4870), (2958, 2042), (3015, 1985), (3467, 1533), (345, 4655), (1038, 3962), (2355, 2645), (196, 4804), (3966, 1034), (4464, 536), (1175, 3825), (1750, 3250), (3975, 1025), (1375, 3625), (3460, 1540), (2677, 2323), (4699, 301), (974, 4026), (2005, 2995), (4656, 344), (1732, 3268), (1979, 3021), (627, 4373), (3353, 1647), (2689, 2311), (1547, 3453), (2915, 2085), (3962, 1038), (1550, 3450), (160, 4840), (1109, 3891), (1379, 3621), (3770, 1230), (1462, 3538), (1242, 3758), (80, 4920), (4076, 924), (594, 4406), (401, 4599), (2333, 2667), (4004, 996), (4843, 157), (224, 4776), (4653, 347), (2855, 2145), (2906, 2094), (3804, 1196), (3736, 1264), (461, 4539), (1909, 3091), (68, 4932), (3718, 1282), (2415, 2585), (2947, 2053), (253, 4747), (93, 4907), (2988, 2012), (3490, 1510), (2213, 2787), (2187, 2813), (4331, 669), (1256, 3744), (4005, 995), (126, 4874), (3508, 1492), (1571, 3429), (339, 4661), (3813, 1187), (4047, 953), (624, 4376), (3783, 1217), (2141, 2859), (1637, 3363), (642, 4358)]\n",
      "\n",
      "12000\n",
      "\n",
      "[(8725, 3275), (7692, 4308), (4031, 7969), (3825, 8175), (7572, 4428), (8677, 3323), (9366, 2634), (4620, 7380), (8462, 3538), (5264, 6736), (9190, 2810), (4202, 7798), (4806, 7194), (8419, 3581), (7938, 4062), (6156, 5844), (6048, 5952), (5534, 6466), (4362, 7638), (5611, 6389), (6993, 5007), (9294, 2706), (9646, 2354), (4294, 7706), (9132, 2868), (6094, 5906), (5676, 6324), (9947, 2053), (7491, 4509), (2037, 9963), (4632, 7368), (8815, 3185), (3073, 8927), (8672, 3328), (9651, 2349), (4609, 7391), (3111, 8889), (5201, 6799), (2056, 9944), (9747, 2253), (3801, 8199), (6501, 5499), (9632, 2368), (5806, 6194), (4339, 7661), (2565, 9435), (7660, 4340), (3305, 8695), (3750, 8250), (7186, 4814), (2481, 9519), (7499, 4501), (7627, 4373), (7112, 4888), (8811, 3189), (5553, 6447), (2631, 9369), (9035, 2965), (5547, 6453), (8576, 3424), (7598, 4402), (7781, 4219), (2524, 9476), (9262, 2738), (3553, 8447), (7431, 4569), (3257, 8743), (5958, 6042), (6661, 5339), (5241, 6759), (2468, 9532), (9054, 2946), (5737, 6263), (4704, 7296), (6054, 5946), (5959, 6041), (4537, 7463), (7428, 4572), (2616, 9384), (8693, 3307), (8545, 3455), (6120, 5880), (7936, 4064), (6429, 5571), (4352, 7648), (9141, 2859), (9598, 2402), (4253, 7747), (8830, 3170), (4781, 7219), (9223, 2777), (2104, 9896), (7990, 4010), (9809, 2191), (3988, 8012), (2442, 9558), (3950, 8050), (7085, 4915), (8269, 3731), (5407, 6593), (9369, 2631), (9689, 2311), (4030, 7970), (2536, 9464), (2022, 9978), (4888, 7112), (2305, 9695), (2111, 9889), (3638, 8362), (2810, 9190), (4006, 7994), (2280, 9720), (3323, 8677), (4732, 7268), (6975, 5025), (8847, 3153), (8242, 3758), (4550, 7450), (7826, 4174), (7196, 4804), (6782, 5218), (2747, 9253), (3203, 8797), (5928, 6072), (4512, 7488), (6988, 5012), (9622, 2378), (8368, 3632), (3474, 8526), (2455, 9545), (9040, 2960), (2098, 9902), (5589, 6411), (9987, 2013), (9088, 2912), (3586, 8414), (4495, 7505), (5262, 6738), (4037, 7963), (7844, 4156), (4437, 7563), (7918, 4082), (3079, 8921), (4592, 7408), (2516, 9484), (5338, 6662), (5276, 6724), (4733, 7267), (9410, 2590), (4503, 7497), (2462, 9538), (3015, 8985), (5761, 6239), (8902, 3098), (4007, 7993), (9779, 2221), (8547, 3453), (3528, 8472), (8362, 3638), (5664, 6336), (6713, 5287), (3503, 8497), (4936, 7064), (8555, 3445), (2453, 9547), (5328, 6672), (2861, 9139), (8019, 3981), (8979, 3021), (7853, 4147), (9150, 2850), (9020, 2980), (7354, 4646), (5476, 6524), (8987, 3013), (8814, 3186), (4608, 7392), (8630, 3370), (9445, 2555), (7311, 4689), (9167, 2833), (3478, 8522), (5469, 6531), (7157, 4843), (4699, 7301), (7541, 4459), (5091, 6909), (2615, 9385), (7163, 4837), (9954, 2046), (8153, 3847), (2800, 9200), (6346, 5654), (7340, 4660), (6463, 5537), (3353, 8647), (2780, 9220), (6994, 5006), (5047, 6953), (4054, 7946), (7478, 4522), (7633, 4367), (5113, 6887), (2826, 9174), (6610, 5390), (6687, 5313), (6417, 5583), (8277, 3723), (3334, 8666), (4151, 7849), (6461, 5539), (5363, 6637), (9669, 2331), (4843, 7157), (4558, 7442), (4351, 7649), (4469, 7531), (7227, 4773), (2750, 9250), (6865, 5135), (3718, 8282), (5785, 6215), (2319, 9681), (2947, 9053), (5835, 6165), (6408, 5592), (5983, 6017), (5855, 6145), (3945, 8055), (8296, 3704), (4000, 8000), (2213, 9787), (7802, 4198), (5595, 6405), (3599, 8401), (5724, 6276), (7068, 4932), (8211, 3789), (4757, 7243), (2521, 9479), (6503, 5497), (4428, 7572), (8271, 3729), (3813, 8187), (3559, 8441), (8178, 3822), (6759, 5241), (3751, 8249), (5422, 6578), (7601, 4399), (6999, 5001), (5065, 6935)]\n"
     ]
    }
   ],
   "source": [
    "def efficient_sum_of_lists(f1,f2,k):\n",
    "    uv=[]\n",
    "    checked=[]\n",
    "    l1 = read_file(f1)\n",
    "    l2 = read_file(f2)\n",
    "    for item in l1:\n",
    "        if item not in checked and k - item in l2:\n",
    "            checked.append(item)\n",
    "            uv.append((item, k - item))\n",
    "    return uv\n",
    "print(\"5000\\n\")\n",
    "print(efficient_sum_of_lists(\"sol1.txt\",\"sol2.txt\",5000))\n",
    "print(\"\\n12000\\n\")\n",
    "print(efficient_sum_of_lists(\"sol1.txt\",\"sol2.txt\",12000))"
   ]
  },
  {
   "cell_type": "markdown",
   "id": "c5cfcc4a",
   "metadata": {},
   "source": [
    "## 8. Classes\n",
    "## 8.1.  Rational numbers"
   ]
  },
  {
   "cell_type": "code",
   "execution_count": 11,
   "id": "4c8bd7de",
   "metadata": {},
   "outputs": [],
   "source": [
    "class Rational:\n",
    "    def __init__(self, p, q):\n",
    "        if q == 0: raise ZeroDivisionError(\"denominator cannot be 0\") \n",
    "        self.greatest_divisor = lambda p1, q1: p1 if not q1 !=0 else self.greatest_divisor(q1,p1%q1)\n",
    "        d = self.greatest_divisor(p, q)\n",
    "        self.p = int(p/d)\n",
    "        self.q = int(q/d)\n",
    "        \n",
    "    def __str__(self):\n",
    "        return str(self.p)+\"/\"+str(self.q)\n",
    "    \n",
    "    def __add__(self,r):\n",
    "        self.p = (self.p*r.q + self.q*r.p)\n",
    "        self.q = (self.q*r.q)\n",
    "        d = self.greatest_divisor(self.p, self.q)\n",
    "        self.p,self.q = int(self.p/d),int(self.q/d)\n",
    "        \n",
    "    def __sub__(self,r):\n",
    "        self.p = (self.p*r.q - self.q*r.p)\n",
    "        self.q = (self.q*r.q)\n",
    "        d = self.greatest_divisor(self.p, self.q)\n",
    "        self.p,self.q = int(self.p/d),int(self.q/d)\n",
    "        \n",
    "    def __mul__(self,r):\n",
    "        self.p = self.p*r.p\n",
    "        self.q = self.q*r.q\n",
    "        d = self.greatest_divisor(self.p, self.q)\n",
    "        self.p,self.q = int(self.p/d),int(self.q/d)\n",
    "        \n",
    "    def __truediv__(self,r):\n",
    "        self.p = self.p*r.q\n",
    "        self.q = self.q*r.p\n",
    "        d = self.greatest_divisor(self.p, self.q)\n",
    "        self.p,self.q = int(self.p/d),int(self.q/d)\n",
    "    \n",
    "    def isEqual(self,r): # r is a Rational\n",
    "        return True if self.p == r.p and self.q == r.q else False\n",
    "    \n",
    "    def  __float__(self):\n",
    "        return self.p/self.q"
   ]
  },
  {
   "cell_type": "code",
   "execution_count": 12,
   "id": "bda9ff83",
   "metadata": {},
   "outputs": [
    {
     "name": "stdout",
     "output_type": "stream",
     "text": [
      "5/16\n",
      "15/32\n",
      "5/16\n",
      "1/8\n",
      "1/12\n",
      "True\n",
      "0.08333333333333333\n"
     ]
    }
   ],
   "source": [
    "r1 = Rational(15,48)\n",
    "print(r1)\n",
    "\n",
    "r2= Rational(10,64)\n",
    "r1 + r2\n",
    "print(r1)\n",
    "\n",
    "r1 - r2\n",
    "print(r1)\n",
    "\n",
    "r3 = Rational(2,5)\n",
    "r1 * r3\n",
    "print(r1)\n",
    "\n",
    "r4= Rational(3,2)\n",
    "r1/r4\n",
    "print(r1)\n",
    "\n",
    "r2 = Rational(3,36)\n",
    "print(r1.isEqual(r2))\n",
    "\n",
    "print(r1.__float__())\n"
   ]
  },
  {
   "cell_type": "markdown",
   "id": "3f6bd54e",
   "metadata": {},
   "source": [
    "## 8.2. Rock Paper Scissors"
   ]
  },
  {
   "cell_type": "code",
   "execution_count": null,
   "id": "d7210107",
   "metadata": {},
   "outputs": [],
   "source": []
  },
  {
   "cell_type": "markdown",
   "id": "543384d0",
   "metadata": {},
   "source": [
    "## 8.3.  Hangman agent"
   ]
  },
  {
   "cell_type": "code",
   "execution_count": null,
   "id": "f4a7327b",
   "metadata": {},
   "outputs": [],
   "source": []
  },
  {
   "cell_type": "markdown",
   "id": "2220c9e5",
   "metadata": {},
   "source": [
    "## 8.4.  Sparse and dense vectors"
   ]
  },
  {
   "cell_type": "code",
   "execution_count": 13,
   "id": "81b5b7a2",
   "metadata": {},
   "outputs": [],
   "source": [
    "class Dense:\n",
    "    def __init__(self, l):\n",
    "        self.l=l\n",
    "        \n",
    "    def __str__(self):\n",
    "        return str(self.l)\n",
    "    \n",
    "    def __add__(self, vec):\n",
    "        if isinstance(vec,Dense):\n",
    "            self.l=[self.l[0]+vec.l[0] , self.l[1]+vec.l[1], self.l[2]+ vec.l[2]]\n",
    "        else:\n",
    "            self.l= [self.l[0]+(0 if 0 not in vec.d.keys() else vec.d[0]) ,\n",
    "            self.l[1]+(0 if 1 not in vec.d.keys() else vec.d[1]) ,\n",
    "            self.l[2]+ (0 if 2 not in vec.d.keys() else vec.d[2])]\n",
    "    \n",
    "    def __mul__(self,vec):\n",
    "        if isinstance(vec,Dense):\n",
    "            self.l= self.l[0]*vec.l[0] + self.l[1]*vec.l[1] + self.l[2]* vec.l[2]\n",
    "        else:\n",
    "            self.l=(self.l[0] * (0 if 0 not in vec.d.keys() else vec.d[0]) +\n",
    "            self.l[1] * (0 if 1 not in vec.d.keys() else vec.d[1]) +\n",
    "            self.l[2] * (0 if 2 not in vec.d.keys() else vec.d[2]) )\n",
    "    \n",
    "class Sparse:\n",
    "    def __init__(self, d):\n",
    "        self.d=d\n",
    "        \n",
    "    def __str__(self):\n",
    "        return str(self.d)\n",
    "    \n",
    "    def __add__(self, vec):\n",
    "        if isinstance(vec,Sparse):\n",
    "            self.d={0:(0 if 0 not in self.d.keys() else self.d[0]) + (0 if 0 not in vec.d.keys() else vec.d[0]),\n",
    "            1:(0 if 1 not in self.d.keys() else self.d[1]) + (0 if 1 not in vec.d.keys() else vec.d[1]),\n",
    "            2:(0 if 2 not in self.d.keys() else self.d[2]) + (0 if 2 not in vec.d.keys() else vec.d[2])\n",
    "           }\n",
    "        else:\n",
    "            self.d={0:(0 if 0 not in self.d.keys() else self.d[0]) + vec.l[0],\n",
    "            1:(0 if 1 not in self.d.keys() else self.d[1]) + vec.l[1],\n",
    "            2:(0 if 2 not in self.d.keys() else self.d[2]) +  vec.l[2]\n",
    "                   }\n",
    "        for key in range(len(self.d)):\n",
    "            if self.d[key] == 0:\n",
    "                del self.d[key]\n",
    "    \n",
    "    def __mul__(self,vec):\n",
    "        if isinstance(vec,Sparse):\n",
    "            self.d =((0 if 0 not in self.d.keys() else self.d[0]) * (0 if 0 not in vec.d.keys() else vec.d[0]) +\n",
    "                (0 if 1 not in self.d.keys() else self.d[1]) * (0 if 1 not in vec.d.keys() else vec.d[1]) +\n",
    "                (0 if 2 not in self.d.keys() else self.d[2]) * (0 if 2 not in vec.d.keys() else vec.d[2]) )\n",
    "        else:\n",
    "            self.d=(vec.l[0] * (0 if 0 not in self.d.keys() else self.d[0]) +\n",
    "            vec.l[1] * (0 if 1 not in self.d.keys() else self.d[1]) +\n",
    "            vec.l[2] * (0 if 2 not in self.d.keys() else self.d[2]) )"
   ]
  },
  {
   "cell_type": "code",
   "execution_count": 14,
   "id": "75cfafcb",
   "metadata": {},
   "outputs": [
    {
     "name": "stdout",
     "output_type": "stream",
     "text": [
      "[1, 2, 3]\n",
      "{0: 3, 1: 5, 2: 1}\n",
      "[4, 7, 4]\n",
      "{0: 5, 1: 2, 2: 12}\n",
      "96\n",
      "51\n"
     ]
    }
   ],
   "source": [
    "vec1= Dense([1,2,3])\n",
    "vec2= Dense([4,2,6])\n",
    "vec3= Sparse({0:1,2:6}) # [1,0,6]\n",
    "vec4= Sparse({0:3,1:5,2:1}) # [3,5,1]\n",
    "print(vec1)\n",
    "print(vec4)\n",
    "\n",
    "vec1+vec4\n",
    "print(vec1)\n",
    "\n",
    "vec3+vec2\n",
    "print(vec3)\n",
    "\n",
    "vec2*vec3\n",
    "print(vec2)\n",
    "\n",
    "vec4*vec1\n",
    "print(vec4)"
   ]
  },
  {
   "cell_type": "markdown",
   "id": "8379badf",
   "metadata": {},
   "source": [
    "## 8.5. Implementing the set class"
   ]
  },
  {
   "cell_type": "code",
   "execution_count": 15,
   "id": "5273d4a7",
   "metadata": {},
   "outputs": [],
   "source": [
    "class CustomSet:\n",
    "    def __init__(self, *args):\n",
    "        self._set = {}\n",
    "        for item in args:\n",
    "            self.add(item)\n",
    "\n",
    "    def add(self, item):\n",
    "        if item not in self._set:\n",
    "            self._set[item]= 0\n",
    "            \n",
    "    def remove(self, item):\n",
    "            del self._set[item]\n",
    "    \n",
    "    def contains(self,item):\n",
    "        return True if item in self._set else False\n",
    "    \n",
    "    def __str__(self):\n",
    "        return str(list(self._set.keys()))\n",
    "    \n",
    "    def __len__(self):\n",
    "        return len(self._set)"
   ]
  },
  {
   "cell_type": "code",
   "execution_count": 16,
   "id": "52b1f36a",
   "metadata": {},
   "outputs": [
    {
     "name": "stdout",
     "output_type": "stream",
     "text": [
      "[1, 2, '3', 4, 5, 'y']\n",
      "[1, 2, '3', 4, 5, 'y', 6]\n",
      "[1, 2, '3', 5, 'y', 6]\n",
      "True\n",
      "6\n"
     ]
    }
   ],
   "source": [
    "set1 = CustomSet(1,2,\"3\",4,5,\"y\")\n",
    "print(set1)\n",
    "\n",
    "set1.add(6)\n",
    "print(set1)\n",
    "\n",
    "set1.remove(4)\n",
    "print(set1)\n",
    "\n",
    "print(set1.contains('y'))\n",
    "print(len(set1))"
   ]
  },
  {
   "cell_type": "markdown",
   "id": "c2719bf0",
   "metadata": {},
   "source": [
    "## 8.6. Binary search tree"
   ]
  },
  {
   "cell_type": "code",
   "execution_count": 17,
   "id": "f8b2448b",
   "metadata": {},
   "outputs": [],
   "source": [
    "import sys\n",
    "class Node:\n",
    "    def __init__(self,value):\n",
    "        self.value=value\n",
    "        self.parent=None\n",
    "        self.left=None\n",
    "        self.right=None\n",
    "    def __str__(self):\n",
    "        return str(value)\n",
    "        \n",
    "class BinarySearchTree:\n",
    "    def __init__(self, root):\n",
    "        self.root= root\n",
    "    \n",
    "    def insert(self,node):\n",
    "        node.parent= self.root\n",
    "        while True:\n",
    "            if node.value > node.parent.value:\n",
    "                if node.parent.right == None:\n",
    "                    node.parent.right = node\n",
    "                    break\n",
    "                else: \n",
    "                    node.parent = node.parent.right\n",
    "            elif node.value < node.parent.value:\n",
    "                if node.parent.left == None:\n",
    "                    node.parent.left = node\n",
    "                    break\n",
    "                else: \n",
    "                    node.parent = node.parent.left\n",
    "    def contains(self, value):\n",
    "        return True if value in self.findList() else False\n",
    "    \n",
    "    def findHeight(self, node):\n",
    "        if node == None:\n",
    "            return 0\n",
    "        else:\n",
    "            leftHeight = self.findHeight(node.left)\n",
    "            rightHeight = self.findHeight(node.right)\n",
    "            if leftHeight > rightHeight:\n",
    "                return leftHeight + 1\n",
    "            else:\n",
    "                return rightHeight + 1\n",
    "\n",
    "    def updateList(self,node, i, lis):\n",
    "        if node != None: \n",
    "            lis[i] = node.value\n",
    "            lis = self.updateList(node.left, 2 * i + 1, lis)\n",
    "            lis = self.updateList(node.right, 2 * i + 2, lis)\n",
    "        return lis\n",
    "    \n",
    "    def findList(self):\n",
    "        l=['-'] * ((2**self.findHeight(self.root))-1)\n",
    "        l=self.updateList(self.root,0,l)\n",
    "        return l\n",
    "    \n",
    "    def __str__(self):\n",
    "        return str(self.findList())\n",
    "    \n",
    "    def findMax(self,node):\n",
    "            if node.right != None:\n",
    "                self.findMax(node.right)\n",
    "            else:\n",
    "                return node\n",
    "    def findMin(self,node):\n",
    "            if node.left != None:\n",
    "                self.findMin(node.left)\n",
    "            else:\n",
    "                return node    \n",
    "    \n",
    "    def remove(self,node,value):\n",
    "        if not self.contains(value):\n",
    "            return\n",
    "        if value == node.value:\n",
    "            if node.right != None and node.left !=None:\n",
    "                root = self.findMax(node.left)\n",
    "                temp = self.findMin(root)\n",
    "                \n",
    "                temp.left = root.parent\n",
    "                temp.left.parent = temp\n",
    "                \n",
    "                root.parent = node.parent\n",
    "                node.parent.right = root\n",
    "            \n",
    "            elif node.left == None and node.right != None:\n",
    "                node.parent.right = node.right\n",
    "                node.right.parent = node.parent\n",
    "                \n",
    "            elif node.right == None and node.left != None:\n",
    "                node.parent.left = node.left\n",
    "                node.left.parent = node.parent\n",
    "            else:\n",
    "                if node.parent.right == node: \n",
    "                    node.parent.right= None\n",
    "                else:\n",
    "                    node.parent.right= None\n",
    "        elif value > node.value:\n",
    "            self.remove(node.right,value)\n",
    "        elif value < node.value:\n",
    "            self.remove(node.left,value)"
   ]
  },
  {
   "cell_type": "code",
   "execution_count": 18,
   "id": "cd93f099",
   "metadata": {},
   "outputs": [
    {
     "name": "stdout",
     "output_type": "stream",
     "text": [
      "[3, '-', 4, '-', '-', '-', 9]\n",
      "True\n",
      "[3, '-', 4]\n"
     ]
    }
   ],
   "source": [
    "bst = BinarySearchTree(Node(3))\n",
    "bst.insert(Node(4))\n",
    "bst.insert(Node(9))\n",
    "print(bst)\n",
    "print(bst.contains(3))\n",
    "bst.remove(bst.root,9)\n",
    "print(bst)"
   ]
  },
  {
   "cell_type": "code",
   "execution_count": null,
   "id": "efe82134",
   "metadata": {},
   "outputs": [],
   "source": []
  }
 ],
 "metadata": {
  "kernelspec": {
   "display_name": "Python 3 (ipykernel)",
   "language": "python",
   "name": "python3"
  },
  "language_info": {
   "codemirror_mode": {
    "name": "ipython",
    "version": 3
   },
   "file_extension": ".py",
   "mimetype": "text/x-python",
   "name": "python",
   "nbconvert_exporter": "python",
   "pygments_lexer": "ipython3",
   "version": "3.10.0"
  }
 },
 "nbformat": 4,
 "nbformat_minor": 5
}
