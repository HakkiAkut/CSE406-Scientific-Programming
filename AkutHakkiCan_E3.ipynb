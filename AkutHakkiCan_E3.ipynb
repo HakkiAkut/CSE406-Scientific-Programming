{
 "cells": [
  {
   "cell_type": "markdown",
   "id": "745767f9",
   "metadata": {},
   "source": [
    "# 7. File I/O\n",
    "## 7.1.  Open a file"
   ]
  },
  {
   "cell_type": "code",
   "execution_count": null,
   "id": "9a2e9e6b",
   "metadata": {},
   "outputs": [],
   "source": [
    "file = open(\"filename.txt\", \"r\")\n",
    "\n",
    "print(file.read())"
   ]
  },
  {
   "cell_type": "markdown",
   "id": "73b443a4",
   "metadata": {},
   "source": [
    "## 7.2.  Wordcount"
   ]
  },
  {
   "cell_type": "code",
   "execution_count": 7,
   "id": "4179525f",
   "metadata": {},
   "outputs": [
    {
     "name": "stdout",
     "output_type": "stream",
     "text": [
      "['the', 'I', 'and', 'to', 'of', 'a', 'you', 'my', 'in', 'is', 'that', 'not', 'me', 'And', 'with', 'it', 'be', 'his', 'your', 'for']\n"
     ]
    }
   ],
   "source": [
    "import string\n",
    "import heapq\n",
    "items={}\n",
    "with open(\"shakespeare.txt\",\"r\") as file: # file https://web.stanford.edu/~schmit/cme193/ex/data/shakespeare.txt\n",
    "    for i in range(182): # the sonnets starts from 183th line, so I skip to 183\n",
    "        file.readline()\n",
    "    for line in file:\n",
    "        line = line.translate(str.maketrans('', '', string.punctuation)) # remove punctation\n",
    "        str_list= line.split() # split words to a list\n",
    "        for item in str_list:\n",
    "            if item in items.keys():\n",
    "                items[item] += 1\n",
    "            else:\n",
    "                items[item] = 1    \n",
    "    print(heapq.nlargest(20, items, key=items.get))"
   ]
  },
  {
   "cell_type": "code",
   "execution_count": 8,
   "id": "348bbf8a",
   "metadata": {},
   "outputs": [
    {
     "name": "stdout",
     "output_type": "stream",
     "text": [
      "34465\n"
     ]
    }
   ],
   "source": [
    "print(len(items))"
   ]
  },
  {
   "cell_type": "code",
   "execution_count": 9,
   "id": "f91e1595",
   "metadata": {},
   "outputs": [
    {
     "name": "stdout",
     "output_type": "stream",
     "text": [
      "10182\n"
     ]
    }
   ],
   "source": [
    "count=0\n",
    "for key in items:\n",
    "    if items[key]>=5:\n",
    "        count +=1\n",
    "print(count)"
   ]
  },
  {
   "cell_type": "code",
   "execution_count": 19,
   "id": "80172599",
   "metadata": {},
   "outputs": [
    {
     "name": "stdout",
     "output_type": "stream",
     "text": [
      "the 23403, I 20371, and 18636, to 15883, of 15788, a 12710, you 12070, my 10832, in 9910, is 8309, that 8069, not 8039, me 7743, And 7455, with 6825, it 6727, be 6390, his 6320, your 6013, for 5795, this 5501, have 5432, him 5162, he 4841, thou 4558, will 4510, as 4315, The 4033, so 4011, but 3658, her 3656, thy 3632, all 3423, To 3350, do 3242, thee 3159, shall 3125, are 3106, by 2935, on 2850, That 2833, no 2714, our 2693, But 2612, we 2571, What 2321, from 2304, at 2284, good 2264, O 2261, what 2143, am 2109, more 2066, would 2023, was 2018, lord 2018, Enter 1987, now 1980, them 1978, love 1955, A 1943, their 1935, they 1902, if 1842, or 1817, For 1786, man 1781, sir 1755, Ill 1753, she 1742, well 1734, If 1671, hath 1649, My 1649, us 1620, You 1586, one 1584, here 1583, know 1570, an 1567, come 1558, then 1527, like 1512, OF 1481, say 1470, make 1468, than 1456, may 1439, As 1429, should 1423, which 1419, He 1412, upon 1405, were 1387, did 1385, must 1361, KING 1322, there 1318, see 1309, let 1287, had 1274, such 1256, out 1236, Why 1206, when 1204, go 1194, King 1182, too 1172, How 1171, yet 1149, This 1145, In 1107, these 1103, some 1096, No 1083, mine 1068, can 1062, th 1060, up 1042, So 1030, Exeunt 1028, give 1003, much 995, With 993, take 993, how 992, most 991, time 984, heart 981, Exit 980, Of 977, speak 967, It 962, Come 950, think 947, Thou 926, Which 904, never 899, tell 874, Is 855, When 846, hand 837, art 835, life 827, men 818, doth 816, By 815, Let 812, great 809, death 806, Now 798, father 796, hear 786, own 771, very 759, tis 759, made 758, again 756, We 734, true 733, Sir 727, any 726, Well 726, cannot 721, day 714, God 702, fair 695, Then 694, Ay 689, eyes 687, been 684, away 681, Or 680, Lord 664, AND 664, OR 661, other 658, FOR 658, Who 657, BY 654, SCENE 651, where 650, Your 650, sweet 646, Tis 646, done 644, name 643, son 638, blood 632, old 626, before 626, two 626, down 626, night 624, world 622, FIRST 617, nor 611, leave 604, thus 602, comes 589, \n"
     ]
    }
   ],
   "source": [
    "f = open(\"most200.txt\", \"a\")\n",
    "for item in heapq.nlargest(200, items, key=items.get):\n",
    "    f.write(item +\" \"+str(items[item]) + \", \")\n",
    "f.close()\n",
    "f = open(\"most200.txt\", \"r\")\n",
    "print(f.read())"
   ]
  },
  {
   "cell_type": "markdown",
   "id": "b12e6843",
   "metadata": {},
   "source": [
    "## 7.3. Random text generator II"
   ]
  },
  {
   "cell_type": "code",
   "execution_count": null,
   "id": "4bd7e4b5",
   "metadata": {},
   "outputs": [],
   "source": []
  },
  {
   "cell_type": "markdown",
   "id": "8dc2138a",
   "metadata": {},
   "source": [
    "## 7.4. Sum of lists"
   ]
  },
  {
   "cell_type": "code",
   "execution_count": 11,
   "id": "caf786e3",
   "metadata": {},
   "outputs": [],
   "source": [
    "import random\n",
    "def random_int(n,a,b,filename):\n",
    "    with open(filename,\"w\") as file:\n",
    "        count = 0\n",
    "        while True:\n",
    "            file.write(str(random.randint(a, b)))\n",
    "            count +=1\n",
    "            if count < n : file.write(\"\\n\")\n",
    "            else: break\n",
    "random_int(5,10,100,\"sol.txt\")"
   ]
  },
  {
   "cell_type": "code",
   "execution_count": 28,
   "id": "81303b76",
   "metadata": {},
   "outputs": [
    {
     "name": "stdout",
     "output_type": "stream",
     "text": [
      "[65, 24, 98, 18, 29]\n"
     ]
    }
   ],
   "source": [
    "def read_file(filename):\n",
    "    ret = []\n",
    "    with open(filename,\"r\") as file:\n",
    "        for line in file: \n",
    "            ret.append(int(line))\n",
    "    return ret\n",
    "print(read_file(\"sol.txt\"))"
   ]
  },
  {
   "cell_type": "code",
   "execution_count": 27,
   "id": "4c745268",
   "metadata": {},
   "outputs": [],
   "source": [
    "def sum_of_lists(f1,f2,k):\n",
    "    uv=[]\n",
    "    l1 = read_file(f1)\n",
    "    l2 = read_file(f2)\n",
    "    for item in l1:\n",
    "        if k - item in l2:\n",
    "            uv.append((item, k - item))\n",
    "    return uv"
   ]
  },
  {
   "cell_type": "code",
   "execution_count": 31,
   "id": "dcb1e5aa",
   "metadata": {},
   "outputs": [
    {
     "name": "stdout",
     "output_type": "stream",
     "text": [
      "5000\n",
      "\n",
      "[(2891, 2109), (1515, 3485), (2790, 2210), (764, 4236), (4460, 540), (2659, 2341), (2060, 2940), (3454, 1546), (1253, 3747), (2850, 2150), (2174, 2826), (1568, 3432), (4212, 788), (2227, 2773), (3115, 1885), (1743, 3257), (2049, 2951), (2239, 2761), (1850, 3150), (1543, 3457), (162, 4838), (3533, 1467), (1581, 3419), (2149, 2851), (1248, 3752), (3679, 1321), (2520, 2480), (140, 4860), (2782, 2218), (1955, 3045), (2539, 2461), (4526, 474), (3190, 1810), (2798, 2202), (1830, 3170), (738, 4262), (162, 4838), (357, 4643), (1578, 3422), (3705, 1295), (208, 4792), (707, 4293), (2695, 2305), (1937, 3063), (597, 4403), (4648, 352), (3282, 1718), (4046, 954), (359, 4641), (3656, 1344), (7, 4993), (3971, 1029), (3927, 1073), (4853, 147), (187, 4813), (4968, 32), (3484, 1516), (2467, 2533), (1150, 3850), (2839, 2161), (3203, 1797), (541, 4459), (1327, 3673), (4704, 296), (4135, 865), (4135, 865), (603, 4397), (2529, 2471), (647, 4353), (1556, 3444), (4756, 244), (1883, 3117), (3743, 1257), (1735, 3265), (793, 4207), (678, 4322), (3788, 1212), (4150, 850), (2970, 2030), (3702, 1298), (3333, 1667), (964, 4036), (1129, 3871), (646, 4354), (2659, 2341), (3967, 1033), (860, 4140), (4563, 437), (1846, 3154), (1995, 3005), (2222, 2778), (4563, 437), (2725, 2275), (4747, 253), (4464, 536), (229, 4771), (3971, 1029), (3685, 1315), (1826, 3174), (3349, 1651), (4505, 495), (796, 4204), (3248, 1752), (3189, 1811), (3731, 1269), (2512, 2488), (1176, 3824), (2718, 2282), (2446, 2554), (2049, 2951), (3195, 1805), (4557, 443), (3871, 1129), (2478, 2522), (377, 4623), (1320, 3680), (559, 4441), (3781, 1219), (4761, 239), (402, 4598), (1515, 3485), (2933, 2067), (1600, 3400), (1995, 3005), (311, 4689), (1116, 3884), (1319, 3681), (1148, 3852), (2170, 2830), (3237, 1763), (1475, 3525), (4598, 402), (187, 4813), (3431, 1569), (3465, 1535), (1572, 3428), (1725, 3275), (334, 4666), (3061, 1939), (3313, 1687), (2060, 2940), (2161, 2839), (1007, 3993), (1544, 3456), (531, 4469), (2672, 2328), (185, 4815), (2901, 2099), (3103, 1897), (3596, 1404), (4058, 942), (3657, 1343), (4562, 438), (137, 4863), (2931, 2069), (1340, 3660), (3305, 1695), (754, 4246), (2520, 2480), (1700, 3300), (3657, 1343), (4442, 558), (4829, 171), (1376, 3624), (563, 4437), (2072, 2928), (645, 4355), (350, 4650), (1087, 3913), (4129, 871), (887, 4113), (4026, 974), (4666, 334), (2420, 2580), (4265, 735), (671, 4329), (3206, 1794), (1846, 3154), (2149, 2851), (4251, 749), (3479, 1521), (1439, 3561), (140, 4860), (1087, 3913), (3273, 1727)]\n",
      "\n",
      "12000\n",
      "\n",
      "[(7434, 4566), (9876, 2124), (5378, 6622), (7815, 4185), (4436, 7564), (3221, 8779), (5500, 6500), (9049, 2951), (9936, 2064), (4460, 7540), (9049, 2951), (9077, 2923), (5457, 6543), (5145, 6855), (5072, 6928), (6366, 5634), (7910, 4090), (7452, 4548), (2060, 9940), (7188, 4812), (5106, 6894), (7376, 4624), (3020, 8980), (3220, 8780), (5908, 6092), (2229, 9771), (4436, 7564), (2227, 9773), (5199, 6801), (5166, 6834), (7684, 4316), (9505, 2495), (3450, 8550), (4078, 7922), (3533, 8467), (8515, 3485), (7340, 4660), (9933, 2067), (9718, 2282), (5967, 6033), (6829, 5171), (9662, 2338), (8353, 3647), (6840, 5160), (8743, 3257), (3356, 8644), (8789, 3211), (2635, 9365), (9777, 2223), (2132, 9868), (5908, 6092), (9765, 2235), (8465, 3535), (5306, 6694), (6412, 5588), (8869, 3131), (5320, 6680), (9327, 2673), (6851, 5149), (2695, 9305), (8846, 3154), (5186, 6814), (5876, 6124), (3130, 8870), (9420, 2580), (9700, 2300), (3509, 8491), (8980, 3020), (5879, 6121), (8364, 3636), (3971, 8029), (9174, 2826), (3883, 8117), (2286, 9714), (2275, 9725), (9657, 2343), (2236, 9764), (8673, 3327), (4363, 7637), (2691, 9309), (8647, 3353), (2663, 9337), (6296, 5704), (4806, 7194), (6729, 5271), (2467, 9533), (3186, 8814), (5237, 6763), (7563, 4437), (8216, 3784), (5952, 6048), (4222, 7778), (6577, 5423), (3639, 8361), (5177, 6823), (2858, 9142), (2543, 9457), (8916, 3084), (9842, 2158), (5451, 6549), (6959, 5041), (6401, 5599), (7738, 4262), (7811, 4189), (7267, 4733), (7955, 4045), (4134, 7866), (7804, 4196), (8438, 3562), (3333, 8667), (5338, 6662), (6046, 5954), (8935, 3065), (9316, 2684), (7351, 4649), (9714, 2286), (9905, 2095), (6546, 5454), (2488, 9512), (3541, 8459), (2063, 9937), (9386, 2614), (6365, 5635), (9933, 2067), (4485, 7515), (6553, 5447), (3627, 8373), (3971, 8029), (2451, 9549), (7757, 4243), (8789, 3211), (7230, 4770), (3988, 8012), (4178, 7822), (5133, 6867), (4255, 7745), (5312, 6688), (3248, 8752), (3189, 8811), (9228, 2772), (3731, 8269), (6692, 5308), (2512, 9488), (5245, 6755), (4957, 7043), (9640, 2360), (5445, 6555), (5494, 6506), (2478, 9522), (9931, 2069), (8216, 3784), (8846, 3154), (3644, 8356), (3968, 8032), (5405, 6595), (9537, 2463), (2815, 9185), (9714, 2286), (7031, 4969), (8641, 3359), (9846, 2154), (8782, 3218), (7350, 4650), (6846, 5154), (8412, 3588), (7967, 4033), (2183, 9817), (9565, 2435), (2282, 9718), (2131, 9869), (8177, 3823), (8273, 3727), (8896, 3104), (4680, 7320), (7267, 4733), (7377, 4623), (2231, 9769), (7719, 4281), (3237, 8763), (3881, 8119), (9505, 2495), (5987, 6013), (8007, 3993), (6972, 5028), (5405, 6595), (4654, 7346), (9386, 2614), (9409, 2591), (8572, 3428), (6398, 5602), (2804, 9196), (3856, 8144), (2137, 9863), (2469, 9531), (5500, 6500), (8381, 3619), (7804, 4196), (4953, 7047), (2060, 9940), (5905, 6095), (9876, 2124), (7012, 4988), (3140, 8860), (7436, 4564), (6757, 5243), (8177, 3823), (6046, 5954), (8264, 3736), (4058, 7942), (8439, 3561), (6067, 5933), (8168, 3832), (2931, 9069), (5283, 6717), (7146, 4854), (2045, 9955), (6004, 5996), (3305, 8695), (3816, 8184), (4829, 7171), (2343, 9657), (4897, 7103), (4556, 7444), (7828, 4172), (6692, 5308), (8879, 3121), (7754, 4246), (7925, 4075), (8113, 3887), (5336, 6664), (6846, 5154), (4129, 7871), (4488, 7512), (8515, 3485), (9908, 2092), (6158, 5842), (6943, 5057), (6046, 5954), (4666, 7334), (7967, 4033), (5440, 6560), (5535, 6465), (3118, 8882), (3644, 8356), (3837, 8163), (5174, 6826), (3384, 8616), (4746, 7254), (9884, 2116), (5738, 6262), (3428, 8572), (3023, 8977), (2995, 9005), (3659, 8341), (6211, 5789), (4510, 7490), (5327, 6673), (6412, 5588), (6510, 5490), (9855, 2145), (7966, 4034), (3130, 8870), (8438, 3562), (6626, 5374)]\n"
     ]
    }
   ],
   "source": [
    "random_int(2000,1,10000,\"sol1.txt\")\n",
    "random_int(2000,1,10000,\"sol2.txt\")\n",
    "print(\"5000\\n\")\n",
    "print(sum_of_lists(\"sol1.txt\",\"sol2.txt\",5000))\n",
    "print(\"\\n12000\\n\")\n",
    "print(sum_of_lists(\"sol1.txt\",\"sol2.txt\",12000))"
   ]
  },
  {
   "cell_type": "code",
   "execution_count": 36,
   "id": "90a85c41",
   "metadata": {},
   "outputs": [
    {
     "name": "stdout",
     "output_type": "stream",
     "text": [
      "5000\n",
      "\n",
      "[(2891, 2109), (1515, 3485), (2790, 2210), (764, 4236), (4460, 540), (2659, 2341), (2060, 2940), (3454, 1546), (1253, 3747), (2850, 2150), (2174, 2826), (1568, 3432), (4212, 788), (2227, 2773), (3115, 1885), (1743, 3257), (2049, 2951), (2239, 2761), (1850, 3150), (1543, 3457), (162, 4838), (3533, 1467), (1581, 3419), (2149, 2851), (1248, 3752), (3679, 1321), (2520, 2480), (140, 4860), (2782, 2218), (1955, 3045), (2539, 2461), (4526, 474), (3190, 1810), (2798, 2202), (1830, 3170), (738, 4262), (357, 4643), (1578, 3422), (3705, 1295), (208, 4792), (707, 4293), (2695, 2305), (1937, 3063), (597, 4403), (4648, 352), (3282, 1718), (4046, 954), (359, 4641), (3656, 1344), (7, 4993), (3971, 1029), (3927, 1073), (4853, 147), (187, 4813), (4968, 32), (3484, 1516), (2467, 2533), (1150, 3850), (2839, 2161), (3203, 1797), (541, 4459), (1327, 3673), (4704, 296), (4135, 865), (603, 4397), (2529, 2471), (647, 4353), (1556, 3444), (4756, 244), (1883, 3117), (3743, 1257), (1735, 3265), (793, 4207), (678, 4322), (3788, 1212), (4150, 850), (2970, 2030), (3702, 1298), (3333, 1667), (964, 4036), (1129, 3871), (646, 4354), (3967, 1033), (860, 4140), (4563, 437), (1846, 3154), (1995, 3005), (2222, 2778), (2725, 2275), (4747, 253), (4464, 536), (229, 4771), (3685, 1315), (1826, 3174), (3349, 1651), (4505, 495), (796, 4204), (3248, 1752), (3189, 1811), (3731, 1269), (2512, 2488), (1176, 3824), (2718, 2282), (2446, 2554), (3195, 1805), (4557, 443), (3871, 1129), (2478, 2522), (377, 4623), (1320, 3680), (559, 4441), (3781, 1219), (4761, 239), (402, 4598), (2933, 2067), (1600, 3400), (311, 4689), (1116, 3884), (1319, 3681), (1148, 3852), (2170, 2830), (3237, 1763), (1475, 3525), (4598, 402), (3431, 1569), (3465, 1535), (1572, 3428), (1725, 3275), (334, 4666), (3061, 1939), (3313, 1687), (2161, 2839), (1007, 3993), (1544, 3456), (531, 4469), (2672, 2328), (185, 4815), (2901, 2099), (3103, 1897), (3596, 1404), (4058, 942), (3657, 1343), (4562, 438), (137, 4863), (2931, 2069), (1340, 3660), (3305, 1695), (754, 4246), (1700, 3300), (4442, 558), (4829, 171), (1376, 3624), (563, 4437), (2072, 2928), (645, 4355), (350, 4650), (1087, 3913), (4129, 871), (887, 4113), (4026, 974), (4666, 334), (2420, 2580), (4265, 735), (671, 4329), (3206, 1794), (4251, 749), (3479, 1521), (1439, 3561), (3273, 1727)]\n",
      "\n",
      "12000\n",
      "\n",
      "[(7434, 4566), (9876, 2124), (5378, 6622), (7815, 4185), (4436, 7564), (3221, 8779), (5500, 6500), (9049, 2951), (9936, 2064), (4460, 7540), (9077, 2923), (5457, 6543), (5145, 6855), (5072, 6928), (6366, 5634), (7910, 4090), (7452, 4548), (2060, 9940), (7188, 4812), (5106, 6894), (7376, 4624), (3020, 8980), (3220, 8780), (5908, 6092), (2229, 9771), (2227, 9773), (5199, 6801), (5166, 6834), (7684, 4316), (9505, 2495), (3450, 8550), (4078, 7922), (3533, 8467), (8515, 3485), (7340, 4660), (9933, 2067), (9718, 2282), (5967, 6033), (6829, 5171), (9662, 2338), (8353, 3647), (6840, 5160), (8743, 3257), (3356, 8644), (8789, 3211), (2635, 9365), (9777, 2223), (2132, 9868), (9765, 2235), (8465, 3535), (5306, 6694), (6412, 5588), (8869, 3131), (5320, 6680), (9327, 2673), (6851, 5149), (2695, 9305), (8846, 3154), (5186, 6814), (5876, 6124), (3130, 8870), (9420, 2580), (9700, 2300), (3509, 8491), (8980, 3020), (5879, 6121), (8364, 3636), (3971, 8029), (9174, 2826), (3883, 8117), (2286, 9714), (2275, 9725), (9657, 2343), (2236, 9764), (8673, 3327), (4363, 7637), (2691, 9309), (8647, 3353), (2663, 9337), (6296, 5704), (4806, 7194), (6729, 5271), (2467, 9533), (3186, 8814), (5237, 6763), (7563, 4437), (8216, 3784), (5952, 6048), (4222, 7778), (6577, 5423), (3639, 8361), (5177, 6823), (2858, 9142), (2543, 9457), (8916, 3084), (9842, 2158), (5451, 6549), (6959, 5041), (6401, 5599), (7738, 4262), (7811, 4189), (7267, 4733), (7955, 4045), (4134, 7866), (7804, 4196), (8438, 3562), (3333, 8667), (5338, 6662), (6046, 5954), (8935, 3065), (9316, 2684), (7351, 4649), (9714, 2286), (9905, 2095), (6546, 5454), (2488, 9512), (3541, 8459), (2063, 9937), (9386, 2614), (6365, 5635), (4485, 7515), (6553, 5447), (3627, 8373), (2451, 9549), (7757, 4243), (7230, 4770), (3988, 8012), (4178, 7822), (5133, 6867), (4255, 7745), (5312, 6688), (3248, 8752), (3189, 8811), (9228, 2772), (3731, 8269), (6692, 5308), (2512, 9488), (5245, 6755), (4957, 7043), (9640, 2360), (5445, 6555), (5494, 6506), (2478, 9522), (9931, 2069), (3644, 8356), (3968, 8032), (5405, 6595), (9537, 2463), (2815, 9185), (7031, 4969), (8641, 3359), (9846, 2154), (8782, 3218), (7350, 4650), (6846, 5154), (8412, 3588), (7967, 4033), (2183, 9817), (9565, 2435), (2282, 9718), (2131, 9869), (8177, 3823), (8273, 3727), (8896, 3104), (4680, 7320), (7377, 4623), (2231, 9769), (7719, 4281), (3237, 8763), (3881, 8119), (5987, 6013), (8007, 3993), (6972, 5028), (4654, 7346), (9409, 2591), (8572, 3428), (6398, 5602), (2804, 9196), (3856, 8144), (2137, 9863), (2469, 9531), (8381, 3619), (4953, 7047), (5905, 6095), (7012, 4988), (3140, 8860), (7436, 4564), (6757, 5243), (8264, 3736), (4058, 7942), (8439, 3561), (6067, 5933), (8168, 3832), (2931, 9069), (5283, 6717), (7146, 4854), (2045, 9955), (6004, 5996), (3305, 8695), (3816, 8184), (4829, 7171), (2343, 9657), (4897, 7103), (4556, 7444), (7828, 4172), (8879, 3121), (7754, 4246), (7925, 4075), (8113, 3887), (5336, 6664), (4129, 7871), (4488, 7512), (9908, 2092), (6158, 5842), (6943, 5057), (4666, 7334), (5440, 6560), (5535, 6465), (3118, 8882), (3837, 8163), (5174, 6826), (3384, 8616), (4746, 7254), (9884, 2116), (5738, 6262), (3428, 8572), (3023, 8977), (2995, 9005), (3659, 8341), (6211, 5789), (4510, 7490), (5327, 6673), (6510, 5490), (9855, 2145), (7966, 4034), (6626, 5374)]\n"
     ]
    }
   ],
   "source": [
    "def efficient_sum_of_lists(f1,f2,k):\n",
    "    uv=[]\n",
    "    checked=[]\n",
    "    l1 = read_file(f1)\n",
    "    l2 = read_file(f2)\n",
    "    for item in l1:\n",
    "        if item not in checked and k - item in l2:\n",
    "            checked.append(item)\n",
    "            uv.append((item, k - item))\n",
    "    return uv\n",
    "print(\"5000\\n\")\n",
    "print(efficient_sum_of_lists(\"sol1.txt\",\"sol2.txt\",5000))\n",
    "print(\"\\n12000\\n\")\n",
    "print(efficient_sum_of_lists(\"sol1.txt\",\"sol2.txt\",12000))"
   ]
  },
  {
   "cell_type": "markdown",
   "id": "c5cfcc4a",
   "metadata": {},
   "source": [
    "## 8. Classes\n",
    "## 8.1.  Rational numbers"
   ]
  },
  {
   "cell_type": "code",
   "execution_count": 77,
   "id": "4c8bd7de",
   "metadata": {},
   "outputs": [],
   "source": [
    "class Rational:\n",
    "    def __init__(self, p, q):\n",
    "        if q == 0: raise ZeroDivisionError(\"denominator cannot be 0\") \n",
    "        self.greatest_divisor = lambda p1, q1: p1 if not q1 !=0 else self.greatest_divisor(q1,p1%q1)\n",
    "        d = self.greatest_divisor(p, q)\n",
    "        self.p = int(p/d)\n",
    "        self.q = int(q/d)\n",
    "        \n",
    "    def __str__(self):\n",
    "        return str(self.p)+\"/\"+str(self.q)\n",
    "    \n",
    "    def __add__(self,r):\n",
    "        self.p = (self.p*r.q + self.q*r.p)\n",
    "        self.q = (self.q*r.q)\n",
    "        d = self.greatest_divisor(self.p, self.q)\n",
    "        self.p,self.q = int(self.p/d),int(self.q/d)\n",
    "        \n",
    "    def __sub__(self,r):\n",
    "        self.p = (self.p*r.q - self.q*r.p)\n",
    "        self.q = (self.q*r.q)\n",
    "        d = self.greatest_divisor(self.p, self.q)\n",
    "        self.p,self.q = int(self.p/d),int(self.q/d)\n",
    "        \n",
    "    def __mul__(self,r):\n",
    "        self.p = self.p*r.p\n",
    "        self.q = self.q*r.q\n",
    "        d = self.greatest_divisor(self.p, self.q)\n",
    "        self.p,self.q = int(self.p/d),int(self.q/d)\n",
    "        \n",
    "    def __truediv__(self,r):\n",
    "        self.p = self.p*r.q\n",
    "        self.q = self.q*r.p\n",
    "        d = self.greatest_divisor(self.p, self.q)\n",
    "        self.p,self.q = int(self.p/d),int(self.q/d)\n",
    "    \n",
    "    def isEqual(self,r): # r is a Rational\n",
    "        return True if self.p == r.p and self.q == r.q else False\n",
    "    \n",
    "    def  __float__(self):\n",
    "        return self.p/self.q"
   ]
  },
  {
   "cell_type": "code",
   "execution_count": 89,
   "id": "bda9ff83",
   "metadata": {},
   "outputs": [
    {
     "name": "stdout",
     "output_type": "stream",
     "text": [
      "5/16\n",
      "15/32\n",
      "5/16\n",
      "1/8\n",
      "1/12\n",
      "True\n",
      "0.08333333333333333\n"
     ]
    }
   ],
   "source": [
    "r1 = Rational(15,48)\n",
    "print(r1)\n",
    "\n",
    "r2= Rational(10,64)\n",
    "r1 + r2\n",
    "print(r1)\n",
    "\n",
    "r1 - r2\n",
    "print(r1)\n",
    "\n",
    "r3 = Rational(2,5)\n",
    "r1 * r3\n",
    "print(r1)\n",
    "\n",
    "r4= Rational(3,2)\n",
    "r1/r4\n",
    "print(r1)\n",
    "\n",
    "r2 = Rational(3,36)\n",
    "print(r1.isEqual(r2))\n",
    "\n",
    "print(r1.__float__())\n"
   ]
  },
  {
   "cell_type": "markdown",
   "id": "3f6bd54e",
   "metadata": {},
   "source": [
    "## 8.2. Rock Paper Scissors"
   ]
  },
  {
   "cell_type": "code",
   "execution_count": null,
   "id": "d7210107",
   "metadata": {},
   "outputs": [],
   "source": []
  },
  {
   "cell_type": "markdown",
   "id": "543384d0",
   "metadata": {},
   "source": [
    "## 8.3.  Hangman agent"
   ]
  },
  {
   "cell_type": "code",
   "execution_count": null,
   "id": "f4a7327b",
   "metadata": {},
   "outputs": [],
   "source": []
  },
  {
   "cell_type": "markdown",
   "id": "2220c9e5",
   "metadata": {},
   "source": [
    "## 8.4.  Sparse and dense vectors"
   ]
  },
  {
   "cell_type": "code",
   "execution_count": 112,
   "id": "81b5b7a2",
   "metadata": {},
   "outputs": [],
   "source": [
    "class Dense:\n",
    "    def __init__(self, l):\n",
    "        self.l=l\n",
    "        \n",
    "    def __str__(self):\n",
    "        return str(self.l)\n",
    "    \n",
    "    def __add__(self, vec):\n",
    "        if isinstance(vec,Dense):\n",
    "            self.l=[self.l[0]+vec.l[0] , self.l[1]+vec.l[1], self.l[2]+ vec.l[2]]\n",
    "        else:\n",
    "            self.l= [self.l[0]+(0 if 0 not in vec.d.keys() else vec.d[0]) ,\n",
    "            self.l[1]+(0 if 1 not in vec.d.keys() else vec.d[1]) ,\n",
    "            self.l[2]+ (0 if 2 not in vec.d.keys() else vec.d[2])]\n",
    "    \n",
    "    def __mul__(self,vec):\n",
    "        if isinstance(vec,Dense):\n",
    "            self.l= self.l[0]*vec.l[0] + self.l[1]*vec.l[1] + self.l[2]* vec.l[2]\n",
    "        else:\n",
    "            self.l=(self.l[0] * (0 if 0 not in vec.d.keys() else vec.d[0]) +\n",
    "            self.l[1] * (0 if 1 not in vec.d.keys() else vec.d[1]) +\n",
    "            self.l[2] * (0 if 2 not in vec.d.keys() else vec.d[2]) )\n",
    "    \n",
    "class Sparse:\n",
    "    def __init__(self, d):\n",
    "        self.d=d\n",
    "        \n",
    "    def __str__(self):\n",
    "        return str(self.d)\n",
    "    \n",
    "    def __add__(self, vec):\n",
    "        if isinstance(vec,Sparse):\n",
    "            self.d={0:(0 if 0 not in self.d.keys() else self.d[0]) + (0 if 0 not in vec.d.keys() else vec.d[0]),\n",
    "            1:(0 if 1 not in self.d.keys() else self.d[1]) + (0 if 1 not in vec.d.keys() else vec.d[1]),\n",
    "            2:(0 if 2 not in self.d.keys() else self.d[2]) + (0 if 2 not in vec.d.keys() else vec.d[2])\n",
    "           }\n",
    "        else:\n",
    "            self.d={0:(0 if 0 not in self.d.keys() else self.d[0]) + vec.l[0],\n",
    "            1:(0 if 1 not in self.d.keys() else self.d[1]) + vec.l[1],\n",
    "            2:(0 if 2 not in self.d.keys() else self.d[2]) +  vec.l[2]\n",
    "                   }\n",
    "        for key in range(len(self.d)):\n",
    "            if self.d[key] == 0:\n",
    "                del self.d[key]\n",
    "    \n",
    "    def __mul__(self,vec):\n",
    "        if isinstance(vec,Sparse):\n",
    "            self.d =((0 if 0 not in self.d.keys() else self.d[0]) * (0 if 0 not in vec.d.keys() else vec.d[0]) +\n",
    "                (0 if 1 not in self.d.keys() else self.d[1]) * (0 if 1 not in vec.d.keys() else vec.d[1]) +\n",
    "                (0 if 2 not in self.d.keys() else self.d[2]) * (0 if 2 not in vec.d.keys() else vec.d[2]) )\n",
    "        else:\n",
    "            self.d=(vec.l[0] * (0 if 0 not in self.d.keys() else self.d[0]) +\n",
    "            vec.l[1] * (0 if 1 not in self.d.keys() else self.d[1]) +\n",
    "            vec.l[2] * (0 if 2 not in self.d.keys() else self.d[2]) )"
   ]
  },
  {
   "cell_type": "code",
   "execution_count": 113,
   "id": "75cfafcb",
   "metadata": {},
   "outputs": [
    {
     "name": "stdout",
     "output_type": "stream",
     "text": [
      "[1, 2, 3]\n",
      "{0: 3, 1: 5, 2: 1}\n",
      "[4, 7, 4]\n",
      "{0: 5, 1: 2, 2: 12}\n",
      "96\n",
      "51\n"
     ]
    }
   ],
   "source": [
    "vec1= Dense([1,2,3])\n",
    "vec2= Dense([4,2,6])\n",
    "vec3= Sparse({0:1,2:6}) # [1,0,6]\n",
    "vec4= Sparse({0:3,1:5,2:1}) # [3,5,1]\n",
    "print(vec1)\n",
    "print(vec4)\n",
    "\n",
    "vec1+vec4\n",
    "print(vec1)\n",
    "\n",
    "vec3+vec2\n",
    "print(vec3)\n",
    "\n",
    "vec2*vec3\n",
    "print(vec2)\n",
    "\n",
    "vec4*vec1\n",
    "print(vec4)"
   ]
  },
  {
   "cell_type": "markdown",
   "id": "8379badf",
   "metadata": {},
   "source": [
    "## 8.5. Implementing the set class"
   ]
  },
  {
   "cell_type": "code",
   "execution_count": 126,
   "id": "5273d4a7",
   "metadata": {},
   "outputs": [],
   "source": [
    "class CustomSet:\n",
    "    def __init__(self, *args):\n",
    "        self._set = {}\n",
    "        for item in args:\n",
    "            self.add(item)\n",
    "\n",
    "    def add(self, item):\n",
    "        if item not in self._set:\n",
    "            self._set[item]= 0\n",
    "            \n",
    "    def remove(self, item):\n",
    "            del self._set[item]\n",
    "    \n",
    "    def contains(self,item):\n",
    "        return True if item in self._set else False\n",
    "    \n",
    "    def __str__(self):\n",
    "        return str(list(self._set.keys()))\n",
    "    \n",
    "    def __len__(self):\n",
    "        return len(self._set)"
   ]
  },
  {
   "cell_type": "code",
   "execution_count": 129,
   "id": "52b1f36a",
   "metadata": {},
   "outputs": [
    {
     "name": "stdout",
     "output_type": "stream",
     "text": [
      "[1, 2, '3', 4, 5, 'y']\n",
      "[1, 2, '3', 4, 5, 'y', 6]\n",
      "[1, 2, '3', 5, 'y', 6]\n",
      "True\n",
      "6\n"
     ]
    }
   ],
   "source": [
    "set1 = CustomSet(1,2,\"3\",4,5,\"y\")\n",
    "print(set1)\n",
    "\n",
    "set1.add(6)\n",
    "print(set1)\n",
    "\n",
    "set1.remove(4)\n",
    "print(set1)\n",
    "\n",
    "print(set1.contains('y'))\n",
    "print(len(set1))"
   ]
  },
  {
   "cell_type": "markdown",
   "id": "c2719bf0",
   "metadata": {},
   "source": [
    "## 8.6. Binary search tree"
   ]
  },
  {
   "cell_type": "code",
   "execution_count": 177,
   "id": "f8b2448b",
   "metadata": {},
   "outputs": [],
   "source": [
    "import sys\n",
    "class Node:\n",
    "    def __init__(self,value):\n",
    "        self.value=value\n",
    "        self.parent=None\n",
    "        self.left=None\n",
    "        self.right=None\n",
    "    def __str__(self):\n",
    "        return str(value)\n",
    "        \n",
    "class BinarySearchTree:\n",
    "    def __init__(self, root):\n",
    "        self.root= root\n",
    "    \n",
    "    def insert(self,node):\n",
    "        node.parent= self.root\n",
    "        while True:\n",
    "            if node.value > node.parent.value:\n",
    "                if node.parent.right == None:\n",
    "                    node.parent.right = node\n",
    "                    break\n",
    "                else: \n",
    "                    node.parent = node.parent.right\n",
    "            elif node.value < node.parent.value:\n",
    "                if node.parent.left == None:\n",
    "                    node.parent.left = node\n",
    "                    break\n",
    "                else: \n",
    "                    node.parent = node.parent.left\n",
    "    def contains(self, value):\n",
    "        return True if value in self.findList() else False\n",
    "    \n",
    "    def findHeight(self, node):\n",
    "        if node == None:\n",
    "            return 0\n",
    "        else:\n",
    "            leftHeight = self.findHeight(node.left)\n",
    "            rightHeight = self.findHeight(node.right)\n",
    "            if leftHeight > rightHeight:\n",
    "                return leftHeight + 1\n",
    "            else:\n",
    "                return rightHeight + 1\n",
    "\n",
    "    def updateList(self,node, i, lis):\n",
    "        if node != None: \n",
    "            lis[i] = node.value\n",
    "            lis = self.updateList(node.left, 2 * i + 1, lis)\n",
    "            lis = self.updateList(node.right, 2 * i + 2, lis)\n",
    "        return lis\n",
    "    \n",
    "    def findList(self):\n",
    "        l=['-'] * ((2**self.findHeight(self.root))-1)\n",
    "        l=self.updateList(self.root,0,l)\n",
    "        return l\n",
    "    \n",
    "    def __str__(self):\n",
    "        return str(self.findList())\n",
    "    \n",
    "    def findMax(self,node):\n",
    "            if node.right != None:\n",
    "                self.findMax(node.right)\n",
    "            else:\n",
    "                return node\n",
    "    def findMin(self,node):\n",
    "            if node.left != None:\n",
    "                self.findMin(node.left)\n",
    "            else:\n",
    "                return node    \n",
    "    \n",
    "    def remove(self,node,value):\n",
    "        if not self.contains(value):\n",
    "            return\n",
    "        if value == node.value:\n",
    "            if node.right != None and node.left !=None:\n",
    "                root = self.findMax(node.left)\n",
    "                temp = self.findMin(root)\n",
    "                \n",
    "                temp.left = root.parent\n",
    "                temp.left.parent = temp\n",
    "                \n",
    "                root.parent = node.parent\n",
    "                node.parent.right = root\n",
    "            \n",
    "            elif node.left == None and node.right != None:\n",
    "                node.parent.right = node.right\n",
    "                node.right.parent = node parent\n",
    "                \n",
    "            elif node.right == None and node.left != None:\n",
    "                node.parent.left = node.left\n",
    "                node.left.parent = node.parent\n",
    "            else:\n",
    "                if node.parent.right == node: \n",
    "                    node.parent.right= None\n",
    "                else:\n",
    "                    node.parent.right= None\n",
    "        elif value > node.value:\n",
    "            self.remove(node.right,value)\n",
    "        elif value < node.value:\n",
    "            self.remove(node.left,value)"
   ]
  },
  {
   "cell_type": "code",
   "execution_count": 179,
   "id": "cd93f099",
   "metadata": {},
   "outputs": [
    {
     "name": "stdout",
     "output_type": "stream",
     "text": [
      "[3, '-', 4, '-', '-', '-', 9]\n",
      "True\n"
     ]
    }
   ],
   "source": [
    "bst = BinarySearchTree(Node(3))\n",
    "bst.insert(Node(4))\n",
    "bst.insert(Node(9))\n",
    "print(bst)\n",
    "print(bst.contains(3))"
   ]
  },
  {
   "cell_type": "code",
   "execution_count": null,
   "id": "16ff0bf2",
   "metadata": {},
   "outputs": [],
   "source": []
  }
 ],
 "metadata": {
  "kernelspec": {
   "display_name": "Python 3 (ipykernel)",
   "language": "python",
   "name": "python3"
  },
  "language_info": {
   "codemirror_mode": {
    "name": "ipython",
    "version": 3
   },
   "file_extension": ".py",
   "mimetype": "text/x-python",
   "name": "python",
   "nbconvert_exporter": "python",
   "pygments_lexer": "ipython3",
   "version": "3.10.0"
  }
 },
 "nbformat": 4,
 "nbformat_minor": 5
}
