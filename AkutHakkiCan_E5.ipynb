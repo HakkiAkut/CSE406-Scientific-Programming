{
 "cells": [
  {
   "cell_type": "code",
   "execution_count": 1,
   "metadata": {
    "id": "RctDZoZHX38D"
   },
   "outputs": [],
   "source": [
    "import numpy as np\n",
    "import scipy\n",
    "from scipy import linalg\n",
    "from scipy import optimize\n",
    "from scipy import stats\n",
    "import matplotlib.pyplot as plt\n",
    "import math"
   ]
  },
  {
   "cell_type": "markdown",
   "metadata": {
    "id": "7SLfoUJtdzqo"
   },
   "source": [
    "# 9. Numpy\n",
    "## 9.5. Singular values"
   ]
  },
  {
   "cell_type": "code",
   "execution_count": 2,
   "metadata": {
    "colab": {
     "base_uri": "https://localhost:8080/"
    },
    "id": "rumYg4ZUYVJq",
    "outputId": "a1ff7c01-feab-4e3e-e675-168875219df4"
   },
   "outputs": [
    {
     "name": "stdout",
     "output_type": "stream",
     "text": [
      "[[1 1 1 ... 0 1 1]\n",
      " [0 0 1 ... 0 0 1]\n",
      " [0 1 1 ... 1 1 1]\n",
      " ...\n",
      " [0 0 1 ... 1 1 1]\n",
      " [1 1 1 ... 0 1 0]\n",
      " [0 1 1 ... 1 1 0]]\n",
      "99.8692855848552\n"
     ]
    }
   ],
   "source": [
    "n = 200\n",
    "p= .5\n",
    "C = np.random.binomial(1, p ,size= (n, n))\n",
    "print(C)\n",
    "U,S,V = linalg.svd(C)\n",
    "print(max(S))"
   ]
  },
  {
   "cell_type": "markdown",
   "metadata": {
    "id": "BteMKF-Sejl2"
   },
   "source": [
    "The largest singular value is similar to n*p"
   ]
  },
  {
   "cell_type": "markdown",
   "metadata": {
    "id": "2wtpDFmRe5ak"
   },
   "source": [
    "# 10. Scipy\n",
    "## 10.1. Least squares"
   ]
  },
  {
   "cell_type": "code",
   "execution_count": 3,
   "metadata": {
    "colab": {
     "base_uri": "https://localhost:8080/"
    },
    "id": "FZvsmf6qfApd",
    "outputId": "19981b45-43d8-42e4-ec17-c9e5065f3a4f"
   },
   "outputs": [
    {
     "data": {
      "text/plain": [
       "3"
      ]
     },
     "execution_count": 3,
     "metadata": {},
     "output_type": "execute_result"
    }
   ],
   "source": [
    "n,m=100,200\n",
    "A = np.random.normal(0, 1, (m, n))\n",
    "b= np.random.normal(0, 1,  m)\n",
    "x = linalg.lstsq(A, b,)[0]\n",
    "np.argmin(x)"
   ]
  },
  {
   "cell_type": "markdown",
   "metadata": {
    "id": "nhYgAEIJ0zta"
   },
   "source": [
    "## 10.2. Optimization"
   ]
  },
  {
   "cell_type": "code",
   "execution_count": 5,
   "metadata": {
    "colab": {
     "base_uri": "https://localhost:8080/"
    },
    "id": "DaSBJkxd0zPD",
    "outputId": "3db6ce64-0aab-4aee-c8dc-f3bac0740c44"
   },
   "outputs": [
    {
     "data": {
      "text/plain": [
       "42.206731248238405"
      ]
     },
     "execution_count": 5,
     "metadata": {},
     "output_type": "execute_result"
    }
   ],
   "source": [
    "def fun(x):\n",
    "    return (math.sin(x-2) ** 2) * math.exp(-x**2)\n",
    "\n",
    "fun1=np.vectorize(fun)\n",
    "x = np.linspace(-5,5)\n",
    "a = optimize.fsolve(fun1,x) \n",
    "a.max()"
   ]
  },
  {
   "cell_type": "markdown",
   "metadata": {
    "id": "uoXHgqoL4YlD"
   },
   "source": [
    "## 10.3. Pairwise distances"
   ]
  },
  {
   "cell_type": "code",
   "execution_count": 6,
   "metadata": {
    "colab": {
     "base_uri": "https://localhost:8080/"
    },
    "id": "rayM-smk4YTw",
    "outputId": "74609fdb-1c47-4388-8592-6d1ef8eb3154"
   },
   "outputs": [
    {
     "data": {
      "text/plain": [
       "array([[0.        , 5.09311828, 4.33285059, 4.11673791, 3.60408714,\n",
       "        3.68740373, 6.06804215, 5.25781985, 4.72760855, 4.4463039 ],\n",
       "       [5.09311828, 0.        , 2.98396646, 3.58935449, 4.07947141,\n",
       "        5.23300782, 4.82097072, 3.87722728, 3.97528552, 4.19392624],\n",
       "       [4.33285059, 2.98396646, 0.        , 4.16478198, 2.7263817 ,\n",
       "        4.63922617, 4.9393598 , 4.42477639, 3.13849603, 4.05342305],\n",
       "       [4.11673791, 3.58935449, 4.16478198, 0.        , 3.9615032 ,\n",
       "        4.72256301, 5.56518821, 5.16068193, 4.28605252, 4.74537961],\n",
       "       [3.60408714, 4.07947141, 2.7263817 , 3.9615032 , 0.        ,\n",
       "        4.23723846, 5.40266486, 4.92549349, 3.36023624, 4.05656499],\n",
       "       [3.68740373, 5.23300782, 4.63922617, 4.72256301, 4.23723846,\n",
       "        0.        , 5.54735735, 4.27751322, 4.1016492 , 4.46040786],\n",
       "       [6.06804215, 4.82097072, 4.9393598 , 5.56518821, 5.40266486,\n",
       "        5.54735735, 0.        , 4.54627029, 5.27223415, 2.99510034],\n",
       "       [5.25781985, 3.87722728, 4.42477639, 5.16068193, 4.92549349,\n",
       "        4.27751322, 4.54627029, 0.        , 4.14046944, 4.28899528],\n",
       "       [4.72760855, 3.97528552, 3.13849603, 4.28605252, 3.36023624,\n",
       "        4.1016492 , 5.27223415, 4.14046944, 0.        , 4.22124464],\n",
       "       [4.4463039 , 4.19392624, 4.05342305, 4.74537961, 4.05656499,\n",
       "        4.46040786, 2.99510034, 4.28899528, 4.22124464, 0.        ]])"
      ]
     },
     "execution_count": 6,
     "metadata": {},
     "output_type": "execute_result"
    }
   ],
   "source": [
    "n=10\n",
    "m=10\n",
    "X= np.random.normal(0, 1, (m, n))\n",
    "distance = np.zeros((m,n))\n",
    "for i in range(m):\n",
    "    for j in range(n):\n",
    "        distance[i,j]= np.absolute(linalg.norm(X[i]-X[j])) # distance of ith row and jth row\n",
    "distance"
   ]
  },
  {
   "cell_type": "markdown",
   "metadata": {
    "id": "2atjRJoMRBQk"
   },
   "source": [
    "# 11. Matploit\n",
    "## 11.1. Plotting a function"
   ]
  },
  {
   "cell_type": "code",
   "execution_count": 7,
   "metadata": {
    "colab": {
     "base_uri": "https://localhost:8080/",
     "height": 295
    },
    "id": "NC7J2QGARA8O",
    "outputId": "cfba182a-4e30-47f0-dbcb-dc6d0c5d1b0a"
   },
   "outputs": [
    {
     "data": {
      "image/png": "[encoded data removed]",
      "text/plain": [
       "<Figure size 432x288 with 1 Axes>"
      ]
     },
     "metadata": {
      "needs_background": "light"
     },
     "output_type": "display_data"
    }
   ],
   "source": [
    "def fun(x):\n",
    "    return (math.sin(x-2) ** 2) * math.exp(-x**2)\n",
    "\n",
    "fun1=np.vectorize(fun)\n",
    "x= np.linspace(0,2)\n",
    "a = scipy.optimize.fsolve(fun,6) \n",
    "plt.plot(x,fun1(x))\n",
    "plt.xlabel('x from 0 to 2') \n",
    "plt.title(\"graph of 'fun(x)' function\")\n",
    "plt.show()"
   ]
  },
  {
   "cell_type": "markdown",
   "metadata": {
    "id": "Umxcl93h519t"
   },
   "source": [
    "## 11.2.  Data"
   ]
  },
  {
   "cell_type": "code",
   "execution_count": 8,
   "metadata": {
    "colab": {
     "base_uri": "https://localhost:8080/",
     "height": 282
    },
    "id": "YSzU0Kv16AyU",
    "outputId": "84e40e7d-8304-4baf-808b-3e0112f62147"
   },
   "outputs": [
    {
     "data": {
      "text/plain": [
       "[<matplotlib.lines.Line2D at 0x243cff9ceb0>]"
      ]
     },
     "execution_count": 8,
     "metadata": {},
     "output_type": "execute_result"
    },
    {
     "data": {
      "image/png": "[encoded data removed]",
      "text/plain": [
       "<Figure size 432x288 with 1 Axes>"
      ]
     },
     "metadata": {
      "needs_background": "light"
     },
     "output_type": "display_data"
    }
   ],
   "source": [
    "X= np.random.normal(0, 1, (20, 10))\n",
    "b= np.random.normal(0,1, 10)\n",
    "z=np.random.normal(0, 1, 20)\n",
    "y= X@b + z\n",
    "\n",
    "b1 = linalg.lstsq(X, y,)[0]\n",
    "\n",
    "plt.plot(b1)\n",
    "plt.plot(b)\n"
   ]
  },
  {
   "cell_type": "markdown",
   "metadata": {
    "id": "xX_Yz6yd55iP"
   },
   "source": [
    "## 11.3. Histogram and density estimation"
   ]
  },
  {
   "cell_type": "code",
   "execution_count": 9,
   "metadata": {
    "colab": {
     "base_uri": "https://localhost:8080/",
     "height": 369
    },
    "id": "Q9iabc5y6ARt",
    "outputId": "42f53731-f441-4873-86e3-bb2d673a0088"
   },
   "outputs": [
    {
     "data": {
      "text/plain": [
       "(array([ 311.,  399.,  408.,  491.,  595.,  745.,  947., 1040., 1348.,\n",
       "        3716.]),\n",
       " array([0.00049047, 0.03939141, 0.07829234, 0.11719328, 0.15609421,\n",
       "        0.19499514, 0.23389608, 0.27279701, 0.31169795, 0.35059888,\n",
       "        0.38949982]),\n",
       " <BarContainer object of 10 artists>)"
      ]
     },
     "execution_count": 9,
     "metadata": {},
     "output_type": "execute_result"
    },
    {
     "data": {
      "image/png": "[encoded data removed]",
      "text/plain": [
       "<Figure size 432x288 with 1 Axes>"
      ]
     },
     "metadata": {
      "needs_background": "light"
     },
     "output_type": "display_data"
    }
   ],
   "source": [
    "z=np.random.normal(0,1, 10000)\n",
    "positions = np.vstack([z.ravel()])\n",
    "kernel =stats.gaussian_kde(z)\n",
    "Z = np.reshape(kernel(positions).transpose(), z.shape)\n",
    "\n",
    "counts, bins = np.histogram(Z)\n",
    "plt.hist(bins[:-1], bins, weights=counts)"
   ]
  }
 ],
 "metadata": {
  "colab": {
   "name": "AkutHakkiCan_E5.ipynb",
   "provenance": []
  },
  "kernelspec": {
   "display_name": "Python 3 (ipykernel)",
   "language": "python",
   "name": "python3"
  },
  "language_info": {
   "codemirror_mode": {
    "name": "ipython",
    "version": 3
   },
   "file_extension": ".py",
   "mimetype": "text/x-python",
   "name": "python",
   "nbconvert_exporter": "python",
   "pygments_lexer": "ipython3",
   "version": "3.10.0"
  }
 },
 "nbformat": 4,
 "nbformat_minor": 1
}
